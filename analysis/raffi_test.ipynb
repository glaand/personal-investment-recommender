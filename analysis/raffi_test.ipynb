{
 "cells": [
  {
   "cell_type": "code",
   "execution_count": 131,
   "metadata": {},
   "outputs": [],
   "source": [
    "import yfinance as yf\n",
    "import random\n",
    "import json\n",
    "import pandas as pd\n",
    "import matplotlib.pyplot as plt\n",
    "import random\n",
    "from itertools import product"
   ]
  },
  {
   "cell_type": "code",
   "execution_count": 19,
   "metadata": {},
   "outputs": [
    {
     "name": "stdout",
     "output_type": "stream",
     "text": [
      "Nestlé S.A.\n",
      "Packaged Foods\n",
      "CHF\n",
      "99.02\n"
     ]
    }
   ],
   "source": [
    "# VPN USA für yfinance\n",
    "\n",
    "# yfinance testen\n",
    "isin = \"CH0038863350\"\n",
    "ticker = yf.Ticker(isin)\n",
    "print(ticker.info['longName'])\n",
    "print(ticker.info['industry'])\n",
    "print(ticker.info['currency'])\n",
    "print(ticker.info['previousClose'])"
   ]
  },
  {
   "cell_type": "code",
   "execution_count": 18,
   "metadata": {},
   "outputs": [
    {
     "name": "stdout",
     "output_type": "stream",
     "text": [
      "ABB Ltd\n",
      "Alcon Inc.\n",
      "Geberit AG\n",
      "Givaudan SA\n",
      "Holcim Ltd\n",
      "Kuehne + Nagel International AG\n",
      "Logitech International S.A.\n",
      "Lonza Group AG\n",
      "Nestlé S.A.\n",
      "Novartis AG\n",
      "Partners Group Holding AG\n",
      "Compagnie Financière Richemont SA\n",
      "Roche Holding AG\n",
      "Sika AG\n",
      "Sonova Holding AG\n",
      "Swiss Life Holding AG\n",
      "Swiss Re AG\n",
      "Swisscom AG\n",
      "UBS Group AG\n",
      "Zurich Insurance Group AG\n",
      "Barry Callebaut AG\n",
      "Clariant AG\n",
      "Flughafen Zürich AG\n",
      "Galenica AG\n"
     ]
    }
   ],
   "source": [
    "test_list = [\"CH0012221716\", \"CH0432492467\", \"CH0030170408\", \"CH0010645932\", \"CH0012214059\", \"CH0025238863\", \"CH0025751329\", \"CH0013841017\", \"CH0038863350\", \"CH0012005267\",\n",
    "        \"CH0024608827\", \"CH0210483332\", \"CH0012032048\", \"CH0418792922\", \"CH0012549785\", \"CH0014852781\", \"CH0126881561\", \"CH0008742519\", \"CH0244767585\", \"CH0011075394\",\n",
    "        \"CH0009002962\", \"CH0012142631\", \"CH0319416936\", \"CH0360674466\"]\n",
    "\n",
    "for item in test_list:\n",
    "    ticker = yf.Ticker(item)\n",
    "    print(ticker.info['longName'])"
   ]
  },
  {
   "cell_type": "code",
   "execution_count": 183,
   "metadata": {},
   "outputs": [],
   "source": [
    "class Investor:\n",
    "    # Klassenattribute\n",
    "    cio_sell_list = ['CH0010645932', 'CH0025238863', 'CH0025751329', 'CH0126881561']\n",
    "    europe_countries = ['Germany', 'France', 'Netherlands', 'Spain', 'Italy', 'United Kingdom', 'Norway', 'Ireland', 'Europe']\n",
    "    asia_em_countries = ['Japan', 'Hong Kong', 'China', 'South Korea', 'Taiwan', 'Asia & EM']\n",
    "    empty_market_allocation = {\n",
    "        'United States': 0.,\n",
    "        'Europe': 0.,\n",
    "        'Switzerland': 0.,\n",
    "        'Asia & EM': 0.\n",
    "    }\n",
    "    empty_sector_allocation = {\n",
    "        'Financial Services': 0, \n",
    "        'Technology': 0., \n",
    "        'Industrials': 0., \n",
    "        'Energy': 0., \n",
    "        'Healthcare': 0., \n",
    "        'Consumer Defensive': 0., \n",
    "        'Consumer Cyclical': 0., \n",
    "        'Basic Materials': 0., \n",
    "        'Real Estate': 0., \n",
    "        'Communication Services': 0., \n",
    "        'Utilities': 0.,\n",
    "        'Mixed': 0.\n",
    "    }\n",
    "    market_colors = {\n",
    "        'United States': 'green',\n",
    "        'Europe': 'royalblue',\n",
    "        'Switzerland': 'red',\n",
    "        'Asia & EM': 'pink'\n",
    "    }\n",
    "    sector_colors = {\n",
    "        'Financial Services': 'lightblue', \n",
    "        'Technology': 'silver', \n",
    "        'Industrials': 'steelblue', \n",
    "        'Energy': 'orange', \n",
    "        'Healthcare': 'lightgreen', \n",
    "        'Consumer Defensive': 'tan', \n",
    "        'Consumer Cyclical': 'mediumpurple', \n",
    "        'Basic Materials': 'saddlebrown', \n",
    "        'Real Estate': 'maroon', \n",
    "        'Communication Services': 'gold', \n",
    "        'Utilities': 'teal',\n",
    "        'Mixed': 'dimgrey'\n",
    "    }\n",
    "    # TO DO: Fetch forex data from API; currently hard-coded (suffices for current requirements)\n",
    "    forex = {\n",
    "        'CHF': 1.,\n",
    "        'EUR': 0.9549,\n",
    "        'USD': 0.9023,\n",
    "        'GBP': 1.0953,\n",
    "        'GBp': 0.010953, # ACHTUNG, GBp (auch manchmal GBX genannt) sind Pence Sterling (1 GBP = 100 GBp = 100 GBx)\n",
    "        'NOK': 0.0808,\n",
    "        'JPY': 0.00603,\n",
    "        'HKD': 0.1153,\n",
    "        'KRW': 0.00067,\n",
    "        'TWD': 0.0278\n",
    "    }\n",
    "\n",
    "    def __init__(self, id, name, portfolio, investor_type, sector_bias='no_bias', investor_preference='dividends'):\n",
    "        # Instanzattribute\n",
    "        self._id = id\n",
    "        self._name = name\n",
    "        self._portfolio = portfolio\n",
    "        self._investor_type = investor_type\n",
    "        self._sector_bias = sector_bias\n",
    "        self._investor_preference =  investor_preference\n",
    "        self._portfolio_curreny = 'CHF'     # Momentan fix CHF\n",
    "        self._portfolio_value = 0\n",
    "        self._bulk_risks = []\n",
    "        self._sell_stocks = []\n",
    "        self._market_allocation = {}\n",
    "        self._sector_allocation = {}\n",
    "        self._market_allocation_difference = {}\n",
    "        self._sector_allocation_difference = {}\n",
    "        self._portfolio_beta = 0\n",
    "        self._high_beta_stocks = []\n",
    "\n",
    "    # Methoden\n",
    "    def get_name(self):\n",
    "        return f\"Investor's name is {self._name}.\"\n",
    "\n",
    "    def find_sell_stocks(self):\n",
    "        # Portfolio durchsuchen nach Aktien, die auf der Sell-Liste sind\n",
    "        for i in range(len(self._portfolio)):\n",
    "            if self._portfolio[i]['isin'] in Investor.cio_sell_list and self._portfolio[i]['isin'] not in self._sell_stocks:\n",
    "                self._sell_stocks.append(self._portfolio[i]['isin'])\n",
    "                print(f\"Attention! ISIN {self._portfolio[i]['isin']} is on the CIO 'Least Preferred' list.\")\n",
    "        if self._sell_stocks == []:\n",
    "            print(f\"No current positions in the portfolio are on the CIO 'Least Preferred' list.\")\n",
    "\n",
    "    def buy(self, isin, quantity):\n",
    "        # Aktie kaufen\n",
    "\n",
    "        # Überprüfen, ob ISIN existiert\n",
    "        stock_info = pd.read_csv('..\\data\\stock_info.tsv', sep='\\t') # TSV als Pandas-df\n",
    "        existing_isin = isin in stock_info['isin'].values\n",
    "        if not existing_isin:\n",
    "            return print(f'ISIN could not be found. Please check your input.')\n",
    "        \n",
    "        else:\n",
    "            # print(f\"Buying {quantity} units of ISIN {isin}...\")\n",
    "\n",
    "            # Checken, ob bereits im Portfolio\n",
    "            already_bought = False\n",
    "            for i in range(len(self._portfolio)): # Mehrfache Einträge der selben Aktie vermeiden; Position erhöhen\n",
    "                if self._portfolio[i]['isin'] == isin: # Falls Position im Portfolio, vorhandene Position erhöhen\n",
    "                    already_bought = True\n",
    "                    print(f'Position already in portfolio, increasing quantity by {quantity}.')\n",
    "                    self._portfolio[i]['quantity'] += quantity\n",
    "                    print(f'Updated position: {self._portfolio[i][\"quantity\"]} units of ISIN {self._portfolio[i][\"isin\"]}')\n",
    "                    break\n",
    "            if already_bought == False: # Falls noch nicht im Portfolio, neue Position\n",
    "                self._portfolio.append({'isin':isin, 'quantity':quantity})\n",
    "                print(f'New position. Successfully bought {quantity} units of ISIN {isin}.')\n",
    "\n",
    "            # print(f'Purchase successfully completed!')\n",
    "\n",
    "    def sell(self, isin, quantity):\n",
    "        # Aktie verkaufen\n",
    "        for position in self._portfolio:\n",
    "            if position['isin'] == isin and position['quantity'] >= quantity: # nur verkaufen wenn ISIN im Portfolio und genügend Einheiten\n",
    "                position['quantity'] -= quantity\n",
    "                print(f\"Sold {quantity} units of ISIN {isin}.\")\n",
    "                if position['quantity'] == 0:\n",
    "                    self._portfolio.remove(position)\n",
    "                    print(f\"Portfolio now holds 0 units of ISIN {isin}. Position removed.\")\n",
    "                self.fetch_portfolio_infos()\n",
    "                return\n",
    "        print(f\"ISIN {isin} is not in the portfolio or there are fewer than {quantity} units in the portfolio.\")\n",
    "\n",
    "\n",
    "    def fetch_portfolio_infos(self):\n",
    "        # aus stock_info Daten zu den Positionen fetchen & zuweisen\n",
    "        print('Fetching data for each portfolio position.')\n",
    "        stock_info = pd.read_csv('..\\data\\stock_info.tsv', sep='\\t') # TSV als Pandas-df\n",
    "        # stock_info = stock_info.fillna(0)\n",
    "\n",
    "        self._portfolio_value = 0\n",
    "\n",
    "        for position in self._portfolio:\n",
    "            # Infos zum relevanten Stock extrahieren\n",
    "            info = stock_info.loc[stock_info['isin'] == position['isin'], ['isin', 'longName', 'previousClose', 'currency', 'country' , 'sector', 'industry', 'dividendYield', 'beta', 'trailingPE', '52WeekChange']] # zeile aus stock-info von dieser Aktie\n",
    "            \n",
    "            # Infos zuweisen\n",
    "            position['name'] = info['longName'].values[0]       # Name\n",
    "            position['currency'] = info['currency'].values[0]   # Währung\n",
    "            if 'buy_price' not in position: # Kaufpreis, wird nur geschrieben, wenn davor keiner vorhanden war. Damit nicht bei späteren Updates überschrieben wird\n",
    "                position['buy_price'] = round(info['previousClose'].values[0], 2) # Kaufpreis\n",
    "            position['price'] = round(info['previousClose'].values[0], 2) # Preis\n",
    "            position['value'] = round(position['quantity']*position['price']*Investor.forex[position['currency']], 2) # Wert = Anzahl*Preis*Wechselkurs\n",
    "            self._portfolio_value += position['value']          # Gesamt-Portfoliowert aktualisieren\n",
    "            position['sector'] = info['sector'].values[0]       # Sektor\n",
    "            position['industry'] = info['industry'].values[0]   # Subsektor\n",
    "            position['country'] = info['country'].values[0]     # Land\n",
    "            position['dividend'] = info['dividendYield'].values[0]  # Dividende\n",
    "            position['beta'] = info['beta'].values[0]               # Beta\n",
    "            position['trailingPE'] = info['trailingPE'].values[0]   # PE\n",
    "            position['52WeekChange'] = info['52WeekChange'].values[0] # Prozentuale Veränderung letzte 52 Wochen\n",
    "\n",
    "            # Region für Allokation\n",
    "            if position['country'] in Investor.europe_countries:\n",
    "                position['region'] = 'Europe'\n",
    "            elif position['country'] in Investor.asia_em_countries:\n",
    "                position['region'] = 'Asia & EM'\n",
    "            else:\n",
    "                position['region'] = position['country'] # Switzerland & United States\n",
    "\n",
    "        # Anteil am Portfoliowert für jede Position\n",
    "        print('Updating portfolio percentage.')\n",
    "        self._bulk_risks = []\n",
    "        for position in self._portfolio:\n",
    "            position['portfolio_percent'] = round(position['value']/self._portfolio_value, 4)\n",
    "            if  position['portfolio_percent'] >= 0.1:\n",
    "                self._bulk_risks.append(position['isin'])\n",
    "                print(f\"Bulk risk detected for ISIN {position['isin']}.\")\n",
    "        print('All infos fetched and positions updated.')\n",
    "        print(f\"Updated portfolio value: {self._portfolio_value}\")\n",
    "\n",
    "        # Bugfix: GBp auf GBP ändern\n",
    "        for position in self._portfolio:\n",
    "            if position['currency'] == 'GBp':\n",
    "                position['currency'] = 'GBP'\n",
    "                position['price'] = position['price']/100\n",
    "                position['buy_price'] = position['buy_price']/100\n",
    "        print('Fixed GBp')\n",
    "\n",
    "    def calculate_allocation(self):\n",
    "        # Berechnung der Markt- und Sektorallokation des Portfolios\n",
    "        print('Calculating Market and Sector Allocation.')\n",
    "\n",
    "        # Zuerst: Leere Allokation\n",
    "        self._market_allocation = dict(Investor.empty_market_allocation)\n",
    "        self._sector_allocation = dict(Investor.empty_sector_allocation)\n",
    "        \n",
    "        # Aggregation\n",
    "        for position in self._portfolio:\n",
    "            region = position['region']\n",
    "            self._market_allocation[region] += position['portfolio_percent']\n",
    "            sector = position['sector']\n",
    "            self._sector_allocation[sector] += position['portfolio_percent']\n",
    "        if self._sector_allocation['Mixed'] == 0:\n",
    "            del self._sector_allocation['Mixed']\n",
    "        print('Allocation successfully calculated.')\n",
    "\n",
    "    def visualize_allocations(self, market=True, sector=True):\n",
    "        # Allokation Visualisieren\n",
    "        if market: # Markt Allokation\n",
    "            market_label_list = []\n",
    "            market_size_list = []\n",
    "            market_color_list = []\n",
    "            for market in self._market_allocation:\n",
    "                if self._market_allocation[market] != 0: # Leere Werte rausnehmen für klarere Visualisierung\n",
    "                    market_label_list.append(market)\n",
    "                    market_size_list.append(self._market_allocation[market])\n",
    "                    market_color_list.append(Investor.market_colors[market])\n",
    "\n",
    "            plt.pie(x=market_size_list, labels=market_label_list, autopct='%1.1f%%', colors=market_color_list, wedgeprops=dict(edgecolor='black'))\n",
    "            plt.title('Market Allocation')\n",
    "            plt.show()\n",
    "\n",
    "        if sector: # Sektor Allokation\n",
    "            sector_label_list = []\n",
    "            sector_size_list = []\n",
    "            sector_color_list = []\n",
    "            for sector in self._sector_allocation:\n",
    "                if self._sector_allocation[sector] != 0:\n",
    "                    sector_label_list.append(sector)\n",
    "                    sector_size_list.append(self._sector_allocation[sector])\n",
    "                    sector_color_list.append(Investor.sector_colors[sector])\n",
    "\n",
    "            plt.pie(x=sector_size_list, labels=sector_label_list, autopct='%1.1f%%', colors=sector_color_list, wedgeprops=dict(edgecolor='black'))\n",
    "            plt.title('Sector Allocation')\n",
    "            plt.show()\n",
    "    \n",
    "    def calculate_allocation_difference(self):\n",
    "        # Unterschied zwischen Kunden-Allokation und Benchmark-Allokation\n",
    "        print(f'Comparing portfolio to benchmark allocation.')\n",
    "        self._market_allocation_difference = dict(Investor.empty_market_allocation)\n",
    "        self._sector_allocation_difference = dict(Investor.empty_sector_allocation)\n",
    "\n",
    "        # print(f'Investor profile: {self._investor_type}')\n",
    "\n",
    "        with open(f'..\\data\\profile_{self._investor_type}.json') as json_file:\n",
    "            reference_allocation = json.load(json_file)\n",
    "\n",
    "        for market in self._market_allocation:\n",
    "            self._market_allocation_difference[market] = self._market_allocation[market] - reference_allocation['markets'][market]\n",
    "        \n",
    "        for sector in self._sector_allocation:\n",
    "            self._sector_allocation_difference[sector] = self._sector_allocation[sector] - reference_allocation['sectors'][sector]\n",
    "        print('Allocation differences were calculated successfully.')\n",
    "\n",
    "    def visualize_allocation_differences(self, market=True, sector=True):\n",
    "        # Allokations-Verletzungen visualisieren\n",
    "        if market:\n",
    "            market_diff_labels = []\n",
    "            market_diff_sizes = []\n",
    "            market_diff_colors = []\n",
    "            for market in self._market_allocation_difference:\n",
    "                market_diff_labels.append(market)\n",
    "                market_diff_sizes.append(round(self._market_allocation_difference[market]*100, 2))\n",
    "                market_diff_colors.append(Investor.market_colors[market])\n",
    "            plt.figure(figsize=(6,6))\n",
    "            plt.bar(x=market_diff_labels, height=market_diff_sizes, color=market_diff_colors)\n",
    "            for i in range(len(market_diff_sizes)):\n",
    "                plt.text(i, market_diff_sizes[i]//2, str(market_diff_sizes[i])+'%', ha = 'center')\n",
    "            plt.xlabel('Market')\n",
    "            plt.ylabel('Difference to Benchmark in %')\n",
    "            plt.show\n",
    "\n",
    "        if sector:\n",
    "            sector_diff_labels = []\n",
    "            sector_diff_sizes = []\n",
    "            sector_diff_colors = []\n",
    "            for sector in self._sector_allocation_difference:\n",
    "                sector_diff_labels.append(sector)\n",
    "                sector_diff_sizes.append(round(self._sector_allocation_difference[sector]*100, 2))\n",
    "                sector_diff_colors.append(Investor.sector_colors[sector])\n",
    "            plt.figure(figsize=(12,6))\n",
    "            plt.bar(x=sector_diff_labels, height=sector_diff_sizes, color=sector_diff_colors)\n",
    "            for i in range(len(sector_diff_sizes)):\n",
    "                plt.text(i, sector_diff_sizes[i]//2, str(sector_diff_sizes[i])+'%', ha = 'center')\n",
    "            plt.xlabel('Sector')\n",
    "            plt.xticks(rotation=90)\n",
    "            plt.ylabel('Difference to Benchmark in %')\n",
    "            plt.show\n",
    "\n",
    "    def print_portfolio(self):\n",
    "        # Portfolio anzeigen\n",
    "        if len(self._portfolio) == 0: # leeres Portfolio, abbrechen mit Nachricht\n",
    "            return print('There are currently no positions in the portfolio.')\n",
    "        if 'currency' not in self._portfolio[-1]: # Infos noch nicht gefetcht, abbrechen mit Nachricht\n",
    "            return print('Please fetch stock info first.')\n",
    "        \n",
    "        print(f'Currency\\tQuantity\\tName\\t\\t\\t\\tISIN\\t\\tBuy Price\\tMarket Price\\tMarket Value')\n",
    "        print(f'----------------------------------------------------------------------------------------------------------------------------')\n",
    "        for position in self._portfolio:\n",
    "            spaces = 30 - len(position['name'][:30])\n",
    "            print(f\"{position['currency']}\\t\\t{position['quantity']}\\t\\t{position['name'][:30]}{spaces*' '}\\t{position['isin']}\\t{position['buy_price']}\\t\\t{position['price']}\\t\\t{position['value']}\")\n",
    "            print(f'----------------------------------------------------------------------------------------------------------------------------')\n",
    "\n",
    "    def calculate_portfolio_beta(self):\n",
    "        \"\"\"\n",
    "        Grobe Risikoabschätzung, in Zukunft ersetzen mit Varianzberechnung\n",
    "        \"\"\"\n",
    "        self._portfolio_beta = 0 # reset portfolio beta\n",
    "        self._high_beta_stocks = []\n",
    "        for position in self._portfolio:\n",
    "            self._portfolio_beta += (position['beta']*position['portfolio_percent'])\n",
    "            if position['beta'] >= 1.5:\n",
    "                self._high_beta_stocks.append(position['isin'])\n",
    "        self._portfolio_beta = round(self._portfolio_beta, 2)\n",
    "        print(f\"Updated Portfolio-Beta. It's currently at {self._portfolio_beta}\")\n",
    "\n",
    "    def random_portfolio(self):\n",
    "        \"\"\"\n",
    "        To Do - Priority: 3\n",
    "        \"\"\"\n",
    "        pass\n",
    "\n",
    "    def write_json(self):\n",
    "        json_object = json.dumps(self.__dict__, indent=4, ensure_ascii=False)\n",
    "        id = self._id\n",
    "        with open(f'{id}.json', 'w', encoding='utf-8') as outfile:\n",
    "            json_object = json_object.replace(\"NaN\", '\"NaN\"')\n",
    "            outfile.write(json_object)\n",
    "        print(f\"Successfully created JSON file named {id}.json\")\n",
    "    \n",
    "    def generate_json(self):\n",
    "        json_object = json.dumps(self.__dict__, indent=4, ensure_ascii=False)\n",
    "        json_object = json_object.replace(\"NaN\", '\"NaN\"') # NaN Werte die beim Scraping verloren gehen ersetzen\n",
    "        return json_object\n",
    "\n",
    "    def __str__(self) -> str:\n",
    "        return f\"Investor's name is {self._name}.\"\n",
    "    \n",
    "    def __repr__(self):\n",
    "        return f\"{self._name}\""
   ]
  },
  {
   "cell_type": "markdown",
   "metadata": {},
   "source": [
    "__________\n",
    "## Start of Testing\n",
    "__________"
   ]
  },
  {
   "cell_type": "code",
   "execution_count": 75,
   "metadata": {},
   "outputs": [
    {
     "data": {
      "text/plain": [
       "[Raphael]"
      ]
     },
     "execution_count": 75,
     "metadata": {},
     "output_type": "execute_result"
    }
   ],
   "source": [
    "# Test: Random Investor\n",
    "investors = []\n",
    "\n",
    "def random_investor():\n",
    "    rand_id = ''\n",
    "    for i in range(6):\n",
    "        rand_id+=(str(random.randint(0,9)))\n",
    "    id ='000001'\n",
    "    name = \"Raphael\"\n",
    "    empty_portfolio = []\n",
    "\n",
    "    investors.append(Investor(id, name, empty_portfolio, \"swiss-bias\"))\n",
    "\n",
    "random_investor()\n",
    "investors\n",
    "\n"
   ]
  },
  {
   "cell_type": "code",
   "execution_count": 76,
   "metadata": {},
   "outputs": [
    {
     "data": {
      "text/plain": [
       "[]"
      ]
     },
     "execution_count": 76,
     "metadata": {},
     "output_type": "execute_result"
    }
   ],
   "source": [
    "investors[0]._sell_stocks\n",
    "investors[0]._portfolio\n",
    "investors[0]._id\n",
    "investors[0]._portfolio\n",
    "# investors[0]._market_allocation\n",
    "# investors[0]._bulk_risks"
   ]
  },
  {
   "cell_type": "code",
   "execution_count": 77,
   "metadata": {},
   "outputs": [
    {
     "name": "stdout",
     "output_type": "stream",
     "text": [
      "New position. Successfully bought 100 units of ISIN CH0012005267.\n",
      "[{'isin': 'CH0012005267', 'quantity': 100}]\n"
     ]
    }
   ],
   "source": [
    "# Test: Aktie kaufen\n",
    "investors[0].buy(isin='CH0012005267', quantity=100)\n",
    "print(investors[0]._portfolio)"
   ]
  },
  {
   "cell_type": "code",
   "execution_count": 26,
   "metadata": {},
   "outputs": [
    {
     "name": "stdout",
     "output_type": "stream",
     "text": [
      "Buying 10 units of ISIN CH0025751329...\n",
      "New position.\n",
      "Successfully bought 10 units of ISIN CH0025751329.\n",
      "Purchase successfully completed!\n",
      "[{'isin': 'CH0012005267', 'quantity': 100}, {'isin': 'CH0025751329', 'quantity': 10}]\n"
     ]
    }
   ],
   "source": [
    "# Test: andere Aktie kaufen\n",
    "investors[0].buy(isin='CH0025751329', quantity=10)\n",
    "print(investors[0]._portfolio)"
   ]
  },
  {
   "cell_type": "code",
   "execution_count": 9,
   "metadata": {},
   "outputs": [
    {
     "name": "stdout",
     "output_type": "stream",
     "text": [
      "Buying 200 units of ISIN JP3732000009...\n",
      "New position.\n",
      "Successfully bought 200 units of ISIN JP3732000009.\n",
      "Purchase successfully completed!\n",
      "Buying 50 units of ISIN CH0025751329...\n",
      "Position already in portfolio, increasing quantity by 50.\n",
      "Updated position: 60 units of ISIN CH0025751329\n",
      "Purchase successfully completed!\n",
      "Buying 15 units of ISIN US0378331005...\n",
      "New position.\n",
      "Successfully bought 15 units of ISIN US0378331005.\n",
      "Purchase successfully completed!\n",
      "Buying 15 units of ISIN US6541061031...\n",
      "New position.\n",
      "Successfully bought 15 units of ISIN US6541061031.\n",
      "Purchase successfully completed!\n",
      "Buying 15 units of ISIN US0378331005...\n",
      "Position already in portfolio, increasing quantity by 15.\n",
      "Updated position: 30 units of ISIN US0378331005\n",
      "Purchase successfully completed!\n",
      "Buying 10 units of ISIN FR0000121485...\n",
      "New position.\n",
      "Successfully bought 10 units of ISIN FR0000121485.\n",
      "Purchase successfully completed!\n",
      "Buying 10 units of ISIN CH0011075394...\n",
      "New position.\n",
      "Successfully bought 10 units of ISIN CH0011075394.\n",
      "Purchase successfully completed!\n",
      "Buying 10 units of ISIN CH0012214059...\n",
      "New position.\n",
      "Successfully bought 10 units of ISIN CH0012214059.\n",
      "Purchase successfully completed!\n",
      "Buying 15 units of ISIN CH0030170408...\n",
      "New position.\n",
      "Successfully bought 15 units of ISIN CH0030170408.\n",
      "Purchase successfully completed!\n",
      "Buying 15 units of ISIN IT0003128367...\n",
      "New position.\n",
      "Successfully bought 15 units of ISIN IT0003128367.\n",
      "Purchase successfully completed!\n",
      "Buying 10 units of ISIN FR0000120073...\n",
      "New position.\n",
      "Successfully bought 10 units of ISIN FR0000120073.\n",
      "Purchase successfully completed!\n",
      "Buying 10 units of ISIN DE0005557508...\n",
      "New position.\n",
      "Successfully bought 10 units of ISIN DE0005557508.\n",
      "Purchase successfully completed!\n",
      "Buying 15 units of ISIN CH0038863350...\n",
      "New position.\n",
      "Successfully bought 15 units of ISIN CH0038863350.\n",
      "Purchase successfully completed!\n",
      "Buying 15 units of ISIN CH0018294154...\n",
      "New position.\n",
      "Successfully bought 15 units of ISIN CH0018294154.\n",
      "Purchase successfully completed!\n",
      "Buying 10 units of ISIN CH0012221716...\n",
      "New position.\n",
      "Successfully bought 10 units of ISIN CH0012221716.\n",
      "Purchase successfully completed!\n",
      "Buying 20 units of ISIN CH0012032048...\n",
      "New position.\n",
      "Successfully bought 20 units of ISIN CH0012032048.\n",
      "Purchase successfully completed!\n",
      "Buying 15 units of ISIN GB0009895292...\n",
      "New position.\n",
      "Successfully bought 15 units of ISIN GB0009895292.\n",
      "Purchase successfully completed!\n"
     ]
    }
   ],
   "source": [
    "# Test: einige Aktien kaufen\n",
    "investors[0].buy(isin='JP3732000009', quantity=200)\n",
    "investors[0].buy(isin='CH0025751329', quantity=50)\n",
    "investors[0].buy(isin='US0378331005', quantity=15)\n",
    "investors[0].buy(isin='US6541061031', quantity=15)\n",
    "investors[0].buy(isin='US0378331005', quantity=15)\n",
    "investors[0].buy(isin='FR0000121485', quantity=10)\n",
    "investors[0].buy(isin='CH0011075394', quantity=10)\n",
    "investors[0].buy(isin='CH0012214059', quantity=10)\n",
    "investors[0].buy(isin='CH0030170408', quantity=15)\n",
    "investors[0].buy(isin='IT0003128367', quantity=15)\n",
    "investors[0].buy(isin='FR0000120073', quantity=10)\n",
    "investors[0].buy(isin='DE0005557508', quantity=10)\n",
    "investors[0].buy(isin='CH0038863350', quantity=15)\n",
    "investors[0].buy(isin='CH0018294154', quantity=15)\n",
    "investors[0].buy(isin='CH0012221716', quantity=10)\n",
    "investors[0].buy(isin='CH0012032048', quantity=20)\n",
    "investors[0].buy(isin='GB0009895292', quantity=15)\n",
    "# investors[0].buy(isin='LU1169822779', quantity=15) # Fund, work in progress"
   ]
  },
  {
   "cell_type": "code",
   "execution_count": 10,
   "metadata": {},
   "outputs": [
    {
     "data": {
      "text/plain": [
       "[{'isin': 'CH0012005267', 'quantity': 100},\n",
       " {'isin': 'CH0025751329', 'quantity': 60},\n",
       " {'isin': 'JP3732000009', 'quantity': 200},\n",
       " {'isin': 'US0378331005', 'quantity': 30},\n",
       " {'isin': 'US6541061031', 'quantity': 15},\n",
       " {'isin': 'FR0000121485', 'quantity': 10},\n",
       " {'isin': 'CH0011075394', 'quantity': 10},\n",
       " {'isin': 'CH0012214059', 'quantity': 10},\n",
       " {'isin': 'CH0030170408', 'quantity': 15},\n",
       " {'isin': 'IT0003128367', 'quantity': 15},\n",
       " {'isin': 'FR0000120073', 'quantity': 10},\n",
       " {'isin': 'DE0005557508', 'quantity': 10},\n",
       " {'isin': 'CH0038863350', 'quantity': 15},\n",
       " {'isin': 'CH0018294154', 'quantity': 15},\n",
       " {'isin': 'CH0012221716', 'quantity': 10},\n",
       " {'isin': 'CH0012032048', 'quantity': 20},\n",
       " {'isin': 'GB0009895292', 'quantity': 15}]"
      ]
     },
     "execution_count": 10,
     "metadata": {},
     "output_type": "execute_result"
    }
   ],
   "source": [
    "investors[0]._portfolio"
   ]
  },
  {
   "cell_type": "code",
   "execution_count": 11,
   "metadata": {},
   "outputs": [
    {
     "name": "stdout",
     "output_type": "stream",
     "text": [
      "Attention! ISIN CH0025751329 is on the CIO 'Least Preferred' list.\n"
     ]
    }
   ],
   "source": [
    "# Test: Sell-stocks identifizieren\n",
    "investors[0].find_sell_stocks()"
   ]
  },
  {
   "cell_type": "code",
   "execution_count": 12,
   "metadata": {},
   "outputs": [
    {
     "data": {
      "text/plain": [
       "['CH0025751329']"
      ]
     },
     "execution_count": 12,
     "metadata": {},
     "output_type": "execute_result"
    }
   ],
   "source": [
    "# Test: Sell-Stocks ausgeben\n",
    "investors[0]._sell_stocks"
   ]
  },
  {
   "cell_type": "code",
   "execution_count": 13,
   "metadata": {},
   "outputs": [
    {
     "name": "stdout",
     "output_type": "stream",
     "text": [
      "Fetching data for each portfolio position.\n",
      "Updating portfolio percentage.\n",
      "Bulk risk detected for ISIN CH0012005267.\n",
      "Bulk risk detected for ISIN CH0030170408.\n",
      "Bulk risk detected for ISIN CH0012032048.\n",
      "All infos fetched and positions updated.\n",
      "Updated portfolio value: 48541.07000000001\n",
      "Fixed GBp\n"
     ]
    }
   ],
   "source": [
    "# Test: Fetch_Portfolio_infos\n",
    "investors[0].fetch_portfolio_infos()"
   ]
  },
  {
   "cell_type": "code",
   "execution_count": 14,
   "metadata": {},
   "outputs": [
    {
     "data": {
      "text/plain": [
       "['CH0012005267', 'CH0030170408', 'CH0012032048']"
      ]
     },
     "execution_count": 14,
     "metadata": {},
     "output_type": "execute_result"
    }
   ],
   "source": [
    "# Test: Bulk Risks ausgeben\n",
    "investors[0]._bulk_risks"
   ]
  },
  {
   "cell_type": "code",
   "execution_count": 15,
   "metadata": {},
   "outputs": [
    {
     "data": {
      "text/plain": [
       "[{'isin': 'CH0012005267',\n",
       "  'quantity': 100,\n",
       "  'name': 'Novartis AG',\n",
       "  'currency': 'CHF',\n",
       "  'buy_price': 87.38,\n",
       "  'price': 87.38,\n",
       "  'value': 8738.0,\n",
       "  'sector': 'Healthcare',\n",
       "  'industry': 'Drug Manufacturers - General',\n",
       "  'country': 'Switzerland',\n",
       "  'dividend': 0.0366,\n",
       "  'beta': 0.487394,\n",
       "  'trailingPE': 26.710768,\n",
       "  '52WeekChange': 0.13805676,\n",
       "  'region': 'Switzerland',\n",
       "  'portfolio_percent': 0.18},\n",
       " {'isin': 'CH0025751329',\n",
       "  'quantity': 60,\n",
       "  'name': 'Logitech International S.A.',\n",
       "  'currency': 'CHF',\n",
       "  'buy_price': 64.78,\n",
       "  'price': 64.78,\n",
       "  'value': 3886.8,\n",
       "  'sector': 'Technology',\n",
       "  'industry': 'Computer Hardware',\n",
       "  'country': 'Switzerland',\n",
       "  'dividend': 0.0164,\n",
       "  'beta': 0.630634,\n",
       "  'trailingPE': 35.53591,\n",
       "  '52WeekChange': 0.47394764,\n",
       "  'region': 'Switzerland',\n",
       "  'portfolio_percent': 0.0801},\n",
       " {'isin': 'JP3732000009',\n",
       "  'quantity': 200,\n",
       "  'name': 'SoftBank Corp.',\n",
       "  'currency': 'JPY',\n",
       "  'buy_price': 1671.5,\n",
       "  'price': 1671.5,\n",
       "  'value': 2015.83,\n",
       "  'sector': 'Communication Services',\n",
       "  'industry': 'Telecom Services',\n",
       "  'country': 'Japan',\n",
       "  'dividend': 0.0515,\n",
       "  'beta': 0.108687,\n",
       "  'trailingPE': 14.617392,\n",
       "  '52WeekChange': 0.15236127,\n",
       "  'region': 'Asia & EM',\n",
       "  'portfolio_percent': 0.0415},\n",
       " {'isin': 'US0378331005',\n",
       "  'quantity': 30,\n",
       "  'name': 'Apple Inc.',\n",
       "  'currency': 'USD',\n",
       "  'buy_price': 178.72,\n",
       "  'price': 178.72,\n",
       "  'value': 4837.77,\n",
       "  'sector': 'Technology',\n",
       "  'industry': 'Consumer Electronics',\n",
       "  'country': 'United States',\n",
       "  'dividend': 0.0054,\n",
       "  'beta': 1.308,\n",
       "  'trailingPE': 29.77311,\n",
       "  '52WeekChange': 0.2314055,\n",
       "  'region': 'United States',\n",
       "  'portfolio_percent': 0.0997},\n",
       " {'isin': 'US6541061031',\n",
       "  'quantity': 15,\n",
       "  'name': 'NIKE, Inc.',\n",
       "  'currency': 'USD',\n",
       "  'buy_price': 102.04,\n",
       "  'price': 102.04,\n",
       "  'value': 1381.06,\n",
       "  'sector': 'Consumer Cyclical',\n",
       "  'industry': 'Footwear & Accessories',\n",
       "  'country': 'United States',\n",
       "  'dividend': 0.013200001,\n",
       "  'beta': 1.106,\n",
       "  'trailingPE': 31.793211,\n",
       "  '52WeekChange': 0.16303492,\n",
       "  'region': 'United States',\n",
       "  'portfolio_percent': 0.0285},\n",
       " {'isin': 'FR0000121485',\n",
       "  'quantity': 10,\n",
       "  'name': 'Kering SA',\n",
       "  'currency': 'EUR',\n",
       "  'buy_price': 409.5,\n",
       "  'price': 409.5,\n",
       "  'value': 3910.32,\n",
       "  'sector': 'Consumer Cyclical',\n",
       "  'industry': 'Luxury Goods',\n",
       "  'country': 'France',\n",
       "  'dividend': 0.0342,\n",
       "  'beta': 1.147,\n",
       "  'trailingPE': 14.757281,\n",
       "  '52WeekChange': -0.10784316,\n",
       "  'region': 'Europe',\n",
       "  'portfolio_percent': 0.0806},\n",
       " {'isin': 'CH0011075394',\n",
       "  'quantity': 10,\n",
       "  'name': 'Zurich Insurance Group AG',\n",
       "  'currency': 'CHF',\n",
       "  'buy_price': 431.1,\n",
       "  'price': 431.1,\n",
       "  'value': 4311.0,\n",
       "  'sector': 'Financial Services',\n",
       "  'industry': 'Insurance - Diversified',\n",
       "  'country': 'Switzerland',\n",
       "  'dividend': 0.0557,\n",
       "  'beta': 0.614209,\n",
       "  'trailingPE': 14.908399,\n",
       "  '52WeekChange': 0.034805536,\n",
       "  'region': 'Switzerland',\n",
       "  'portfolio_percent': 0.0888},\n",
       " {'isin': 'CH0012214059',\n",
       "  'quantity': 10,\n",
       "  'name': 'Holcim Ltd',\n",
       "  'currency': 'CHF',\n",
       "  'buy_price': 57.88,\n",
       "  'price': 57.88,\n",
       "  'value': 578.8,\n",
       "  'sector': 'Basic Materials',\n",
       "  'industry': 'Building Materials',\n",
       "  'country': 'Switzerland',\n",
       "  'dividend': 0.0432,\n",
       "  'beta': 1.088999,\n",
       "  'trailingPE': 10.034782,\n",
       "  '52WeekChange': 0.3650943,\n",
       "  'region': 'Switzerland',\n",
       "  'portfolio_percent': 0.0119},\n",
       " {'isin': 'CH0030170408',\n",
       "  'quantity': 15,\n",
       "  'name': 'Geberit AG',\n",
       "  'currency': 'CHF',\n",
       "  'buy_price': 443.4,\n",
       "  'price': 443.4,\n",
       "  'value': 6651.0,\n",
       "  'sector': 'Industrials',\n",
       "  'industry': 'Building Products & Equipment',\n",
       "  'country': 'Switzerland',\n",
       "  'dividend': 0.028399998,\n",
       "  'beta': 0.763941,\n",
       "  'trailingPE': 22.057632,\n",
       "  '52WeekChange': 0.01627326,\n",
       "  'region': 'Switzerland',\n",
       "  'portfolio_percent': 0.137},\n",
       " {'isin': 'IT0003128367',\n",
       "  'quantity': 15,\n",
       "  'name': 'Enel SpA',\n",
       "  'currency': 'EUR',\n",
       "  'buy_price': 5.74,\n",
       "  'price': 5.74,\n",
       "  'value': 82.22,\n",
       "  'sector': 'Utilities',\n",
       "  'industry': 'Utilities - Diversified',\n",
       "  'country': 'Italy',\n",
       "  'dividend': 0.069699995,\n",
       "  'beta': 0.932,\n",
       "  'trailingPE': 14.3550005,\n",
       "  '52WeekChange': 0.3404926,\n",
       "  'region': 'Europe',\n",
       "  'portfolio_percent': 0.0017},\n",
       " {'isin': 'FR0000120073',\n",
       "  'quantity': 10,\n",
       "  'name': \"L'Air Liquide S.A.\",\n",
       "  'currency': 'EUR',\n",
       "  'buy_price': 159.34,\n",
       "  'price': 159.34,\n",
       "  'value': 1521.54,\n",
       "  'sector': 'Basic Materials',\n",
       "  'industry': 'Specialty Chemicals',\n",
       "  'country': 'France',\n",
       "  'dividend': 0.0185,\n",
       "  'beta': 0.626,\n",
       "  'trailingPE': 26.039537,\n",
       "  '52WeekChange': 0.31729496,\n",
       "  'region': 'Europe',\n",
       "  'portfolio_percent': 0.0313},\n",
       " {'isin': 'DE0005557508',\n",
       "  'quantity': 10,\n",
       "  'name': 'Deutsche Telekom AG',\n",
       "  'currency': 'EUR',\n",
       "  'buy_price': 20.34,\n",
       "  'price': 20.34,\n",
       "  'value': 194.23,\n",
       "  'sector': 'Communication Services',\n",
       "  'industry': 'Telecom Services',\n",
       "  'country': 'Germany',\n",
       "  'dividend': 0.0344,\n",
       "  'beta': 0.574,\n",
       "  'trailingPE': 18.463964,\n",
       "  '52WeekChange': 0.11601758,\n",
       "  'region': 'Europe',\n",
       "  'portfolio_percent': 0.004},\n",
       " {'isin': 'CH0038863350',\n",
       "  'quantity': 15,\n",
       "  'name': 'Nestlé S.A.',\n",
       "  'currency': 'CHF',\n",
       "  'buy_price': 103.42,\n",
       "  'price': 103.42,\n",
       "  'value': 1551.3,\n",
       "  'sector': 'Consumer Defensive',\n",
       "  'industry': 'Packaged Foods',\n",
       "  'country': 'Switzerland',\n",
       "  'dividend': 0.0286,\n",
       "  'beta': 0.343,\n",
       "  'trailingPE': 28.47514,\n",
       "  '52WeekChange': -0.04165119,\n",
       "  'region': 'Switzerland',\n",
       "  'portfolio_percent': 0.032},\n",
       " {'isin': 'CH0018294154',\n",
       "  'quantity': 15,\n",
       "  'name': 'PSP Swiss Property AG',\n",
       "  'currency': 'CHF',\n",
       "  'buy_price': 110.2,\n",
       "  'price': 110.2,\n",
       "  'value': 1653.0,\n",
       "  'sector': 'Real Estate',\n",
       "  'industry': 'Real Estate Services',\n",
       "  'country': 'Switzerland',\n",
       "  'dividend': 0.0344,\n",
       "  'beta': 0.355233,\n",
       "  'trailingPE': 27.755102,\n",
       "  '52WeekChange': 0.09433961,\n",
       "  'region': 'Switzerland',\n",
       "  'portfolio_percent': 0.0341},\n",
       " {'isin': 'CH0012221716',\n",
       "  'quantity': 10,\n",
       "  'name': 'ABB Ltd',\n",
       "  'currency': 'CHF',\n",
       "  'buy_price': 32.66,\n",
       "  'price': 32.66,\n",
       "  'value': 326.6,\n",
       "  'sector': 'Industrials',\n",
       "  'industry': 'Electrical Equipment & Parts',\n",
       "  'country': 'Switzerland',\n",
       "  'dividend': 0.0257,\n",
       "  'beta': 0.956073,\n",
       "  'trailingPE': 18.620481,\n",
       "  '52WeekChange': 0.2204783,\n",
       "  'region': 'Switzerland',\n",
       "  'portfolio_percent': 0.0067},\n",
       " {'isin': 'CH0012032048',\n",
       "  'quantity': 20,\n",
       "  'name': 'Roche Holding AG',\n",
       "  'currency': 'CHF',\n",
       "  'buy_price': 252.5,\n",
       "  'price': 252.5,\n",
       "  'value': 5050.0,\n",
       "  'sector': 'Healthcare',\n",
       "  'industry': 'Drug Manufacturers - General',\n",
       "  'country': 'Switzerland',\n",
       "  'dividend': 0.0376,\n",
       "  'beta': 0.178762,\n",
       "  'trailingPE': 18.388039,\n",
       "  '52WeekChange': -0.22546011,\n",
       "  'region': 'Switzerland',\n",
       "  'portfolio_percent': 0.104},\n",
       " {'isin': 'GB0009895292',\n",
       "  'quantity': 15,\n",
       "  'name': 'AstraZeneca PLC',\n",
       "  'currency': 'GBP',\n",
       "  'buy_price': 112.7,\n",
       "  'price': 112.7,\n",
       "  'value': 1851.6,\n",
       "  'sector': 'Healthcare',\n",
       "  'industry': 'Drug Manufacturers - General',\n",
       "  'country': 'United Kingdom',\n",
       "  'dividend': 0.0208,\n",
       "  'beta': 0.162,\n",
       "  'trailingPE': 33.578945,\n",
       "  '52WeekChange': 0.14894485,\n",
       "  'region': 'Europe',\n",
       "  'portfolio_percent': 0.0381}]"
      ]
     },
     "execution_count": 15,
     "metadata": {},
     "output_type": "execute_result"
    }
   ],
   "source": [
    "# Test: Portfolio ausgeben nach dem Fetch\n",
    "investors[0]._portfolio"
   ]
  },
  {
   "cell_type": "code",
   "execution_count": 16,
   "metadata": {},
   "outputs": [
    {
     "data": {
      "text/plain": [
       "48541.07000000001"
      ]
     },
     "execution_count": 16,
     "metadata": {},
     "output_type": "execute_result"
    }
   ],
   "source": [
    "investors[0]._portfolio_value"
   ]
  },
  {
   "cell_type": "code",
   "execution_count": 17,
   "metadata": {},
   "outputs": [
    {
     "name": "stdout",
     "output_type": "stream",
     "text": [
      "Calculating Market and Sector Allocation.\n",
      "Allocation successfully calculated.\n"
     ]
    }
   ],
   "source": [
    "# Test: Allokationen berechnen\n",
    "investors[0].calculate_allocation()"
   ]
  },
  {
   "cell_type": "code",
   "execution_count": 18,
   "metadata": {},
   "outputs": [
    {
     "data": {
      "text/plain": [
       "{'Financial Services': 0.0888,\n",
       " 'Technology': 0.17980000000000002,\n",
       " 'Industrials': 0.14370000000000002,\n",
       " 'Energy': 0.0,\n",
       " 'Healthcare': 0.3221,\n",
       " 'Consumer Defensive': 0.032,\n",
       " 'Consumer Cyclical': 0.1091,\n",
       " 'Basic Materials': 0.0432,\n",
       " 'Real Estate': 0.0341,\n",
       " 'Communication Services': 0.0455,\n",
       " 'Utilities': 0.0017}"
      ]
     },
     "execution_count": 18,
     "metadata": {},
     "output_type": "execute_result"
    }
   ],
   "source": [
    "investors[0]._market_allocation\n",
    "investors[0]._sector_allocation"
   ]
  },
  {
   "cell_type": "code",
   "execution_count": 19,
   "metadata": {},
   "outputs": [
    {
     "data": {
      "image/png": "[encoded data removed]",
      "text/plain": [
       "<Figure size 640x480 with 1 Axes>"
      ]
     },
     "metadata": {},
     "output_type": "display_data"
    },
    {
     "data": {
      "image/png": "[encoded data removed]",
      "text/plain": [
       "<Figure size 640x480 with 1 Axes>"
      ]
     },
     "metadata": {},
     "output_type": "display_data"
    }
   ],
   "source": [
    "# Testing: Allokation visualisieren\n",
    "investors[0].visualize_allocations()"
   ]
  },
  {
   "cell_type": "code",
   "execution_count": 20,
   "metadata": {},
   "outputs": [
    {
     "name": "stdout",
     "output_type": "stream",
     "text": [
      "Comparing portfolio to benchmark allocation.\n",
      "Investor profile: swiss-bias\n",
      "Allocation differences were calculated successfully.\n"
     ]
    }
   ],
   "source": [
    "investors[0].calculate_allocation_difference()"
   ]
  },
  {
   "cell_type": "code",
   "execution_count": 21,
   "metadata": {},
   "outputs": [
    {
     "data": {
      "text/plain": [
       "{'United States': -0.021799999999999986,\n",
       " 'Europe': 0.03570000000000001,\n",
       " 'Switzerland': -0.025399999999999867,\n",
       " 'Asia & EM': 0.011500000000000003}"
      ]
     },
     "execution_count": 21,
     "metadata": {},
     "output_type": "execute_result"
    }
   ],
   "source": [
    "investors[0]._market_allocation_difference"
   ]
  },
  {
   "cell_type": "code",
   "execution_count": 22,
   "metadata": {},
   "outputs": [
    {
     "data": {
      "text/plain": [
       "{'Financial Services': -0.09119999999999999,\n",
       " 'Technology': 0.09980000000000001,\n",
       " 'Industrials': -0.006299999999999972,\n",
       " 'Energy': -0.02,\n",
       " 'Healthcare': 0.0821,\n",
       " 'Consumer Defensive': -0.118,\n",
       " 'Consumer Cyclical': 0.0291,\n",
       " 'Basic Materials': -0.0068000000000000005,\n",
       " 'Real Estate': 0.0341,\n",
       " 'Communication Services': 0.0155,\n",
       " 'Utilities': -0.0183,\n",
       " 'Mixed': 0.0}"
      ]
     },
     "execution_count": 22,
     "metadata": {},
     "output_type": "execute_result"
    }
   ],
   "source": [
    "investors[0]._sector_allocation_difference"
   ]
  },
  {
   "cell_type": "code",
   "execution_count": 23,
   "metadata": {},
   "outputs": [
    {
     "data": {
      "image/png": "[encoded data removed]",
      "text/plain": [
       "<Figure size 600x600 with 1 Axes>"
      ]
     },
     "metadata": {},
     "output_type": "display_data"
    },
    {
     "data": {
      "image/png": "[encoded data removed]",
      "text/plain": [
       "<Figure size 1200x600 with 1 Axes>"
      ]
     },
     "metadata": {},
     "output_type": "display_data"
    }
   ],
   "source": [
    "investors[0].visualize_allocation_differences()"
   ]
  },
  {
   "cell_type": "code",
   "execution_count": 24,
   "metadata": {},
   "outputs": [
    {
     "name": "stdout",
     "output_type": "stream",
     "text": [
      "Currency\tQuantity\tName\t\t\t\tISIN\t\tBuy Price\tMarket Price\tMarket Value\n",
      "----------------------------------------------------------------------------------------------------------------------------\n",
      "CHF\t\t100\t\tNovartis AG                   \tCH0012005267\t87.38\t\t87.38\t\t8738.0\n",
      "----------------------------------------------------------------------------------------------------------------------------\n",
      "CHF\t\t60\t\tLogitech International S.A.   \tCH0025751329\t64.78\t\t64.78\t\t3886.8\n",
      "----------------------------------------------------------------------------------------------------------------------------\n",
      "JPY\t\t200\t\tSoftBank Corp.                \tJP3732000009\t1671.5\t\t1671.5\t\t2015.83\n",
      "----------------------------------------------------------------------------------------------------------------------------\n",
      "USD\t\t30\t\tApple Inc.                    \tUS0378331005\t178.72\t\t178.72\t\t4837.77\n",
      "----------------------------------------------------------------------------------------------------------------------------\n",
      "USD\t\t15\t\tNIKE, Inc.                    \tUS6541061031\t102.04\t\t102.04\t\t1381.06\n",
      "----------------------------------------------------------------------------------------------------------------------------\n",
      "EUR\t\t10\t\tKering SA                     \tFR0000121485\t409.5\t\t409.5\t\t3910.32\n",
      "----------------------------------------------------------------------------------------------------------------------------\n",
      "CHF\t\t10\t\tZurich Insurance Group AG     \tCH0011075394\t431.1\t\t431.1\t\t4311.0\n",
      "----------------------------------------------------------------------------------------------------------------------------\n",
      "CHF\t\t10\t\tHolcim Ltd                    \tCH0012214059\t57.88\t\t57.88\t\t578.8\n",
      "----------------------------------------------------------------------------------------------------------------------------\n",
      "CHF\t\t15\t\tGeberit AG                    \tCH0030170408\t443.4\t\t443.4\t\t6651.0\n",
      "----------------------------------------------------------------------------------------------------------------------------\n",
      "EUR\t\t15\t\tEnel SpA                      \tIT0003128367\t5.74\t\t5.74\t\t82.22\n",
      "----------------------------------------------------------------------------------------------------------------------------\n",
      "EUR\t\t10\t\tL'Air Liquide S.A.            \tFR0000120073\t159.34\t\t159.34\t\t1521.54\n",
      "----------------------------------------------------------------------------------------------------------------------------\n",
      "EUR\t\t10\t\tDeutsche Telekom AG           \tDE0005557508\t20.34\t\t20.34\t\t194.23\n",
      "----------------------------------------------------------------------------------------------------------------------------\n",
      "CHF\t\t15\t\tNestlé S.A.                   \tCH0038863350\t103.42\t\t103.42\t\t1551.3\n",
      "----------------------------------------------------------------------------------------------------------------------------\n",
      "CHF\t\t15\t\tPSP Swiss Property AG         \tCH0018294154\t110.2\t\t110.2\t\t1653.0\n",
      "----------------------------------------------------------------------------------------------------------------------------\n",
      "CHF\t\t10\t\tABB Ltd                       \tCH0012221716\t32.66\t\t32.66\t\t326.6\n",
      "----------------------------------------------------------------------------------------------------------------------------\n",
      "CHF\t\t20\t\tRoche Holding AG              \tCH0012032048\t252.5\t\t252.5\t\t5050.0\n",
      "----------------------------------------------------------------------------------------------------------------------------\n",
      "GBP\t\t15\t\tAstraZeneca PLC               \tGB0009895292\t112.7\t\t112.7\t\t1851.6\n",
      "----------------------------------------------------------------------------------------------------------------------------\n"
     ]
    }
   ],
   "source": [
    "investors[0].print_portfolio()"
   ]
  },
  {
   "cell_type": "code",
   "execution_count": 25,
   "metadata": {},
   "outputs": [
    {
     "name": "stdout",
     "output_type": "stream",
     "text": [
      "Updated Portfolio-Beta. It's currently at 0.65\n"
     ]
    }
   ],
   "source": [
    "investors[0].calculate_portfolio_beta()"
   ]
  },
  {
   "cell_type": "code",
   "execution_count": 26,
   "metadata": {},
   "outputs": [
    {
     "name": "stdout",
     "output_type": "stream",
     "text": [
      "[]\n"
     ]
    }
   ],
   "source": [
    "print(investors[0]._high_beta_stocks)"
   ]
  },
  {
   "cell_type": "code",
   "execution_count": 27,
   "metadata": {},
   "outputs": [
    {
     "name": "stdout",
     "output_type": "stream",
     "text": [
      "Sold 1 units of ISIN CH0012005267.\n",
      "Fetching data for each portfolio position.\n",
      "Updating portfolio percentage.\n",
      "Bulk risk detected for ISIN CH0012005267.\n",
      "Bulk risk detected for ISIN CH0030170408.\n",
      "Bulk risk detected for ISIN CH0012032048.\n",
      "All infos fetched and positions updated.\n",
      "Updated portfolio value: 48453.69000000001\n",
      "Fixed GBp\n"
     ]
    }
   ],
   "source": [
    "investors[0].sell(isin='CH0012005267', quantity=1)"
   ]
  },
  {
   "cell_type": "code",
   "execution_count": 28,
   "metadata": {},
   "outputs": [
    {
     "name": "stdout",
     "output_type": "stream",
     "text": [
      "Successfully created JSON file named 000001.json\n"
     ]
    }
   ],
   "source": [
    "investors[0].write_json()"
   ]
  },
  {
   "cell_type": "markdown",
   "metadata": {},
   "source": [
    "__________________\n",
    "## Personas & Bias\n",
    "__________________"
   ]
  },
  {
   "cell_type": "code",
   "execution_count": 78,
   "metadata": {},
   "outputs": [],
   "source": [
    "def build_dummy_investor(dummy_id:str, dummy_name:str, dummy_investor_type:str, dummy_sector_bias:str, dummy_investor_preference:str):\n",
    "    investor = Investor(id=dummy_id, name=dummy_name, portfolio=[], investor_type=dummy_investor_type, sector_bias=dummy_sector_bias, investor_preference=dummy_investor_preference)\n",
    "    basic_portfolio = {\n",
    "        'CH0038863350': 690, # Nestle\n",
    "        'CH0012005267': 810, # Novartis\n",
    "        'CH0012032048': 275, # Roche\n",
    "        'CH0012221716':1500, # ABB\n",
    "        'CH0011075394': 170, # Zurich Insurance\n",
    "        'CH0030170408': 100, # Geberit\n",
    "        'CH0008742519':  80, # Swisscom\n",
    "        'CH0012214059': 800, # Holcim\n",
    "        'FR0000121014':  60, # LVMH\n",
    "        'FR0000120321': 110, # L'Oreal\n",
    "        'FR0000120271': 600, # TotalEnergies\n",
    "        'US0378331005': 210, # Apple\n",
    "        'US5949181045': 105, # Microsoft\n",
    "        'US92826C8394': 150  # Visa\n",
    "    }\n",
    "\n",
    "    bias_dict = {}\n",
    "\n",
    "    it_bias = {\n",
    "        'US67066G1040': 170, # Nvidia\n",
    "        'CH0025751329':1250, # Logitech\n",
    "        'DE0007164600': 700, # SAP\n",
    "        'KYG875721634':2400, # Tencent\n",
    "        'US0378331005': 300, # Apple Basis aufstocken\n",
    "        'US5949181045': 170, # Microsoft Basis aufstocken\n",
    "    }\n",
    "\n",
    "    finance_bias = {\n",
    "        'CH0102484968': 1400, # Julius Baer\n",
    "        'DE0008404005':  380, # Allianz\n",
    "        'GB0031348658':48000, # Barclays\n",
    "        'FR0000131104': 1500, # BNP Paribas\n",
    "        'US92826C8394':  220, # Visa Basis aufstocken\n",
    "    }\n",
    "\n",
    "    fashion_bias = {\n",
    "        'ES0148396007':2400, # Inditex\n",
    "        'US6541061031': 900, # Nike\n",
    "        'US7512121010': 800, # Ralph Lauren\n",
    "        'FR0000121014':  70, # LVMH Basis aufstocken\n",
    "    }\n",
    "\n",
    "    industrial_bias = {\n",
    "        'CH0030170408':  80, # Geberit Basis aufstocken\n",
    "        'FR0000125486': 820, # Vinci\n",
    "        'US2910111044': 950, # Emmerson Electric\n",
    "        'CH0012221716': 950, # ABB Basis aufstocken\n",
    "    }\n",
    "\n",
    "    car_bias = {\n",
    "        'JP3633400001':5000, # Toyota\n",
    "        'NL00150001Q9':4600, # Stellantis\n",
    "        'NL0011585146': 290, # Ferrari\n",
    "    }\n",
    "\n",
    "    risk_bias = {\n",
    "        'GB00B7KR2P84':20000, # easyJet\n",
    "        'NL0011821202': 3400, # ING\n",
    "        'US67066G1040':  100, # NVIDIA\n",
    "        'DE0006231004': 1300, # Infineon\n",
    "        'FR0000131104':  800, # BNP Paribas\n",
    "        'US0079031078':  420, # AMD\n",
    "    }\n",
    "\n",
    "    no_bias = {}\n",
    "\n",
    "    bias_dict['it_bias'] = it_bias\n",
    "    bias_dict['finance_bias'] = finance_bias\n",
    "    bias_dict['fashion_bias'] = fashion_bias\n",
    "    bias_dict['industrial_bias'] = industrial_bias\n",
    "    bias_dict['car_bias'] = car_bias\n",
    "    bias_dict['risk_bias'] = risk_bias\n",
    "    bias_dict['no_bias'] = no_bias\n",
    "\n",
    "    # Basic Portfolio\n",
    "    for key, value in basic_portfolio.items():\n",
    "        investor.buy(isin=key, quantity=value)\n",
    "\n",
    "    # Bias\n",
    "    for key, value in bias_dict[dummy_sector_bias].items():\n",
    "        investor.buy(isin=key, quantity=value)\n",
    "\n",
    "    investor.find_sell_stocks()\n",
    "    investor.fetch_portfolio_infos()\n",
    "    investor.calculate_allocation()\n",
    "    investor.calculate_allocation_difference()\n",
    "    investor.calculate_portfolio_beta()\n",
    "    investor.write_json()\n",
    "\n",
    "    return investor"
   ]
  },
  {
   "cell_type": "code",
   "execution_count": 181,
   "metadata": {},
   "outputs": [
    {
     "name": "stdout",
     "output_type": "stream",
     "text": [
      "New position. Successfully bought 690 units of ISIN CH0038863350.\n",
      "New position. Successfully bought 810 units of ISIN CH0012005267.\n",
      "New position. Successfully bought 275 units of ISIN CH0012032048.\n",
      "New position. Successfully bought 1500 units of ISIN CH0012221716.\n",
      "New position. Successfully bought 170 units of ISIN CH0011075394.\n",
      "New position. Successfully bought 100 units of ISIN CH0030170408.\n",
      "New position. Successfully bought 80 units of ISIN CH0008742519.\n",
      "New position. Successfully bought 800 units of ISIN CH0012214059.\n",
      "New position. Successfully bought 60 units of ISIN FR0000121014.\n",
      "New position. Successfully bought 110 units of ISIN FR0000120321.\n",
      "New position. Successfully bought 600 units of ISIN FR0000120271.\n",
      "New position. Successfully bought 210 units of ISIN US0378331005.\n",
      "New position. Successfully bought 105 units of ISIN US5949181045.\n",
      "New position. Successfully bought 150 units of ISIN US92826C8394.\n",
      "New position. Successfully bought 170 units of ISIN US67066G1040.\n",
      "New position. Successfully bought 1250 units of ISIN CH0025751329.\n",
      "New position. Successfully bought 700 units of ISIN DE0007164600.\n",
      "New position. Successfully bought 2400 units of ISIN KYG875721634.\n",
      "Position already in portfolio, increasing quantity by 300.\n",
      "Updated position: 510 units of ISIN US0378331005\n",
      "Position already in portfolio, increasing quantity by 170.\n",
      "Updated position: 275 units of ISIN US5949181045\n",
      "Attention! ISIN CH0025751329 is on the CIO 'Least Preferred' list.\n",
      "Fetching data for each portfolio position.\n",
      "Updating portfolio percentage.\n",
      "All infos fetched and positions updated.\n",
      "Updated portfolio value: 1098211.2\n",
      "Fixed GBp\n",
      "Calculating Market and Sector Allocation.\n",
      "Allocation successfully calculated.\n",
      "Comparing portfolio to benchmark allocation.\n",
      "Allocation differences were calculated successfully.\n",
      "Updated Portfolio-Beta. It's currently at 0.79\n",
      "Successfully created JSON file named 000001.json\n",
      "New position. Successfully bought 690 units of ISIN CH0038863350.\n",
      "New position. Successfully bought 810 units of ISIN CH0012005267.\n",
      "New position. Successfully bought 275 units of ISIN CH0012032048.\n",
      "New position. Successfully bought 1500 units of ISIN CH0012221716.\n",
      "New position. Successfully bought 170 units of ISIN CH0011075394.\n",
      "New position. Successfully bought 100 units of ISIN CH0030170408.\n",
      "New position. Successfully bought 80 units of ISIN CH0008742519.\n",
      "New position. Successfully bought 800 units of ISIN CH0012214059.\n",
      "New position. Successfully bought 60 units of ISIN FR0000121014.\n",
      "New position. Successfully bought 110 units of ISIN FR0000120321.\n",
      "New position. Successfully bought 600 units of ISIN FR0000120271.\n",
      "New position. Successfully bought 210 units of ISIN US0378331005.\n",
      "New position. Successfully bought 105 units of ISIN US5949181045.\n",
      "New position. Successfully bought 150 units of ISIN US92826C8394.\n",
      "New position. Successfully bought 1400 units of ISIN CH0102484968.\n",
      "New position. Successfully bought 380 units of ISIN DE0008404005.\n",
      "New position. Successfully bought 48000 units of ISIN GB0031348658.\n",
      "New position. Successfully bought 1500 units of ISIN FR0000131104.\n",
      "Position already in portfolio, increasing quantity by 220.\n",
      "Updated position: 370 units of ISIN US92826C8394\n",
      "No current positions in the portfolio are on the CIO 'Least Preferred' list.\n",
      "Fetching data for each portfolio position.\n",
      "Updating portfolio percentage.\n",
      "All infos fetched and positions updated.\n",
      "Updated portfolio value: 1055160.4700000002\n",
      "Fixed GBp\n",
      "Calculating Market and Sector Allocation.\n",
      "Allocation successfully calculated.\n",
      "Comparing portfolio to benchmark allocation.\n",
      "Allocation differences were calculated successfully.\n",
      "Updated Portfolio-Beta. It's currently at 0.91\n",
      "Successfully created JSON file named 000002.json\n",
      "New position. Successfully bought 690 units of ISIN CH0038863350.\n",
      "New position. Successfully bought 810 units of ISIN CH0012005267.\n",
      "New position. Successfully bought 275 units of ISIN CH0012032048.\n",
      "New position. Successfully bought 1500 units of ISIN CH0012221716.\n",
      "New position. Successfully bought 170 units of ISIN CH0011075394.\n",
      "New position. Successfully bought 100 units of ISIN CH0030170408.\n",
      "New position. Successfully bought 80 units of ISIN CH0008742519.\n",
      "New position. Successfully bought 800 units of ISIN CH0012214059.\n",
      "New position. Successfully bought 60 units of ISIN FR0000121014.\n",
      "New position. Successfully bought 110 units of ISIN FR0000120321.\n",
      "New position. Successfully bought 600 units of ISIN FR0000120271.\n",
      "New position. Successfully bought 210 units of ISIN US0378331005.\n",
      "New position. Successfully bought 105 units of ISIN US5949181045.\n",
      "New position. Successfully bought 150 units of ISIN US92826C8394.\n",
      "New position. Successfully bought 2400 units of ISIN ES0148396007.\n",
      "New position. Successfully bought 900 units of ISIN US6541061031.\n",
      "New position. Successfully bought 800 units of ISIN US7512121010.\n",
      "Position already in portfolio, increasing quantity by 70.\n",
      "Updated position: 130 units of ISIN FR0000121014\n",
      "No current positions in the portfolio are on the CIO 'Least Preferred' list.\n",
      "Fetching data for each portfolio position.\n",
      "Updating portfolio percentage.\n",
      "All infos fetched and positions updated.\n",
      "Updated portfolio value: 969503.9600000001\n",
      "Fixed GBp\n",
      "Calculating Market and Sector Allocation.\n",
      "Allocation successfully calculated.\n",
      "Comparing portfolio to benchmark allocation.\n",
      "Allocation differences were calculated successfully.\n",
      "Updated Portfolio-Beta. It's currently at 0.82\n",
      "Successfully created JSON file named 000003.json\n",
      "New position. Successfully bought 690 units of ISIN CH0038863350.\n",
      "New position. Successfully bought 810 units of ISIN CH0012005267.\n",
      "New position. Successfully bought 275 units of ISIN CH0012032048.\n",
      "New position. Successfully bought 1500 units of ISIN CH0012221716.\n",
      "New position. Successfully bought 170 units of ISIN CH0011075394.\n",
      "New position. Successfully bought 100 units of ISIN CH0030170408.\n",
      "New position. Successfully bought 80 units of ISIN CH0008742519.\n",
      "New position. Successfully bought 800 units of ISIN CH0012214059.\n",
      "New position. Successfully bought 60 units of ISIN FR0000121014.\n",
      "New position. Successfully bought 110 units of ISIN FR0000120321.\n",
      "New position. Successfully bought 600 units of ISIN FR0000120271.\n",
      "New position. Successfully bought 210 units of ISIN US0378331005.\n",
      "New position. Successfully bought 105 units of ISIN US5949181045.\n",
      "New position. Successfully bought 150 units of ISIN US92826C8394.\n",
      "Position already in portfolio, increasing quantity by 80.\n",
      "Updated position: 180 units of ISIN CH0030170408\n",
      "New position. Successfully bought 820 units of ISIN FR0000125486.\n",
      "New position. Successfully bought 950 units of ISIN US2910111044.\n",
      "Position already in portfolio, increasing quantity by 950.\n",
      "Updated position: 2450 units of ISIN CH0012221716\n",
      "No current positions in the portfolio are on the CIO 'Least Preferred' list.\n",
      "Fetching data for each portfolio position.\n",
      "Updating portfolio percentage.\n",
      "All infos fetched and positions updated.\n",
      "Updated portfolio value: 910625.05\n",
      "Fixed GBp\n",
      "Calculating Market and Sector Allocation.\n",
      "Allocation successfully calculated.\n",
      "Comparing portfolio to benchmark allocation.\n",
      "Allocation differences were calculated successfully.\n",
      "Updated Portfolio-Beta. It's currently at 0.77\n",
      "Successfully created JSON file named 000004.json\n",
      "New position. Successfully bought 690 units of ISIN CH0038863350.\n",
      "New position. Successfully bought 810 units of ISIN CH0012005267.\n",
      "New position. Successfully bought 275 units of ISIN CH0012032048.\n",
      "New position. Successfully bought 1500 units of ISIN CH0012221716.\n",
      "New position. Successfully bought 170 units of ISIN CH0011075394.\n",
      "New position. Successfully bought 100 units of ISIN CH0030170408.\n",
      "New position. Successfully bought 80 units of ISIN CH0008742519.\n",
      "New position. Successfully bought 800 units of ISIN CH0012214059.\n",
      "New position. Successfully bought 60 units of ISIN FR0000121014.\n",
      "New position. Successfully bought 110 units of ISIN FR0000120321.\n",
      "New position. Successfully bought 600 units of ISIN FR0000120271.\n",
      "New position. Successfully bought 210 units of ISIN US0378331005.\n",
      "New position. Successfully bought 105 units of ISIN US5949181045.\n",
      "New position. Successfully bought 150 units of ISIN US92826C8394.\n",
      "New position. Successfully bought 5000 units of ISIN JP3633400001.\n",
      "New position. Successfully bought 4600 units of ISIN NL00150001Q9.\n",
      "New position. Successfully bought 290 units of ISIN NL0011585146.\n",
      "No current positions in the portfolio are on the CIO 'Least Preferred' list.\n",
      "Fetching data for each portfolio position.\n",
      "Updating portfolio percentage.\n",
      "All infos fetched and positions updated.\n",
      "Updated portfolio value: 927316.1500000001\n",
      "Fixed GBp\n",
      "Calculating Market and Sector Allocation.\n",
      "Allocation successfully calculated.\n",
      "Comparing portfolio to benchmark allocation.\n",
      "Allocation differences were calculated successfully.\n",
      "Updated Portfolio-Beta. It's currently at 0.74\n",
      "Successfully created JSON file named 000005.json\n",
      "New position. Successfully bought 690 units of ISIN CH0038863350.\n",
      "New position. Successfully bought 810 units of ISIN CH0012005267.\n",
      "New position. Successfully bought 275 units of ISIN CH0012032048.\n",
      "New position. Successfully bought 1500 units of ISIN CH0012221716.\n",
      "New position. Successfully bought 170 units of ISIN CH0011075394.\n",
      "New position. Successfully bought 100 units of ISIN CH0030170408.\n",
      "New position. Successfully bought 80 units of ISIN CH0008742519.\n",
      "New position. Successfully bought 800 units of ISIN CH0012214059.\n",
      "New position. Successfully bought 60 units of ISIN FR0000121014.\n",
      "New position. Successfully bought 110 units of ISIN FR0000120321.\n",
      "New position. Successfully bought 600 units of ISIN FR0000120271.\n",
      "New position. Successfully bought 210 units of ISIN US0378331005.\n",
      "New position. Successfully bought 105 units of ISIN US5949181045.\n",
      "New position. Successfully bought 150 units of ISIN US92826C8394.\n",
      "New position. Successfully bought 20000 units of ISIN GB00B7KR2P84.\n",
      "New position. Successfully bought 3400 units of ISIN NL0011821202.\n",
      "New position. Successfully bought 100 units of ISIN US67066G1040.\n",
      "New position. Successfully bought 1300 units of ISIN DE0006231004.\n",
      "New position. Successfully bought 800 units of ISIN FR0000131104.\n",
      "New position. Successfully bought 420 units of ISIN US0079031078.\n",
      "No current positions in the portfolio are on the CIO 'Least Preferred' list.\n",
      "Fetching data for each portfolio position.\n",
      "Updating portfolio percentage.\n",
      "All infos fetched and positions updated.\n",
      "Updated portfolio value: 972777.3200000001\n",
      "Fixed GBp\n",
      "Calculating Market and Sector Allocation.\n",
      "Allocation successfully calculated.\n",
      "Comparing portfolio to benchmark allocation.\n",
      "Allocation differences were calculated successfully.\n",
      "Updated Portfolio-Beta. It's currently at 1.05\n",
      "Successfully created JSON file named 000006.json\n"
     ]
    },
    {
     "data": {
      "text/plain": [
       "[Lenny Linux,\n",
       " Benny Banker,\n",
       " Louise Vuitton,\n",
       " Robby Robotic,\n",
       " Freddy Ferrari,\n",
       " Ricky Risk]"
      ]
     },
     "execution_count": 181,
     "metadata": {},
     "output_type": "execute_result"
    }
   ],
   "source": [
    "dummy_info = {'000001':['Lenny Linux', 'swiss-bias', 'it_bias', 'performance'], \n",
    "              '000002':['Benny Banker', 'swiss-global', 'finance_bias', 'dividends'], \n",
    "              '000003':['Louise Vuitton', 'global', 'fashion_bias', 'low_volatility'], \n",
    "              '000004':['Robby Robotic', 'swiss-bias', 'industrial_bias', 'low_pe'], \n",
    "              '000005':['Freddy Ferrari', 'swiss-global', 'car_bias', 'performance'], \n",
    "              '000006':['Ricky Risk', 'global', 'risk_bias', 'performance']\n",
    "              }\n",
    "\n",
    "dummy_investors = []\n",
    "\n",
    "for id in dummy_info:\n",
    "    name = dummy_info[id][0]\n",
    "    investor_type = dummy_info[id][1]\n",
    "    sector_bias = dummy_info[id][2]\n",
    "    investor_preference = dummy_info[id][3]\n",
    "    investor = build_dummy_investor(dummy_id=id, dummy_name=name, dummy_investor_type=investor_type, \n",
    "                         dummy_sector_bias=sector_bias, dummy_investor_preference=investor_preference)\n",
    "    dummy_investors.append(investor)\n",
    "dummy_investors"
   ]
  },
  {
   "cell_type": "code",
   "execution_count": 44,
   "metadata": {},
   "outputs": [
    {
     "name": "stdout",
     "output_type": "stream",
     "text": [
      "Buying 690 units of ISIN CH0038863350...\n",
      "New position.\n",
      "Successfully bought 690 units of ISIN CH0038863350.\n",
      "Purchase successfully completed!\n",
      "Buying 810 units of ISIN CH0012005267...\n",
      "New position.\n",
      "Successfully bought 810 units of ISIN CH0012005267.\n",
      "Purchase successfully completed!\n",
      "Buying 275 units of ISIN CH0012032048...\n",
      "New position.\n",
      "Successfully bought 275 units of ISIN CH0012032048.\n",
      "Purchase successfully completed!\n",
      "Buying 1500 units of ISIN CH0012221716...\n",
      "New position.\n",
      "Successfully bought 1500 units of ISIN CH0012221716.\n",
      "Purchase successfully completed!\n",
      "Buying 170 units of ISIN CH0011075394...\n",
      "New position.\n",
      "Successfully bought 170 units of ISIN CH0011075394.\n",
      "Purchase successfully completed!\n",
      "Buying 100 units of ISIN CH0030170408...\n",
      "New position.\n",
      "Successfully bought 100 units of ISIN CH0030170408.\n",
      "Purchase successfully completed!\n",
      "Buying 80 units of ISIN CH0008742519...\n",
      "New position.\n",
      "Successfully bought 80 units of ISIN CH0008742519.\n",
      "Purchase successfully completed!\n",
      "Buying 800 units of ISIN CH0012214059...\n",
      "New position.\n",
      "Successfully bought 800 units of ISIN CH0012214059.\n",
      "Purchase successfully completed!\n",
      "Buying 60 units of ISIN FR0000121014...\n",
      "New position.\n",
      "Successfully bought 60 units of ISIN FR0000121014.\n",
      "Purchase successfully completed!\n",
      "Buying 110 units of ISIN FR0000120321...\n",
      "New position.\n",
      "Successfully bought 110 units of ISIN FR0000120321.\n",
      "Purchase successfully completed!\n",
      "Buying 600 units of ISIN FR0000120271...\n",
      "New position.\n",
      "Successfully bought 600 units of ISIN FR0000120271.\n",
      "Purchase successfully completed!\n",
      "Buying 210 units of ISIN US0378331005...\n",
      "New position.\n",
      "Successfully bought 210 units of ISIN US0378331005.\n",
      "Purchase successfully completed!\n",
      "Buying 105 units of ISIN US5949181045...\n",
      "New position.\n",
      "Successfully bought 105 units of ISIN US5949181045.\n",
      "Purchase successfully completed!\n",
      "Buying 150 units of ISIN US92826C8394...\n",
      "New position.\n",
      "Successfully bought 150 units of ISIN US92826C8394.\n",
      "Purchase successfully completed!\n",
      "Buying 170 units of ISIN US67066G1040...\n",
      "New position.\n",
      "Successfully bought 170 units of ISIN US67066G1040.\n",
      "Purchase successfully completed!\n",
      "Buying 1250 units of ISIN CH0025751329...\n",
      "New position.\n",
      "Successfully bought 1250 units of ISIN CH0025751329.\n",
      "Purchase successfully completed!\n",
      "Buying 700 units of ISIN DE0007164600...\n",
      "New position.\n",
      "Successfully bought 700 units of ISIN DE0007164600.\n",
      "Purchase successfully completed!\n",
      "Buying 2400 units of ISIN KYG875721634...\n",
      "New position.\n",
      "Successfully bought 2400 units of ISIN KYG875721634.\n",
      "Purchase successfully completed!\n",
      "Buying 300 units of ISIN US0378331005...\n",
      "Position already in portfolio, increasing quantity by 300.\n",
      "Updated position: 510 units of ISIN US0378331005\n",
      "Purchase successfully completed!\n",
      "Buying 170 units of ISIN US5949181045...\n",
      "Position already in portfolio, increasing quantity by 170.\n",
      "Updated position: 275 units of ISIN US5949181045\n",
      "Purchase successfully completed!\n",
      "Attention! ISIN CH0025751329 is on the CIO 'Least Preferred' list.\n",
      "Fetching data for each portfolio position.\n",
      "Updating portfolio percentage.\n",
      "All infos fetched and positions updated.\n",
      "Updated portfolio value: 1098211.2\n",
      "Fixed GBp\n",
      "Calculating Market and Sector Allocation.\n",
      "Allocation successfully calculated.\n",
      "Comparing portfolio to benchmark allocation.\n",
      "Investor profile: swiss-bias\n",
      "Allocation differences were calculated successfully.\n",
      "Updated Portfolio-Beta. It's currently at 0.79\n",
      "Successfully created JSON file named 000003.json\n"
     ]
    },
    {
     "data": {
      "text/plain": [
       "Lenny Linux"
      ]
     },
     "execution_count": 44,
     "metadata": {},
     "output_type": "execute_result"
    }
   ],
   "source": [
    "build_dummy_investor(dummy_id='000003', dummy_name='Lenny Linux', dummy_investor_type='swiss-bias', \n",
    "                     dummy_sector_bias='it_bias', dummy_investor_preference='performance')"
   ]
  },
  {
   "cell_type": "code",
   "execution_count": 33,
   "metadata": {},
   "outputs": [
    {
     "name": "stdout",
     "output_type": "stream",
     "text": [
      "                         longName      beta\n",
      "70                    easyJet plc  2.506493\n",
      "49                 ING Groep N.V.  1.694000\n",
      "108            NVIDIA Corporation  1.684000\n",
      "48       Infineon Technologies AG  1.676000\n",
      "38                 BNP Paribas SA  1.652000\n",
      "96   Advanced Micro Devices, Inc.  1.648000\n",
      "61               UniCredit S.p.A.  1.604000\n",
      "100       Applied Materials, Inc.  1.581000\n",
      "25           Julius Bär Gruppe AG  1.504965\n",
      "82       Ralph Lauren Corporation  1.430000\n",
      "104      Marvell Technology, Inc.  1.399930\n",
      "65        Heidelberg Materials AG  1.367000\n",
      "90           Emerson Electric Co.  1.367000\n",
      "76                Norsk Hydro ASA  1.366310\n",
      "36          Banco Santander, S.A.  1.361000\n",
      "68                   Barclays PLC  1.353000\n",
      "35                         AXA SA  1.338000\n",
      "71                   Glencore plc  1.320473\n",
      "81        The Walt Disney Company  1.310000\n",
      "59                Stellantis N.V.  1.308000\n"
     ]
    }
   ],
   "source": [
    "stock_info = pd.read_csv('..\\data\\stock_info.tsv', sep='\\t') # TSV als Pandas-df\n",
    "selected_columns = ['longName', 'beta']\n",
    "sorted_stock_info = stock_info[selected_columns].sort_values(by='beta', ascending=False)\n",
    "print(sorted_stock_info.head(20))"
   ]
  },
  {
   "cell_type": "code",
   "execution_count": 34,
   "metadata": {},
   "outputs": [
    {
     "name": "stdout",
     "output_type": "stream",
     "text": [
      "Anzahl Aktien mit Beta über 1:  50\n",
      "Anzahl Aktien mit Beta unter 1: 75\n"
     ]
    }
   ],
   "source": [
    "anzahl_aktien_mit_beta_ueber_1 = len(stock_info[stock_info['beta'] > 1])\n",
    "anzahl_aktien_mit_beta_unter_1 = len(stock_info[stock_info['beta'] < 1])\n",
    "print(f'Anzahl Aktien mit Beta über 1:  {anzahl_aktien_mit_beta_ueber_1}')\n",
    "print(f'Anzahl Aktien mit Beta unter 1: {anzahl_aktien_mit_beta_unter_1}')"
   ]
  },
  {
   "cell_type": "code",
   "execution_count": 35,
   "metadata": {},
   "outputs": [
    {
     "data": {
      "text/html": [
       "<div>\n",
       "<style scoped>\n",
       "    .dataframe tbody tr th:only-of-type {\n",
       "        vertical-align: middle;\n",
       "    }\n",
       "\n",
       "    .dataframe tbody tr th {\n",
       "        vertical-align: top;\n",
       "    }\n",
       "\n",
       "    .dataframe thead th {\n",
       "        text-align: right;\n",
       "    }\n",
       "</style>\n",
       "<table border=\"1\" class=\"dataframe\">\n",
       "  <thead>\n",
       "    <tr style=\"text-align: right;\">\n",
       "      <th></th>\n",
       "      <th>isin</th>\n",
       "      <th>longName</th>\n",
       "      <th>country</th>\n",
       "      <th>sector</th>\n",
       "      <th>beta</th>\n",
       "    </tr>\n",
       "  </thead>\n",
       "  <tbody>\n",
       "    <tr>\n",
       "      <th>116</th>\n",
       "      <td>JP3890350006</td>\n",
       "      <td>Sumitomo Mitsui Financial Group, Inc.</td>\n",
       "      <td>Asia &amp; EM</td>\n",
       "      <td>Financial Services</td>\n",
       "      <td>0.742655</td>\n",
       "    </tr>\n",
       "    <tr>\n",
       "      <th>122</th>\n",
       "      <td>HK0000069689</td>\n",
       "      <td>AIA Group Limited</td>\n",
       "      <td>Asia &amp; EM</td>\n",
       "      <td>Financial Services</td>\n",
       "      <td>0.910236</td>\n",
       "    </tr>\n",
       "  </tbody>\n",
       "</table>\n",
       "</div>"
      ],
      "text/plain": [
       "             isin                               longName    country  \\\n",
       "116  JP3890350006  Sumitomo Mitsui Financial Group, Inc.  Asia & EM   \n",
       "122  HK0000069689                      AIA Group Limited  Asia & EM   \n",
       "\n",
       "                 sector      beta  \n",
       "116  Financial Services  0.742655  \n",
       "122  Financial Services  0.910236  "
      ]
     },
     "execution_count": 35,
     "metadata": {},
     "output_type": "execute_result"
    }
   ],
   "source": [
    "stock_info = pd.read_csv('..\\data\\stock_info.tsv', sep='\\t') # TSV als Pandas-df\n",
    "selected_columns = ['isin', 'longName', 'country', 'sector', 'beta']\n",
    "reduced_stock_info = stock_info[selected_columns]\n",
    "\n",
    "europe_countries = ['Germany', 'France', 'Netherlands', 'Spain', 'Italy', 'United Kingdom', 'Norway', 'Ireland', 'Europe']\n",
    "asia_em_countries = ['Japan', 'Hong Kong', 'China', 'South Korea', 'Taiwan', 'Asia & EM']\n",
    "reduced_stock_info.loc[reduced_stock_info['country'].isin(europe_countries), 'country'] = 'Europe'\n",
    "reduced_stock_info.loc[reduced_stock_info['country'].isin(asia_em_countries), 'country'] = 'Asia & EM'\n",
    "\n",
    "reduced_stock_info = reduced_stock_info.loc[reduced_stock_info['country']=='Asia & EM']\n",
    "reduced_stock_info = reduced_stock_info.loc[reduced_stock_info['sector']=='Financial Services']\n",
    "reduced_stock_info\n"
   ]
  },
  {
   "cell_type": "code",
   "execution_count": 83,
   "metadata": {},
   "outputs": [
    {
     "data": {
      "image/png": "[encoded data removed]",
      "text/plain": [
       "<Figure size 600x600 with 1 Axes>"
      ]
     },
     "metadata": {},
     "output_type": "display_data"
    },
    {
     "data": {
      "image/png": "[encoded data removed]",
      "text/plain": [
       "<Figure size 1200x600 with 1 Axes>"
      ]
     },
     "metadata": {},
     "output_type": "display_data"
    }
   ],
   "source": [
    "dummy_investors[0].visualize_allocation_differences()"
   ]
  },
  {
   "cell_type": "code",
   "execution_count": 141,
   "metadata": {},
   "outputs": [],
   "source": [
    "dummy_investors[0]._portfolio_beta = 0"
   ]
  },
  {
   "cell_type": "code",
   "execution_count": 142,
   "metadata": {},
   "outputs": [
    {
     "name": "stdout",
     "output_type": "stream",
     "text": [
      "Vorschlag Something Essential\n",
      "Präferenz: performance --> sortiere nach diesem Kriterium\n"
     ]
    },
    {
     "data": {
      "text/html": [
       "<div>\n",
       "<style scoped>\n",
       "    .dataframe tbody tr th:only-of-type {\n",
       "        vertical-align: middle;\n",
       "    }\n",
       "\n",
       "    .dataframe tbody tr th {\n",
       "        vertical-align: top;\n",
       "    }\n",
       "\n",
       "    .dataframe thead th {\n",
       "        text-align: right;\n",
       "    }\n",
       "</style>\n",
       "<table border=\"1\" class=\"dataframe\">\n",
       "  <thead>\n",
       "    <tr style=\"text-align: right;\">\n",
       "      <th></th>\n",
       "      <th>isin</th>\n",
       "      <th>longName</th>\n",
       "      <th>country</th>\n",
       "      <th>sector</th>\n",
       "      <th>beta</th>\n",
       "      <th>dividendYield</th>\n",
       "      <th>trailingPE</th>\n",
       "      <th>52WeekChange</th>\n",
       "    </tr>\n",
       "  </thead>\n",
       "  <tbody>\n",
       "    <tr>\n",
       "      <th>0</th>\n",
       "      <td>CH0432492467</td>\n",
       "      <td>Alcon Inc.</td>\n",
       "      <td>Switzerland</td>\n",
       "      <td>Healthcare</td>\n",
       "      <td>0.684096</td>\n",
       "      <td>0.0031</td>\n",
       "      <td>100.818180</td>\n",
       "      <td>0.149218</td>\n",
       "    </tr>\n",
       "    <tr>\n",
       "      <th>1</th>\n",
       "      <td>CH0012005267</td>\n",
       "      <td>Novartis AG</td>\n",
       "      <td>Switzerland</td>\n",
       "      <td>Healthcare</td>\n",
       "      <td>0.487394</td>\n",
       "      <td>0.0366</td>\n",
       "      <td>26.710768</td>\n",
       "      <td>0.138057</td>\n",
       "    </tr>\n",
       "    <tr>\n",
       "      <th>2</th>\n",
       "      <td>CH0360674466</td>\n",
       "      <td>Galenica AG</td>\n",
       "      <td>Switzerland</td>\n",
       "      <td>Healthcare</td>\n",
       "      <td>0.211993</td>\n",
       "      <td>0.0327</td>\n",
       "      <td>20.527950</td>\n",
       "      <td>-0.048886</td>\n",
       "    </tr>\n",
       "    <tr>\n",
       "      <th>3</th>\n",
       "      <td>CH0012549785</td>\n",
       "      <td>Sonova Holding AG</td>\n",
       "      <td>Switzerland</td>\n",
       "      <td>Healthcare</td>\n",
       "      <td>0.960656</td>\n",
       "      <td>0.0210</td>\n",
       "      <td>20.102709</td>\n",
       "      <td>-0.054609</td>\n",
       "    </tr>\n",
       "  </tbody>\n",
       "</table>\n",
       "</div>"
      ],
      "text/plain": [
       "           isin           longName      country      sector      beta  \\\n",
       "0  CH0432492467         Alcon Inc.  Switzerland  Healthcare  0.684096   \n",
       "1  CH0012005267        Novartis AG  Switzerland  Healthcare  0.487394   \n",
       "2  CH0360674466        Galenica AG  Switzerland  Healthcare  0.211993   \n",
       "3  CH0012549785  Sonova Holding AG  Switzerland  Healthcare  0.960656   \n",
       "\n",
       "   dividendYield  trailingPE  52WeekChange  \n",
       "0         0.0031  100.818180      0.149218  \n",
       "1         0.0366   26.710768      0.138057  \n",
       "2         0.0327   20.527950     -0.048886  \n",
       "3         0.0210   20.102709     -0.054609  "
      ]
     },
     "execution_count": 142,
     "metadata": {},
     "output_type": "execute_result"
    }
   ],
   "source": [
    "# TO DO: Wenn Aktie im Portfolio >= 5%, nicht empfehlen wegen Bulk Risk\n",
    "# TO DO: Liste der 3 grössten \"Löcher\" identifizieren, also Markt+Sektor\n",
    "# TO DO: Wenn Vorschlag zu wenige Aktien enthält, zweitgrösstes Loch nehmen für zusätzliche Vorschläge\n",
    "# TO DO: Entscheiden, ob nur Vorschläge zu grösstem Loch oder Mix für Diversity\n",
    "\n",
    "preferences = ['dividends', 'low_pe', 'low_volatility', 'performance']\n",
    "\n",
    "stock_info = pd.read_csv('..\\data\\stock_info.tsv', sep='\\t') # TSV als Pandas-df\n",
    "selected_columns = ['isin', 'longName', 'country', 'sector', 'beta', 'dividendYield', 'trailingPE', '52WeekChange']\n",
    "reduced_stock_info = stock_info[selected_columns]\n",
    "\n",
    "europe_countries = ['Germany', 'France', 'Netherlands', 'Spain', 'Italy', 'United Kingdom', 'Norway', 'Ireland', 'Europe']\n",
    "asia_em_countries = ['Japan', 'Hong Kong', 'China', 'South Korea', 'Taiwan', 'Asia & EM']\n",
    "reduced_stock_info.loc[reduced_stock_info['country'].isin(europe_countries), 'country'] = 'Europe'\n",
    "reduced_stock_info.loc[reduced_stock_info['country'].isin(asia_em_countries), 'country'] = 'Asia & EM'\n",
    "\n",
    "biggest_market_underweight = min(dummy_investors[0]._market_allocation_difference, key=dummy_investors[0]._market_allocation_difference.get)\n",
    "bigest_sector_underweight = min(dummy_investors[0]._sector_allocation_difference, key=dummy_investors[0]._sector_allocation_difference.get)\n",
    "\n",
    "reduced_stock_info = reduced_stock_info.loc[reduced_stock_info['country'] == biggest_market_underweight]\n",
    "reduced_stock_info = reduced_stock_info.loc[reduced_stock_info['sector'] == bigest_sector_underweight]\n",
    "\n",
    "# Wenn Portfolio-Beta zu hoch, nur noch Aktien mit tiefem Beta empfehlen\n",
    "if dummy_investors[0]._portfolio_beta > 0.95 or dummy_investors[0]._investor_preference == 'low_volatility':\n",
    "    reduced_stock_info = reduced_stock_info.loc[reduced_stock_info['beta'] <= 0.8]\n",
    "    reduced_stock_info = reduced_stock_info.sort_values(by='beta', ascending=True)\n",
    "elif dummy_investors[0]._investor_preference == 'dividends':\n",
    "    reduced_stock_info = reduced_stock_info.sort_values(by='dividendYield', ascending=False)\n",
    "elif dummy_investors[0]._investor_preference == 'low_pe':\n",
    "    reduced_stock_info = reduced_stock_info.sort_values(by='trailingPE', ascending=True)  \n",
    "elif dummy_investors[0]._investor_preference == 'performance':\n",
    "    reduced_stock_info = reduced_stock_info.loc[reduced_stock_info['52WeekChange'] >= -0.1]\n",
    "    reduced_stock_info = reduced_stock_info.sort_values(by='52WeekChange', ascending=False)\n",
    "reduced_stock_info.reset_index(drop=True, inplace=True)  \n",
    "\n",
    "print('Vorschlag Something Essential')\n",
    "print(f'Präferenz: {dummy_investors[0]._investor_preference} --> sortiere nach diesem Kriterium')\n",
    "reduced_stock_info"
   ]
  },
  {
   "cell_type": "code",
   "execution_count": 138,
   "metadata": {},
   "outputs": [
    {
     "data": {
      "text/plain": [
       "[(('Switzerland', 'Healthcare'), -0.31259999999999993),\n",
       " (('Switzerland', 'Financial Services'), -0.28389999999999993),\n",
       " (('Switzerland', 'Industrials'), -0.26519999999999994),\n",
       " (('Switzerland', 'Consumer Defensive'), -0.24809999999999993),\n",
       " (('Switzerland', 'Consumer Cyclical'), -0.24529999999999993),\n",
       " (('Switzerland', 'Utilities'), -0.22019999999999992),\n",
       " (('Switzerland', 'Basic Materials'), -0.20799999999999993),\n",
       " (('Switzerland', 'Real Estate'), -0.20019999999999993),\n",
       " (('Switzerland', 'Mixed'), -0.20019999999999993),\n",
       " (('Switzerland', 'Energy'), -0.18719999999999992)]"
      ]
     },
     "execution_count": 138,
     "metadata": {},
     "output_type": "execute_result"
    }
   ],
   "source": [
    "# Kombinationen von Märkten und Sektoren mit grösstem Handlungsbedarf finden\n",
    "key_pairs = list(product(dummy_investors[0]._market_allocation_difference.keys(), dummy_investors[0]._sector_allocation_difference.keys()))\n",
    "sum_values = {pair: dummy_investors[0]._market_allocation_difference[pair[0]] + dummy_investors[0]._sector_allocation_difference[pair[1]] for pair in key_pairs}\n",
    "\n",
    "# Sortieren nach Grösse\n",
    "top_pairs = sorted(sum_values.items(), key=lambda x: x[1], reverse=False)[:10]\n",
    "top_pairs"
   ]
  },
  {
   "cell_type": "code",
   "execution_count": 177,
   "metadata": {},
   "outputs": [
    {
     "name": "stdout",
     "output_type": "stream",
     "text": [
      "0\n",
      "0\n",
      "0\n",
      "1\n",
      "2\n",
      "Vorschlag Something Essential\n",
      "Präferenz: performance --> sortiere nach diesem Kriterium\n"
     ]
    }
   ],
   "source": [
    "def prepare_reduced_stock_info():\n",
    "    stock_info = pd.read_csv('..\\data\\stock_info.tsv', sep='\\t') # TSV als Pandas-df\n",
    "    selected_columns = ['isin', 'longName', 'country', 'sector', 'beta', 'dividendYield', 'trailingPE', '52WeekChange']\n",
    "    reduced_stock_info = stock_info[selected_columns]\n",
    "\n",
    "    europe_countries = ['Germany', 'France', 'Netherlands', 'Spain', 'Italy', 'United Kingdom', 'Norway', 'Ireland', 'Europe']\n",
    "    asia_em_countries = ['Japan', 'Hong Kong', 'China', 'South Korea', 'Taiwan', 'Asia & EM']\n",
    "    reduced_stock_info.loc[reduced_stock_info['country'].isin(europe_countries), 'country'] = 'Europe'\n",
    "    reduced_stock_info.loc[reduced_stock_info['country'].isin(asia_em_countries), 'country'] = 'Asia & EM'\n",
    "    return reduced_stock_info\n",
    "\n",
    "# Kombinationen von Märkten und Sektoren mit grösstem Handlungsbedarf finden\n",
    "key_pairs = list(product(dummy_investors[0]._market_allocation_difference.keys(), dummy_investors[0]._sector_allocation_difference.keys()))\n",
    "sum_values = {pair: dummy_investors[0]._market_allocation_difference[pair[0]] + dummy_investors[0]._sector_allocation_difference[pair[1]] for pair in key_pairs}\n",
    "\n",
    "# Sortieren nach Grösse\n",
    "top_pairs = sorted(sum_values.items(), key=lambda x: x[1], reverse=False)[:10]\n",
    "\n",
    "recommendations = []\n",
    "counter = 5\n",
    "\n",
    "for i in range(5):\n",
    "    reduced_stock_info = prepare_reduced_stock_info()\n",
    "    if counter > 0:\n",
    "        if i == 0:\n",
    "            number_recommended = 3\n",
    "        else:\n",
    "            number_recommended = 1\n",
    "\n",
    "        country = top_pairs[i][0][0]\n",
    "        sector = top_pairs[i][0][1]\n",
    "\n",
    "        reduced_stock_info = reduced_stock_info.loc[reduced_stock_info['country'] == country]\n",
    "        reduced_stock_info = reduced_stock_info.loc[reduced_stock_info['sector'] == sector]\n",
    "\n",
    "        # Wenn Portfolio-Beta zu hoch, nur noch Aktien mit tiefem Beta empfehlen\n",
    "        if dummy_investors[0]._portfolio_beta > 0.95 or dummy_investors[0]._investor_preference == 'low_volatility':\n",
    "            reduced_stock_info = reduced_stock_info.loc[reduced_stock_info['beta'] <= 0.8]\n",
    "            reduced_stock_info = reduced_stock_info.sort_values(by='beta', ascending=True)\n",
    "            recommendation_text = 'low volatility'\n",
    "\n",
    "        elif dummy_investors[0]._investor_preference == 'dividends':\n",
    "            reduced_stock_info = reduced_stock_info.sort_values(by='dividendYield', ascending=False)\n",
    "            recommendation_text = 'high dividends'\n",
    "\n",
    "        elif dummy_investors[0]._investor_preference == 'low_pe':\n",
    "            reduced_stock_info = reduced_stock_info.sort_values(by='trailingPE', ascending=True)\n",
    "            recommendation_text = 'low P/E ratio'\n",
    "\n",
    "        elif dummy_investors[0]._investor_preference == 'performance':\n",
    "            reduced_stock_info = reduced_stock_info.loc[reduced_stock_info['52WeekChange'] >= -0.1]\n",
    "            reduced_stock_info = reduced_stock_info.sort_values(by='52WeekChange', ascending=False)\n",
    "            recommendation_text = '1-year performace'\n",
    "\n",
    "        reduced_stock_info.reset_index(drop=True, inplace=True)\n",
    "\n",
    "        possible_reccomendations = len(reduced_stock_info)\n",
    "\n",
    "        for j in range(min(possible_reccomendations, number_recommended)):\n",
    "            recommendations.append([])\n",
    "            counter -=1\n",
    "        \n",
    "\n",
    "\n",
    "\n",
    "\n",
    "print('Vorschlag Something Essential')\n",
    "print(f'Präferenz: {dummy_investors[0]._investor_preference} --> sortiere nach diesem Kriterium')\n",
    "# reduced_stock_info"
   ]
  },
  {
   "cell_type": "code",
   "execution_count": 184,
   "metadata": {},
   "outputs": [
    {
     "data": {
      "text/plain": [
       "[(('Switzerland', 'Healthcare'), -0.31259999999999993),\n",
       " (('Switzerland', 'Financial Services'), -0.28389999999999993),\n",
       " (('Switzerland', 'Industrials'), -0.26519999999999994),\n",
       " (('Switzerland', 'Consumer Defensive'), -0.24809999999999993),\n",
       " (('Switzerland', 'Consumer Cyclical'), -0.24529999999999993),\n",
       " (('Switzerland', 'Utilities'), -0.22019999999999992),\n",
       " (('Switzerland', 'Basic Materials'), -0.20799999999999993),\n",
       " (('Switzerland', 'Real Estate'), -0.20019999999999993),\n",
       " (('Switzerland', 'Mixed'), -0.20019999999999993),\n",
       " (('Switzerland', 'Energy'), -0.18719999999999992)]"
      ]
     },
     "execution_count": 184,
     "metadata": {},
     "output_type": "execute_result"
    }
   ],
   "source": [
    "top_pairs"
   ]
  },
  {
   "cell_type": "code",
   "execution_count": 174,
   "metadata": {},
   "outputs": [
    {
     "data": {
      "text/html": [
       "<div>\n",
       "<style scoped>\n",
       "    .dataframe tbody tr th:only-of-type {\n",
       "        vertical-align: middle;\n",
       "    }\n",
       "\n",
       "    .dataframe tbody tr th {\n",
       "        vertical-align: top;\n",
       "    }\n",
       "\n",
       "    .dataframe thead th {\n",
       "        text-align: right;\n",
       "    }\n",
       "</style>\n",
       "<table border=\"1\" class=\"dataframe\">\n",
       "  <thead>\n",
       "    <tr style=\"text-align: right;\">\n",
       "      <th></th>\n",
       "      <th>isin</th>\n",
       "      <th>longName</th>\n",
       "      <th>country</th>\n",
       "      <th>sector</th>\n",
       "      <th>beta</th>\n",
       "      <th>dividendYield</th>\n",
       "      <th>trailingPE</th>\n",
       "      <th>52WeekChange</th>\n",
       "    </tr>\n",
       "  </thead>\n",
       "  <tbody>\n",
       "    <tr>\n",
       "      <th>80</th>\n",
       "      <td>US9311421039</td>\n",
       "      <td>Walmart Inc.</td>\n",
       "      <td>United States</td>\n",
       "      <td>Consumer Defensive</td>\n",
       "      <td>0.538</td>\n",
       "      <td>0.0141</td>\n",
       "      <td>31.042309</td>\n",
       "      <td>0.206788</td>\n",
       "    </tr>\n",
       "    <tr>\n",
       "      <th>86</th>\n",
       "      <td>US7427181091</td>\n",
       "      <td>The Procter &amp; Gamble Company</td>\n",
       "      <td>United States</td>\n",
       "      <td>Consumer Defensive</td>\n",
       "      <td>0.465</td>\n",
       "      <td>0.0257</td>\n",
       "      <td>24.831919</td>\n",
       "      <td>0.128898</td>\n",
       "    </tr>\n",
       "  </tbody>\n",
       "</table>\n",
       "</div>"
      ],
      "text/plain": [
       "            isin                      longName        country  \\\n",
       "80  US9311421039                  Walmart Inc.  United States   \n",
       "86  US7427181091  The Procter & Gamble Company  United States   \n",
       "\n",
       "                sector   beta  dividendYield  trailingPE  52WeekChange  \n",
       "80  Consumer Defensive  0.538         0.0141   31.042309      0.206788  \n",
       "86  Consumer Defensive  0.465         0.0257   24.831919      0.128898  "
      ]
     },
     "execution_count": 174,
     "metadata": {},
     "output_type": "execute_result"
    }
   ],
   "source": [
    "reduced_stock_info = prepare_reduced_stock_info()\n",
    "new = reduced_stock_info[reduced_stock_info['sector']=='Consumer Defensive']\n",
    "new = new[new['country']=='United States']\n",
    "new"
   ]
  },
  {
   "cell_type": "code",
   "execution_count": 172,
   "metadata": {},
   "outputs": [
    {
     "data": {
      "text/plain": [
       "1"
      ]
     },
     "execution_count": 172,
     "metadata": {},
     "output_type": "execute_result"
    }
   ],
   "source": [
    "min(1,2)"
   ]
  },
  {
   "cell_type": "markdown",
   "metadata": {},
   "source": [
    "__________\n",
    "## End of Testing\n",
    "__________"
   ]
  },
  {
   "cell_type": "code",
   "execution_count": 39,
   "metadata": {},
   "outputs": [],
   "source": [
    "stock_info = pd.read_csv('..\\data\\stock_info.tsv', sep='\\t')\n",
    "cio_sell_list = ['CH0010645932', 'CH0025238863', 'CH0025751329', 'CH0126881561']\n",
    "europe_countries = ['Germany', 'France', 'Netherlands', 'Spain', 'Italy', 'United Kingdom', 'Norway', 'Ireland', 'Europe']\n",
    "asia_em_countries = ['Japan', 'Hong Kong', 'China', 'South Korea', 'Taiwan', 'Asia & EM']\n",
    "forex = {\n",
    "    'CHF': 1.,\n",
    "    'EUR': 0.9549,\n",
    "    'USD': 0.9023,\n",
    "    'GBP': 1.0953,\n",
    "    'GBp': 0.010953, # ACHTUNG, GBp (auch manchmal GBX genannt) sind Pence Sterling (1 GBP = 100 GBp = 100 GBx)\n",
    "    'NOK': 0.0808,\n",
    "    'JPY': 0.00603,\n",
    "    'HKD': 0.1153,\n",
    "    'KRW': 0.00067,\n",
    "    'TWD': 0.0278\n",
    "}\n",
    "\n",
    "empty_market_allocation = {\n",
    "    'United States': 0.,\n",
    "    'Europe': 0.,\n",
    "    'Switzerland': 0.,\n",
    "    'Asia & EM': 0.\n",
    "}\n",
    "\n",
    "empty_sector_allocation = {\n",
    "    'Financial Services': 0, \n",
    "    'Technology': 0., \n",
    "    'Industrials': 0., \n",
    "    'Energy': 0., \n",
    "    'Healthcare': 0., \n",
    "    'Consumer Defensive': 0., \n",
    "    'Consumer Cyclical': 0., \n",
    "    'Basic Materials': 0., \n",
    "    'Real Estate': 0., \n",
    "    'Communication Services': 0., \n",
    "    'Utilities': 0.,\n",
    "    'Mixed': 0.\n",
    "}\n",
    "\n",
    "market_colors = {\n",
    "    'United States': 'green',\n",
    "    'Europe': 'royalblue',\n",
    "    'Switzerland': 'red',\n",
    "    'Asia & EM': 'pink'\n",
    "}\n",
    "\n",
    "sector_colors = {\n",
    "    'Financial Services': 'lightblue', \n",
    "    'Technology': 'silver', \n",
    "    'Industrials': 'steelblue', \n",
    "    'Energy': 'orange', \n",
    "    'Healthcare': 'lightgreen', \n",
    "    'Consumer Defensive': 'tan', \n",
    "    'Consumer Cyclical': 'mediumpurple', \n",
    "    'Basic Materials': 'saddlebrown', \n",
    "    'Real Estate': 'maroon', \n",
    "    'Communication Services': 'gold', \n",
    "    'Utilities': 'teal',\n",
    "    'Mixed': 'dimgrey'\n",
    "}"
   ]
  },
  {
   "cell_type": "code",
   "execution_count": 40,
   "metadata": {},
   "outputs": [
    {
     "data": {
      "text/plain": [
       "{'United States': 0.0, 'Europe': 0.0, 'Switzerland': 0.0, 'Asia & EM': 0.0}"
      ]
     },
     "execution_count": 40,
     "metadata": {},
     "output_type": "execute_result"
    }
   ],
   "source": [
    "empty_market_allocation"
   ]
  },
  {
   "cell_type": "code",
   "execution_count": 41,
   "metadata": {},
   "outputs": [
    {
     "name": "stdout",
     "output_type": "stream",
     "text": [
      "It's here!\n"
     ]
    }
   ],
   "source": [
    "test_dict = {'nice':5, 'good':'verygood', 'best':0}\n",
    "if 'best' in test_dict:\n",
    "    print(\"It's here!\")\n",
    "else:\n",
    "    print(\"Nothing here\")"
   ]
  },
  {
   "cell_type": "code",
   "execution_count": 42,
   "metadata": {},
   "outputs": [
    {
     "name": "stdout",
     "output_type": "stream",
     "text": [
      "Comparing portfolio to benchmark allocation.\n",
      "Investment profile: swiss-bias\n",
      "Market Allocation: United States 0.1282\n",
      "Reference Market: 0.15\n",
      "-0.021799999999999986\n",
      "Market Allocation: Europe 0.1557\n",
      "Reference Market: 0.12\n",
      "0.03570000000000001\n",
      "Market Allocation: Switzerland 0.6746000000000001\n",
      "Reference Market: 0.7\n",
      "-0.025399999999999867\n",
      "Market Allocation: Asia & EM 0.0415\n",
      "Reference Market: 0.03\n",
      "0.011500000000000003\n"
     ]
    },
    {
     "data": {
      "text/plain": [
       "{'United States': -0.021799999999999986,\n",
       " 'Europe': 0.03570000000000001,\n",
       " 'Switzerland': -0.025399999999999867,\n",
       " 'Asia & EM': 0.011500000000000003}"
      ]
     },
     "execution_count": 42,
     "metadata": {},
     "output_type": "execute_result"
    }
   ],
   "source": [
    "# IMPLEMENTED\n",
    "\n",
    "# Market Allocation Difference\n",
    "\n",
    "print(f'Comparing portfolio to benchmark allocation.')\n",
    "market_allocation_difference = dict(empty_market_allocation)\n",
    "print(f'Investment profile: {investors[0]._investor_type}')\n",
    "with open(f'..\\data\\profile_{investors[0]._investor_type}.json') as json_file:\n",
    "    reference_allocation = json.load(json_file)\n",
    "for market in investors[0]._market_allocation:\n",
    "    market_allocation_difference[market] = investors[0]._market_allocation[market] - reference_allocation['markets'][market]\n",
    "    print(f\"Market Allocation: {market} {investors[0]._market_allocation[market]}\")\n",
    "    print(f\"Reference Market: {reference_allocation['markets'][market]}\")\n",
    "    print(f\"{investors[0]._market_allocation[market] - reference_allocation['markets'][market]}\")\n",
    "market_allocation_difference\n"
   ]
  },
  {
   "cell_type": "code",
   "execution_count": 43,
   "metadata": {},
   "outputs": [
    {
     "data": {
      "text/plain": [
       "{'name': 'Swiss-Bias Investor',\n",
       " 'markets': {'United States': 0.15,\n",
       "  'Europe': 0.12,\n",
       "  'Switzerland': 0.7,\n",
       "  'Asia & EM': 0.03},\n",
       " 'sectors': {'Financial Services': 0.18,\n",
       "  'Technology': 0.08,\n",
       "  'Industrials': 0.15,\n",
       "  'Energy': 0.02,\n",
       "  'Healthcare': 0.24,\n",
       "  'Consumer Defensive': 0.15,\n",
       "  'Consumer Cyclical': 0.08,\n",
       "  'Basic Materials': 0.05,\n",
       "  'Real Estate': 0.0,\n",
       "  'Communication Services': 0.03,\n",
       "  'Utilities': 0.02,\n",
       "  'Mixed': 0.0}}"
      ]
     },
     "execution_count": 43,
     "metadata": {},
     "output_type": "execute_result"
    }
   ],
   "source": [
    "reference_allocation"
   ]
  },
  {
   "cell_type": "code",
   "execution_count": 44,
   "metadata": {},
   "outputs": [
    {
     "data": {
      "text/plain": [
       "{'United States': 0.1283,\n",
       " 'Europe': 0.15599999999999997,\n",
       " 'Switzerland': 0.6739,\n",
       " 'Asia & EM': 0.0416}"
      ]
     },
     "execution_count": 44,
     "metadata": {},
     "output_type": "execute_result"
    }
   ],
   "source": [
    "# IMPLEMENTED\n",
    "\n",
    "# Allokation berechnen\n",
    "\n",
    "market_allocation = {\n",
    "    'United States':0.,\n",
    "    'Europe':0.,\n",
    "    'Switzerland':0.,\n",
    "    'Asia & EM':0.\n",
    "}\n",
    "\n",
    "sector_allocation = {\n",
    "    'Financial Services': 0, \n",
    "    'Technology': 0., \n",
    "    'Industrials': 0., \n",
    "    'Energy': 0., \n",
    "    'Healthcare': 0., \n",
    "    'Consumer Defensive': 0., \n",
    "    'Consumer Cyclical': 0., \n",
    "    'Basic Materials': 0., \n",
    "    'Real Estate': 0., \n",
    "    'Communication Services': 0., \n",
    "    'Utilities': 0.\n",
    "}\n",
    "\n",
    "for position in investors[0]._portfolio:\n",
    "    region = position['region']\n",
    "    market_allocation[region] += position['portfolio_percent']\n",
    "    sector = position['sector']\n",
    "    sector_allocation[sector] += position['portfolio_percent']\n",
    "\n",
    "market_allocation\n",
    "# sector_allocation"
   ]
  },
  {
   "cell_type": "code",
   "execution_count": 45,
   "metadata": {},
   "outputs": [
    {
     "data": {
      "image/png": "[encoded data removed]",
      "text/plain": [
       "<Figure size 640x480 with 1 Axes>"
      ]
     },
     "metadata": {},
     "output_type": "display_data"
    }
   ],
   "source": [
    "# IMPLEMENTED\n",
    "\n",
    "# Allokation visualiseren\n",
    "market_colors = {\n",
    "    'United States':'green',\n",
    "    'Europe':'royalblue',\n",
    "    'Switzerland':'red',\n",
    "    'Asia & EM':'pink'\n",
    "}\n",
    "\n",
    "sector_colors= {}\n",
    "\n",
    "market_label_list = []\n",
    "market_size_list = []\n",
    "market_color_list = []\n",
    "for market in market_allocation:\n",
    "    if market_allocation[market] != 0:\n",
    "        market_label_list.append(market)\n",
    "        market_size_list.append(market_allocation[market])\n",
    "        market_color_list.append(market_colors[market])\n",
    "\n",
    "plt.pie(x=market_size_list, labels=market_label_list, autopct='%1.1f%%', colors=market_color_list, wedgeprops=dict(edgecolor='black'))\n",
    "plt.title('Market Allocation')\n",
    "plt.show()"
   ]
  },
  {
   "cell_type": "code",
   "execution_count": 46,
   "metadata": {},
   "outputs": [
    {
     "data": {
      "image/png": "[encoded data removed]",
      "text/plain": [
       "<Figure size 640x480 with 1 Axes>"
      ]
     },
     "metadata": {},
     "output_type": "display_data"
    }
   ],
   "source": [
    "# IMPLEMENTED\n",
    "\n",
    "# Allokation visualiseren\n",
    "\n",
    "sector_colors = {\n",
    "    'Financial Services':'lightblue', \n",
    "    'Technology':'silver', \n",
    "    'Industrials':'steelblue', \n",
    "    'Energy':'orange', \n",
    "    'Healthcare':'lightgreen', \n",
    "    'Consumer Defensive':'tan', \n",
    "    'Consumer Cyclical':'blueviolet', \n",
    "    'Basic Materials':'saddlebrown', \n",
    "    'Real Estate':'maroon', \n",
    "    'Communication Services':'gold', \n",
    "    'Utilities':'teal'\n",
    "}\n",
    "\n",
    "sector_label_list = []\n",
    "sector_size_list = []\n",
    "sector_color_list = []\n",
    "for sector in sector_allocation:\n",
    "    if sector_allocation[sector] != 0:\n",
    "        sector_label_list.append(sector)\n",
    "        sector_size_list.append(sector_allocation[sector])\n",
    "        sector_color_list.append(sector_colors[sector])\n",
    "\n",
    "plt.pie(x=sector_size_list, labels=sector_label_list, autopct='%1.1f%%', colors=sector_color_list, wedgeprops=dict(edgecolor='black'))\n",
    "plt.title('Sector Allocation')\n",
    "plt.show()"
   ]
  },
  {
   "cell_type": "code",
   "execution_count": 47,
   "metadata": {},
   "outputs": [
    {
     "name": "stdout",
     "output_type": "stream",
     "text": [
      "Type: <class 'dict'>\n"
     ]
    }
   ],
   "source": [
    "# referenz-allokation laden\n",
    "profile = 'swiss-bias'\n",
    "with open(f'..\\data\\profile_{profile}.json') as json_file:\n",
    "    reference_allocation = json.load(json_file)\n",
    "    print(\"Type:\", type(reference_allocation))"
   ]
  },
  {
   "cell_type": "code",
   "execution_count": 48,
   "metadata": {},
   "outputs": [
    {
     "name": "stdout",
     "output_type": "stream",
     "text": [
      "Type: <class 'dict'>\n"
     ]
    }
   ],
   "source": [
    "# json-file laden\n",
    "with open(f'..\\data\\dummy_portfolio.json') as json_file:\n",
    "    dummy_portfolio = json.load(json_file)\n",
    "    print(\"Type:\", type(dummy_portfolio))"
   ]
  },
  {
   "cell_type": "code",
   "execution_count": 49,
   "metadata": {},
   "outputs": [
    {
     "name": "stdout",
     "output_type": "stream",
     "text": [
      "{'id': '000001', 'name': 'John Doe', 'investor_type': 'Swiss-Bias', 'portfolio': [{'name': 'ABB', 'isin': 'CH0012221716', 'quantity': 10}, {'name': 'Ralp Lauren', 'isin': 'US7512121010', 'quantity': 15}], 'banker': [{'name': 'UBS', 'isin': 'CH0244767585', 'quantity': 10}, {'name': 'Zurich', 'isin': 'CH0011075394', 'quantity': 15}], 'tech_guy': [{'name': 'Apple', 'isin': 'US0378331005', 'quantity': 10}, {'name': 'Microsoft', 'isin': 'US5949181045', 'quantity': 15}], 'bad_stocks': [{'isin': 'CH0012221716'}, {'isin': 'US7512121010'}], 'market_allocation': {'USA': 0.5, 'Europe': 0.0, 'Switzerland': 0.5, 'Asia & EM': 0.0}, 'sector_allocation': {'Financial Services': 0.01, 'Technology': 0.01, 'Industrials': 0.01, 'Energy': 0.01, 'Healthcare': 0.01, 'Consumer Defensive': 0.01, 'Consumer Cyclical': 0.01, 'Basic Materials': 0.01, 'Real Estate': 0.01, 'Communication Services': 0.01, 'Utilities': 0.01}, 'market_allocation_difference': {'USA': 0.35, 'Europe': -0.1, 'Switzerland': -0.2, 'Asia & EM': -0.05}, 'sector_allocation_difference': {'Financial Services': -0.17, 'Technology': -0.07, 'Industrials': -0.14, 'Energy': -0.01, 'Healthcare': -0.24, 'Consumer Defensive': -0.14, 'Consumer Cyclical': -0.07, 'Basic Materials': -0.04, 'Real Estate': 0.01, 'Communication Services': -0.01, 'Utilities': -0.01}}\n"
     ]
    }
   ],
   "source": [
    "print(dummy_portfolio)"
   ]
  },
  {
   "cell_type": "code",
   "execution_count": 50,
   "metadata": {},
   "outputs": [
    {
     "data": {
      "text/plain": [
       "0      Electrical Equipment & Parts\n",
       "1    Medical Instruments & Supplies\n",
       "2     Building Products & Equipment\n",
       "3               Specialty Chemicals\n",
       "4                Building Materials\n",
       "5    Integrated Freight & Logistics\n",
       "6                 Computer Hardware\n",
       "7            Diagnostics & Research\n",
       "8                    Packaged Foods\n",
       "9      Drug Manufacturers - General\n",
       "Name: industry, dtype: object"
      ]
     },
     "execution_count": 50,
     "metadata": {},
     "output_type": "execute_result"
    }
   ],
   "source": [
    "# IMPLEMENTIERT\n",
    "# stock-info laden\n",
    "stock_info = pd.read_csv('..\\data\\stock_info.tsv', sep='\\t')\n",
    "# stock_info['isin'].head()\n",
    "stock_info['longName'].head()\n",
    "stock_info['industry'].head(10)"
   ]
  },
  {
   "cell_type": "code",
   "execution_count": 51,
   "metadata": {},
   "outputs": [
    {
     "name": "stdout",
     "output_type": "stream",
     "text": [
      "Index(['address1', 'city', 'zip', 'country', 'phone', 'fax', 'website',\n",
      "       'industry', 'industryKey', 'industryDisp',\n",
      "       ...\n",
      "       'shortPercentOfFloat', 'totalAssets', 'navPrice', 'beta3Year',\n",
      "       'fundFamily', 'fundInceptionDate', 'legalType', 'yield', 'ytdReturn',\n",
      "       'threeYearAverageReturn'],\n",
      "      dtype='object', length=146)\n"
     ]
    }
   ],
   "source": [
    "print(stock_info.columns)"
   ]
  },
  {
   "cell_type": "code",
   "execution_count": 52,
   "metadata": {},
   "outputs": [
    {
     "name": "stdout",
     "output_type": "stream",
     "text": [
      "67    AstraZeneca PLC\n",
      "Name: longName, dtype: object\n",
      "67    11270.0\n",
      "Name: previousClose, dtype: float64\n",
      "67    GBp\n",
      "Name: currency, dtype: object\n"
     ]
    }
   ],
   "source": [
    "azn_info = stock_info.loc[stock_info['isin']=='GB0009895292']\n",
    "print(f'{azn_info[\"longName\"]}')\n",
    "print(f'{azn_info[\"previousClose\"]}')\n",
    "print(f'{azn_info[\"currency\"]}')"
   ]
  },
  {
   "cell_type": "code",
   "execution_count": 53,
   "metadata": {},
   "outputs": [
    {
     "data": {
      "text/plain": [
       "[{'isin': 'CH0038863350', 'quantity': 10},\n",
       " {'isin': 'US4581401001', 'quantity': 30},\n",
       " {'isin': 'CH0009002962', 'quantity': 15},\n",
       " {'isin': 'DE000A1EWWW0', 'quantity': 1},\n",
       " {'isin': 'FR0000120073', 'quantity': 2},\n",
       " {'isin': 'NL0010273215', 'quantity': 3},\n",
       " {'isin': 'GB00B7KR2P84', 'quantity': 4},\n",
       " {'isin': 'JE00B4T3BW64', 'quantity': 5},\n",
       " {'isin': 'LU0480132876', 'quantity': 6},\n",
       " {'isin': 'HK0000069689', 'quantity': 7},\n",
       " {'isin': 'KYG017191142', 'quantity': 8},\n",
       " {'isin': 'GB0005405286', 'quantity': 9},\n",
       " {'isin': 'KYG6427A1022', 'quantity': 10},\n",
       " {'isin': 'KR7005930003', 'quantity': 11},\n",
       " {'isin': 'TW0002330008', 'quantity': 12},\n",
       " {'isin': 'NL0011585146', 'quantity': 13},\n",
       " {'isin': 'JP3732000009', 'quantity': 14}]"
      ]
     },
     "execution_count": 53,
     "metadata": {},
     "output_type": "execute_result"
    }
   ],
   "source": [
    "# test-portfolio\n",
    "portfolio = []\n",
    "isin_list = ['CH0038863350', 'US4581401001', 'CH0009002962', 'DE000A1EWWW0', 'FR0000120073', 'NL0010273215', 'GB00B7KR2P84', 'JE00B4T3BW64', 'LU0480132876', 'HK0000069689', 'KYG017191142', 'GB0005405286', 'KYG6427A1022', 'KR7005930003', 'TW0002330008', 'NL0011585146', 'JP3732000009']\n",
    "quantity_list = [10, 30, 15, 1, 2, 3, 4, 5, 6, 7, 8, 9, 10, 11, 12, 13, 14]\n",
    "# quantity_list = [1,1,1,1,1,1,1,1,1,1,1,1,1,1,1,1,1]\n",
    "\n",
    "for i in range(len(isin_list)):\n",
    "    portfolio.append({'isin':isin_list[i], 'quantity':quantity_list[i]})\n",
    "portfolio"
   ]
  },
  {
   "cell_type": "code",
   "execution_count": 54,
   "metadata": {},
   "outputs": [
    {
     "name": "stdout",
     "output_type": "stream",
     "text": [
      "Buying 5 units of ISIN US123...\n",
      "New Position.\n",
      "Successfully bought 5 units of ISIN US123.\n",
      "Purchase successfully completed!\n"
     ]
    }
   ],
   "source": [
    "# IMPLEMENTIERT\n",
    "\n",
    "# Kaufen\n",
    "isin = 'US123'\n",
    "quantity = 5\n",
    "\n",
    "print(f\"Buying {quantity} units of ISIN {isin}...\")\n",
    "\n",
    "# Checken, ob bereits im portfolio\n",
    "already_bought = False\n",
    "for i in range(len(portfolio)):\n",
    "    if portfolio[i]['isin'] == isin:\n",
    "        already_bought = True\n",
    "        print(f\"Position already in Portfolio, increasing quantity by {quantity}.\")\n",
    "        portfolio[i]['quantity'] += quantity\n",
    "        print(f'Updated Position: {portfolio[i][\"quantity\"]} units of ISIN {portfolio[i][\"isin\"]}')\n",
    "        break\n",
    "if already_bought == False:\n",
    "    portfolio.append({'isin':isin, 'quantity':quantity})\n",
    "    print(f'New Position.\\nSuccessfully bought {quantity} units of ISIN {isin}.')\n",
    "\n",
    "print(f'Purchase successfully completed!')\n",
    "\n",
    "\n",
    "\n",
    "# portfolio.append({'isin':'CH0038863350', 'quantity':5})"
   ]
  },
  {
   "cell_type": "code",
   "execution_count": 55,
   "metadata": {},
   "outputs": [
    {
     "ename": "IndexError",
     "evalue": "index 0 is out of bounds for axis 0 with size 0",
     "output_type": "error",
     "traceback": [
      "\u001b[1;31m---------------------------------------------------------------------------\u001b[0m",
      "\u001b[1;31mIndexError\u001b[0m                                Traceback (most recent call last)",
      "\u001b[1;32mc:\\Users\\rapha\\OneDrive\\Desktop\\CDS_HS23\\04 Recommender Systems\\GitHub\\personal-investment-recommender\\analysis\\raffi_test.ipynb Cell 56\u001b[0m line \u001b[0;36m2\n\u001b[0;32m     <a href='vscode-notebook-cell:/c%3A/Users/rapha/OneDrive/Desktop/CDS_HS23/04%20Recommender%20Systems/GitHub/personal-investment-recommender/analysis/raffi_test.ipynb#Y106sZmlsZQ%3D%3D?line=21'>22</a>\u001b[0m \u001b[39mfor\u001b[39;00m position \u001b[39min\u001b[39;00m portfolio:\n\u001b[0;32m     <a href='vscode-notebook-cell:/c%3A/Users/rapha/OneDrive/Desktop/CDS_HS23/04%20Recommender%20Systems/GitHub/personal-investment-recommender/analysis/raffi_test.ipynb#Y106sZmlsZQ%3D%3D?line=22'>23</a>\u001b[0m     \u001b[39m# relevante Infos fetchen\u001b[39;00m\n\u001b[0;32m     <a href='vscode-notebook-cell:/c%3A/Users/rapha/OneDrive/Desktop/CDS_HS23/04%20Recommender%20Systems/GitHub/personal-investment-recommender/analysis/raffi_test.ipynb#Y106sZmlsZQ%3D%3D?line=23'>24</a>\u001b[0m     info \u001b[39m=\u001b[39m stock_info\u001b[39m.\u001b[39mloc[stock_info[\u001b[39m'\u001b[39m\u001b[39misin\u001b[39m\u001b[39m'\u001b[39m] \u001b[39m==\u001b[39m position[\u001b[39m'\u001b[39m\u001b[39misin\u001b[39m\u001b[39m'\u001b[39m], [\u001b[39m'\u001b[39m\u001b[39misin\u001b[39m\u001b[39m'\u001b[39m, \u001b[39m'\u001b[39m\u001b[39mlongName\u001b[39m\u001b[39m'\u001b[39m, \u001b[39m'\u001b[39m\u001b[39mpreviousClose\u001b[39m\u001b[39m'\u001b[39m, \u001b[39m'\u001b[39m\u001b[39mcurrency\u001b[39m\u001b[39m'\u001b[39m, \u001b[39m'\u001b[39m\u001b[39mcountry\u001b[39m\u001b[39m'\u001b[39m , \u001b[39m'\u001b[39m\u001b[39msector\u001b[39m\u001b[39m'\u001b[39m]] \u001b[39m# zeile aus stock-info von dieser Aktie\u001b[39;00m\n\u001b[1;32m---> <a href='vscode-notebook-cell:/c%3A/Users/rapha/OneDrive/Desktop/CDS_HS23/04%20Recommender%20Systems/GitHub/personal-investment-recommender/analysis/raffi_test.ipynb#Y106sZmlsZQ%3D%3D?line=25'>26</a>\u001b[0m     position[\u001b[39m'\u001b[39m\u001b[39mname\u001b[39m\u001b[39m'\u001b[39m] \u001b[39m=\u001b[39m info[\u001b[39m'\u001b[39;49m\u001b[39mlongName\u001b[39;49m\u001b[39m'\u001b[39;49m]\u001b[39m.\u001b[39;49mvalues[\u001b[39m0\u001b[39;49m]       \u001b[39m# Name\u001b[39;00m\n\u001b[0;32m     <a href='vscode-notebook-cell:/c%3A/Users/rapha/OneDrive/Desktop/CDS_HS23/04%20Recommender%20Systems/GitHub/personal-investment-recommender/analysis/raffi_test.ipynb#Y106sZmlsZQ%3D%3D?line=26'>27</a>\u001b[0m     position[\u001b[39m'\u001b[39m\u001b[39mprice\u001b[39m\u001b[39m'\u001b[39m] \u001b[39m=\u001b[39m info[\u001b[39m'\u001b[39m\u001b[39mpreviousClose\u001b[39m\u001b[39m'\u001b[39m]\u001b[39m.\u001b[39mvalues[\u001b[39m0\u001b[39m] \u001b[39m# Preis\u001b[39;00m\n\u001b[0;32m     <a href='vscode-notebook-cell:/c%3A/Users/rapha/OneDrive/Desktop/CDS_HS23/04%20Recommender%20Systems/GitHub/personal-investment-recommender/analysis/raffi_test.ipynb#Y106sZmlsZQ%3D%3D?line=27'>28</a>\u001b[0m     position[\u001b[39m'\u001b[39m\u001b[39mcurrency\u001b[39m\u001b[39m'\u001b[39m] \u001b[39m=\u001b[39m info[\u001b[39m'\u001b[39m\u001b[39mcurrency\u001b[39m\u001b[39m'\u001b[39m]\u001b[39m.\u001b[39mvalues[\u001b[39m0\u001b[39m]   \u001b[39m# Währung\u001b[39;00m\n",
      "\u001b[1;31mIndexError\u001b[0m: index 0 is out of bounds for axis 0 with size 0"
     ]
    }
   ],
   "source": [
    "# IMPLEMENTIERT\n",
    "# mit portfolio-positionen die daten aus stock-data holen für allokation\n",
    "\n",
    "europe_countries = ['Germany', 'France', 'Netherlands', 'Spain', 'Italy', 'United Kingdom', 'Norway', 'Ireland']\n",
    "asia_stocks = ['Japan', 'Hong Kong', 'China', 'South Korea', 'Taiwan']\n",
    "\n",
    "portfolio_currency = 'CHF'\n",
    "forex = {\n",
    "    'CHF':1.,\n",
    "    'EUR':0.9549,\n",
    "    'USD':0.9023,\n",
    "    'GBp':1.0953, # achtung, yfinance nutzt lowercase p\n",
    "    'GBP':1.0953,\n",
    "    'NOK':0.0808,\n",
    "    'JPY':0.00603,\n",
    "    'HKD':0.1153,\n",
    "    'KRW':0.00067,\n",
    "    'TWD':0.0278\n",
    "}\n",
    "\n",
    "portfolio_value = 0 # variable für gesamtwert des portfolios\n",
    "for position in portfolio:\n",
    "    # relevante Infos fetchen\n",
    "    info = stock_info.loc[stock_info['isin'] == position['isin'], ['isin', 'longName', 'previousClose', 'currency', 'country' , 'sector']] # zeile aus stock-info von dieser Aktie\n",
    "    \n",
    "    position['name'] = info['longName'].values[0]       # Name\n",
    "    position['price'] = info['previousClose'].values[0] # Preis\n",
    "    position['currency'] = info['currency'].values[0]   # Währung\n",
    "    position['value'] = round(position['quantity']*position['price']*forex[position['currency']], 2) # Wert = Anzahl*Preis*Wechselkurs\n",
    "    portfolio_value += position['value']    # Portfoliowert aktualisieren\n",
    "    position['country'] = info['country'].values[0]     # Land\n",
    "\n",
    "    # Region für Allokation\n",
    "    if position['country'] in europe_countries:\n",
    "        position['region'] = 'Europe'\n",
    "    elif position['country'] in asia_stocks:\n",
    "        position['region'] = 'Asia'\n",
    "    else:\n",
    "        position['region'] = position['country']\n",
    "    position['sector'] = info['sector'].values[0]\n",
    "\n",
    "# Anteil am Portfoliowert für jede Position\n",
    "for position in portfolio:\n",
    "    position['portfolio_percent'] = round(position['value']/portfolio_value, 4)\n",
    "    \n",
    "print(portfolio_value)\n",
    "print(portfolio)\n",
    "# print(portfolio)"
   ]
  },
  {
   "cell_type": "code",
   "execution_count": null,
   "metadata": {},
   "outputs": [
    {
     "name": "stdout",
     "output_type": "stream",
     "text": [
      "1034.2\n",
      "989.64\n",
      "20745.0\n",
      "163.25\n",
      "304.31\n",
      "1641.19\n",
      "1711.3\n",
      "2534.8\n",
      "517.62\n",
      "56.01\n",
      "75.64\n",
      "6437.08\n",
      "188.52\n",
      "511.48\n",
      "183.81\n",
      "3695.39\n",
      "141.11\n"
     ]
    },
    {
     "ename": "KeyError",
     "evalue": "'value'",
     "output_type": "error",
     "traceback": [
      "\u001b[1;31m---------------------------------------------------------------------------\u001b[0m",
      "\u001b[1;31mKeyError\u001b[0m                                  Traceback (most recent call last)",
      "\u001b[1;32mc:\\Users\\rapha\\OneDrive\\Desktop\\CDS_HS23\\04 Recommender Systems\\GitHub\\personal-investment-recommender\\analysis\\raffi_test.ipynb Cell 46\u001b[0m line \u001b[0;36m3\n\u001b[0;32m      <a href='vscode-notebook-cell:/c%3A/Users/rapha/OneDrive/Desktop/CDS_HS23/04%20Recommender%20Systems/GitHub/personal-investment-recommender/analysis/raffi_test.ipynb#X63sZmlsZQ%3D%3D?line=0'>1</a>\u001b[0m testy \u001b[39m=\u001b[39m \u001b[39m0\u001b[39m\n\u001b[0;32m      <a href='vscode-notebook-cell:/c%3A/Users/rapha/OneDrive/Desktop/CDS_HS23/04%20Recommender%20Systems/GitHub/personal-investment-recommender/analysis/raffi_test.ipynb#X63sZmlsZQ%3D%3D?line=1'>2</a>\u001b[0m \u001b[39mfor\u001b[39;00m i \u001b[39min\u001b[39;00m \u001b[39mrange\u001b[39m(\u001b[39mlen\u001b[39m(portfolio)):\n\u001b[1;32m----> <a href='vscode-notebook-cell:/c%3A/Users/rapha/OneDrive/Desktop/CDS_HS23/04%20Recommender%20Systems/GitHub/personal-investment-recommender/analysis/raffi_test.ipynb#X63sZmlsZQ%3D%3D?line=2'>3</a>\u001b[0m     \u001b[39mprint\u001b[39m(portfolio[i][\u001b[39m'\u001b[39;49m\u001b[39mvalue\u001b[39;49m\u001b[39m'\u001b[39;49m])\n\u001b[0;32m      <a href='vscode-notebook-cell:/c%3A/Users/rapha/OneDrive/Desktop/CDS_HS23/04%20Recommender%20Systems/GitHub/personal-investment-recommender/analysis/raffi_test.ipynb#X63sZmlsZQ%3D%3D?line=3'>4</a>\u001b[0m     testy \u001b[39m+\u001b[39m\u001b[39m=\u001b[39m portfolio[i][\u001b[39m'\u001b[39m\u001b[39mvalue\u001b[39m\u001b[39m'\u001b[39m]\n\u001b[0;32m      <a href='vscode-notebook-cell:/c%3A/Users/rapha/OneDrive/Desktop/CDS_HS23/04%20Recommender%20Systems/GitHub/personal-investment-recommender/analysis/raffi_test.ipynb#X63sZmlsZQ%3D%3D?line=4'>5</a>\u001b[0m \u001b[39mprint\u001b[39m(\u001b[39mf\u001b[39m\u001b[39m'\u001b[39m\u001b[39mPortfolio Value: \u001b[39m\u001b[39m{\u001b[39;00mtesty\u001b[39m}\u001b[39;00m\u001b[39m'\u001b[39m)\n",
      "\u001b[1;31mKeyError\u001b[0m: 'value'"
     ]
    }
   ],
   "source": [
    "testy = 0\n",
    "for i in range(len(portfolio)):\n",
    "    print(portfolio[i]['value'])\n",
    "    testy += portfolio[i]['value']\n",
    "print(f'Portfolio Value: {testy}')"
   ]
  },
  {
   "cell_type": "code",
   "execution_count": null,
   "metadata": {},
   "outputs": [
    {
     "ename": "KeyError",
     "evalue": "'portfolio_percent'",
     "output_type": "error",
     "traceback": [
      "\u001b[1;31m---------------------------------------------------------------------------\u001b[0m",
      "\u001b[1;31mKeyError\u001b[0m                                  Traceback (most recent call last)",
      "\u001b[1;32mc:\\Users\\rapha\\OneDrive\\Desktop\\CDS_HS23\\04 Recommender Systems\\GitHub\\personal-investment-recommender\\analysis\\raffi_test.ipynb Cell 47\u001b[0m line \u001b[0;36m3\n\u001b[0;32m      <a href='vscode-notebook-cell:/c%3A/Users/rapha/OneDrive/Desktop/CDS_HS23/04%20Recommender%20Systems/GitHub/personal-investment-recommender/analysis/raffi_test.ipynb#X64sZmlsZQ%3D%3D?line=0'>1</a>\u001b[0m testy2 \u001b[39m=\u001b[39m \u001b[39m0\u001b[39m\n\u001b[0;32m      <a href='vscode-notebook-cell:/c%3A/Users/rapha/OneDrive/Desktop/CDS_HS23/04%20Recommender%20Systems/GitHub/personal-investment-recommender/analysis/raffi_test.ipynb#X64sZmlsZQ%3D%3D?line=1'>2</a>\u001b[0m \u001b[39mfor\u001b[39;00m i \u001b[39min\u001b[39;00m \u001b[39mrange\u001b[39m(\u001b[39mlen\u001b[39m(portfolio)):\n\u001b[1;32m----> <a href='vscode-notebook-cell:/c%3A/Users/rapha/OneDrive/Desktop/CDS_HS23/04%20Recommender%20Systems/GitHub/personal-investment-recommender/analysis/raffi_test.ipynb#X64sZmlsZQ%3D%3D?line=2'>3</a>\u001b[0m     \u001b[39mprint\u001b[39m(portfolio[i][\u001b[39m'\u001b[39;49m\u001b[39mportfolio_percent\u001b[39;49m\u001b[39m'\u001b[39;49m])\n\u001b[0;32m      <a href='vscode-notebook-cell:/c%3A/Users/rapha/OneDrive/Desktop/CDS_HS23/04%20Recommender%20Systems/GitHub/personal-investment-recommender/analysis/raffi_test.ipynb#X64sZmlsZQ%3D%3D?line=3'>4</a>\u001b[0m     testy2 \u001b[39m+\u001b[39m\u001b[39m=\u001b[39m portfolio[i][\u001b[39m'\u001b[39m\u001b[39mportfolio_percent\u001b[39m\u001b[39m'\u001b[39m]\n\u001b[0;32m      <a href='vscode-notebook-cell:/c%3A/Users/rapha/OneDrive/Desktop/CDS_HS23/04%20Recommender%20Systems/GitHub/personal-investment-recommender/analysis/raffi_test.ipynb#X64sZmlsZQ%3D%3D?line=4'>5</a>\u001b[0m \u001b[39mprint\u001b[39m(\u001b[39mf\u001b[39m\u001b[39m'\u001b[39m\u001b[39mPortfolio Total Percent: \u001b[39m\u001b[39m{\u001b[39;00mtesty2\u001b[39m}\u001b[39;00m\u001b[39m'\u001b[39m)\n",
      "\u001b[1;31mKeyError\u001b[0m: 'portfolio_percent'"
     ]
    }
   ],
   "source": [
    "testy2 = 0\n",
    "for i in range(len(portfolio)):\n",
    "    print(portfolio[i]['portfolio_percent'])\n",
    "    testy2 += portfolio[i]['portfolio_percent']\n",
    "print(f'Portfolio Total Percent: {testy2}')"
   ]
  },
  {
   "cell_type": "code",
   "execution_count": null,
   "metadata": {},
   "outputs": [
    {
     "data": {
      "text/plain": [
       "['Switzerland',\n",
       " nan,\n",
       " 'Germany',\n",
       " 'France',\n",
       " 'Netherlands',\n",
       " 'Spain',\n",
       " 'Italy',\n",
       " 'United Kingdom',\n",
       " 'Norway',\n",
       " 'United States',\n",
       " 'Ireland',\n",
       " 'Japan',\n",
       " 'Hong Kong',\n",
       " 'China',\n",
       " 'South Korea',\n",
       " 'Taiwan']"
      ]
     },
     "execution_count": 253,
     "metadata": {},
     "output_type": "execute_result"
    }
   ],
   "source": [
    "countries = []\n",
    "for i in range(len(stock_info)):\n",
    "    if stock_info['country'][i] not in countries:\n",
    "        countries.append(stock_info['country'][i])\n",
    "countries"
   ]
  },
  {
   "cell_type": "code",
   "execution_count": null,
   "metadata": {},
   "outputs": [
    {
     "data": {
      "text/plain": [
       "['CHF', 'EUR', 'USD', 'GBp', 'NOK', 'JPY', 'HKD', 'KRW', 'TWD']"
      ]
     },
     "execution_count": 254,
     "metadata": {},
     "output_type": "execute_result"
    }
   ],
   "source": [
    "currencies = []\n",
    "for i in range(len(stock_info)):\n",
    "    if stock_info['currency'][i] not in currencies:\n",
    "        currencies.append(stock_info['currency'][i])\n",
    "currencies"
   ]
  },
  {
   "cell_type": "code",
   "execution_count": null,
   "metadata": {},
   "outputs": [],
   "source": [
    "europe_countries = ['Germany', 'France', 'Netherlands', 'Spain', 'Italy', 'United Kingdom', 'Norway', 'Ireland']\n",
    "asia_stocks = ['Japan', 'Hong Kong', 'China', 'South Korea', 'Taiwan']"
   ]
  },
  {
   "cell_type": "code",
   "execution_count": null,
   "metadata": {},
   "outputs": [
    {
     "data": {
      "text/plain": [
       "24                                      Georg Fischer AG\n",
       "75     Compagnie Générale des Établissements Michelin...\n",
       "110    UBS (Lux) Fund Solutions – MSCI Emerging Marke...\n",
       "111      UBS (Lux) Fund Solutions – MSCI Japan UCITS ETF\n",
       "Name: longName, dtype: object"
      ]
     },
     "execution_count": 256,
     "metadata": {},
     "output_type": "execute_result"
    }
   ],
   "source": [
    "# Titel ohne country\n",
    "stock_info[stock_info['country'].isna()]['longName']"
   ]
  },
  {
   "cell_type": "code",
   "execution_count": null,
   "metadata": {},
   "outputs": [
    {
     "data": {
      "text/plain": [
       "24     CH1169151003\n",
       "75     FR001400AJ45\n",
       "110    LU0480132876\n",
       "111    LU1169822779\n",
       "Name: isin, dtype: object"
      ]
     },
     "execution_count": 257,
     "metadata": {},
     "output_type": "execute_result"
    }
   ],
   "source": [
    "stock_info[stock_info['sector'].isna()]['isin']"
   ]
  },
  {
   "cell_type": "code",
   "execution_count": null,
   "metadata": {},
   "outputs": [
    {
     "data": {
      "text/plain": [
       "Series([], Name: longName, dtype: object)"
      ]
     },
     "execution_count": 258,
     "metadata": {},
     "output_type": "execute_result"
    }
   ],
   "source": [
    "stock_info[stock_info['previousClose'].isna()]['longName']"
   ]
  },
  {
   "cell_type": "code",
   "execution_count": null,
   "metadata": {},
   "outputs": [
    {
     "data": {
      "text/plain": [
       "24                                      Georg Fischer AG\n",
       "75     Compagnie Générale des Établissements Michelin...\n",
       "110    UBS (Lux) Fund Solutions – MSCI Emerging Marke...\n",
       "111      UBS (Lux) Fund Solutions – MSCI Japan UCITS ETF\n",
       "Name: longName, dtype: object"
      ]
     },
     "execution_count": 259,
     "metadata": {},
     "output_type": "execute_result"
    }
   ],
   "source": [
    "stock_info[stock_info['industry'].isna()]['longName']"
   ]
  },
  {
   "cell_type": "code",
   "execution_count": null,
   "metadata": {},
   "outputs": [
    {
     "data": {
      "text/plain": [
       "24    NaN\n",
       "75    NaN\n",
       "110   NaN\n",
       "111   NaN\n",
       "Name: dividendYield, dtype: float64"
      ]
     },
     "execution_count": 260,
     "metadata": {},
     "output_type": "execute_result"
    }
   ],
   "source": [
    "stock_info[stock_info['industry'].isna()]['dividendYield']"
   ]
  },
  {
   "cell_type": "code",
   "execution_count": null,
   "metadata": {},
   "outputs": [
    {
     "data": {
      "text/html": [
       "<div>\n",
       "<style scoped>\n",
       "    .dataframe tbody tr th:only-of-type {\n",
       "        vertical-align: middle;\n",
       "    }\n",
       "\n",
       "    .dataframe tbody tr th {\n",
       "        vertical-align: top;\n",
       "    }\n",
       "\n",
       "    .dataframe thead th {\n",
       "        text-align: right;\n",
       "    }\n",
       "</style>\n",
       "<table border=\"1\" class=\"dataframe\">\n",
       "  <thead>\n",
       "    <tr style=\"text-align: right;\">\n",
       "      <th></th>\n",
       "      <th>dividendYield</th>\n",
       "    </tr>\n",
       "  </thead>\n",
       "  <tbody>\n",
       "    <tr>\n",
       "      <th>8</th>\n",
       "      <td>0.0286</td>\n",
       "    </tr>\n",
       "  </tbody>\n",
       "</table>\n",
       "</div>"
      ],
      "text/plain": [
       "   dividendYield\n",
       "8         0.0286"
      ]
     },
     "execution_count": 261,
     "metadata": {},
     "output_type": "execute_result"
    }
   ],
   "source": [
    "stock_info.loc[stock_info['isin'] == 'CH0038863350', ['dividendYield']]"
   ]
  },
  {
   "cell_type": "code",
   "execution_count": null,
   "metadata": {},
   "outputs": [
    {
     "data": {
      "text/html": [
       "<div>\n",
       "<style scoped>\n",
       "    .dataframe tbody tr th:only-of-type {\n",
       "        vertical-align: middle;\n",
       "    }\n",
       "\n",
       "    .dataframe tbody tr th {\n",
       "        vertical-align: top;\n",
       "    }\n",
       "\n",
       "    .dataframe thead th {\n",
       "        text-align: right;\n",
       "    }\n",
       "</style>\n",
       "<table border=\"1\" class=\"dataframe\">\n",
       "  <thead>\n",
       "    <tr style=\"text-align: right;\">\n",
       "      <th></th>\n",
       "      <th>52WeekChange</th>\n",
       "    </tr>\n",
       "  </thead>\n",
       "  <tbody>\n",
       "    <tr>\n",
       "      <th>22</th>\n",
       "      <td>0.135099</td>\n",
       "    </tr>\n",
       "  </tbody>\n",
       "</table>\n",
       "</div>"
      ],
      "text/plain": [
       "    52WeekChange\n",
       "22      0.135099"
      ]
     },
     "execution_count": 262,
     "metadata": {},
     "output_type": "execute_result"
    }
   ],
   "source": [
    "stock_info.loc[stock_info['isin'] == 'CH0319416936', ['52WeekChange']]"
   ]
  },
  {
   "cell_type": "code",
   "execution_count": null,
   "metadata": {},
   "outputs": [
    {
     "data": {
      "text/html": [
       "<div>\n",
       "<style scoped>\n",
       "    .dataframe tbody tr th:only-of-type {\n",
       "        vertical-align: middle;\n",
       "    }\n",
       "\n",
       "    .dataframe tbody tr th {\n",
       "        vertical-align: top;\n",
       "    }\n",
       "\n",
       "    .dataframe thead th {\n",
       "        text-align: right;\n",
       "    }\n",
       "</style>\n",
       "<table border=\"1\" class=\"dataframe\">\n",
       "  <thead>\n",
       "    <tr style=\"text-align: right;\">\n",
       "      <th></th>\n",
       "      <th>previousClose</th>\n",
       "    </tr>\n",
       "  </thead>\n",
       "  <tbody>\n",
       "    <tr>\n",
       "      <th>0</th>\n",
       "      <td>32.66</td>\n",
       "    </tr>\n",
       "  </tbody>\n",
       "</table>\n",
       "</div>"
      ],
      "text/plain": [
       "   previousClose\n",
       "0          32.66"
      ]
     },
     "execution_count": 263,
     "metadata": {},
     "output_type": "execute_result"
    }
   ],
   "source": [
    "stock_info.loc[stock_info['isin'] == 'CH0012221716', ['previousClose']]"
   ]
  },
  {
   "cell_type": "code",
   "execution_count": null,
   "metadata": {},
   "outputs": [
    {
     "data": {
      "text/html": [
       "<div>\n",
       "<style scoped>\n",
       "    .dataframe tbody tr th:only-of-type {\n",
       "        vertical-align: middle;\n",
       "    }\n",
       "\n",
       "    .dataframe tbody tr th {\n",
       "        vertical-align: top;\n",
       "    }\n",
       "\n",
       "    .dataframe thead th {\n",
       "        text-align: right;\n",
       "    }\n",
       "</style>\n",
       "<table border=\"1\" class=\"dataframe\">\n",
       "  <thead>\n",
       "    <tr style=\"text-align: right;\">\n",
       "      <th></th>\n",
       "      <th>isin</th>\n",
       "      <th>longName</th>\n",
       "      <th>previousClose</th>\n",
       "      <th>sector</th>\n",
       "      <th>ytdReturn</th>\n",
       "    </tr>\n",
       "  </thead>\n",
       "  <tbody>\n",
       "    <tr>\n",
       "      <th>8</th>\n",
       "      <td>CH0038863350</td>\n",
       "      <td>Nestlé S.A.</td>\n",
       "      <td>103.42</td>\n",
       "      <td>Consumer Defensive</td>\n",
       "      <td>NaN</td>\n",
       "    </tr>\n",
       "  </tbody>\n",
       "</table>\n",
       "</div>"
      ],
      "text/plain": [
       "           isin     longName  previousClose              sector  ytdReturn\n",
       "8  CH0038863350  Nestlé S.A.         103.42  Consumer Defensive        NaN"
      ]
     },
     "execution_count": 264,
     "metadata": {},
     "output_type": "execute_result"
    }
   ],
   "source": [
    "nesn_data = stock_info.loc[stock_info['isin'] == 'CH0038863350', ['isin', 'longName', 'previousClose', 'sector', 'ytdReturn']]\n",
    "nesn_data\n"
   ]
  },
  {
   "cell_type": "code",
   "execution_count": null,
   "metadata": {},
   "outputs": [
    {
     "data": {
      "text/html": [
       "<div>\n",
       "<style scoped>\n",
       "    .dataframe tbody tr th:only-of-type {\n",
       "        vertical-align: middle;\n",
       "    }\n",
       "\n",
       "    .dataframe tbody tr th {\n",
       "        vertical-align: top;\n",
       "    }\n",
       "\n",
       "    .dataframe thead th {\n",
       "        text-align: right;\n",
       "    }\n",
       "</style>\n",
       "<table border=\"1\" class=\"dataframe\">\n",
       "  <thead>\n",
       "    <tr style=\"text-align: right;\">\n",
       "      <th></th>\n",
       "      <th>address1</th>\n",
       "      <th>city</th>\n",
       "      <th>zip</th>\n",
       "      <th>country</th>\n",
       "      <th>phone</th>\n",
       "      <th>fax</th>\n",
       "      <th>website</th>\n",
       "      <th>industry</th>\n",
       "      <th>industryKey</th>\n",
       "      <th>industryDisp</th>\n",
       "      <th>...</th>\n",
       "      <th>shortPercentOfFloat</th>\n",
       "      <th>totalAssets</th>\n",
       "      <th>navPrice</th>\n",
       "      <th>beta3Year</th>\n",
       "      <th>fundFamily</th>\n",
       "      <th>fundInceptionDate</th>\n",
       "      <th>legalType</th>\n",
       "      <th>yield</th>\n",
       "      <th>ytdReturn</th>\n",
       "      <th>threeYearAverageReturn</th>\n",
       "    </tr>\n",
       "  </thead>\n",
       "  <tbody>\n",
       "    <tr>\n",
       "      <th>8</th>\n",
       "      <td>avenue NestlE 55</td>\n",
       "      <td>Vevey</td>\n",
       "      <td>1800</td>\n",
       "      <td>Switzerland</td>\n",
       "      <td>41 21 924 11 11</td>\n",
       "      <td>NaN</td>\n",
       "      <td>https://www.nestle.com</td>\n",
       "      <td>Packaged Foods</td>\n",
       "      <td>packaged-foods</td>\n",
       "      <td>Packaged Foods</td>\n",
       "      <td>...</td>\n",
       "      <td>NaN</td>\n",
       "      <td>NaN</td>\n",
       "      <td>NaN</td>\n",
       "      <td>NaN</td>\n",
       "      <td>NaN</td>\n",
       "      <td>NaN</td>\n",
       "      <td>NaN</td>\n",
       "      <td>NaN</td>\n",
       "      <td>NaN</td>\n",
       "      <td>NaN</td>\n",
       "    </tr>\n",
       "  </tbody>\n",
       "</table>\n",
       "<p>1 rows × 146 columns</p>\n",
       "</div>"
      ],
      "text/plain": [
       "           address1   city   zip      country            phone  fax  \\\n",
       "8  avenue NestlE 55  Vevey  1800  Switzerland  41 21 924 11 11  NaN   \n",
       "\n",
       "                  website        industry     industryKey    industryDisp  \\\n",
       "8  https://www.nestle.com  Packaged Foods  packaged-foods  Packaged Foods   \n",
       "\n",
       "   ... shortPercentOfFloat totalAssets navPrice beta3Year  fundFamily  \\\n",
       "8  ...                 NaN         NaN      NaN       NaN         NaN   \n",
       "\n",
       "  fundInceptionDate  legalType  yield  ytdReturn  threeYearAverageReturn  \n",
       "8               NaN        NaN    NaN        NaN                     NaN  \n",
       "\n",
       "[1 rows x 146 columns]"
      ]
     },
     "execution_count": 265,
     "metadata": {},
     "output_type": "execute_result"
    }
   ],
   "source": [
    "info = stock_info.loc[stock_info['isin'] == portfolio[0]['isin']]\n",
    "info"
   ]
  },
  {
   "cell_type": "markdown",
   "metadata": {},
   "source": [
    "Klasse: investor\n",
    "Attribut:\n",
    "portfolio isch s dictionary mit beliebig viel key:value paar wo sind ISIN:Anzahl_Aktien (CH0038863350:1400) <-- er het 1400x nestlé aktia\n",
    "bad_stocks: a lista mit allna aktia wo de CIO uf \"SELL\" het (warnig für da user, dass er dia söll wegtua)\n",
    "market_allocation isch s dictionary mit da vier märkt als key und deren %-Anteil als Value (Europe:20%)\n",
    "sector_allocation: same, aber mit industriesektora (Tech:8%)\n",
    "investor_type: uswahl vo eina vo da drei muster-allokationa (Swiss-Bias, Swiss-Global, Global)\n",
    "market_allocation_difference: dictionary wo d unterschied zwüschet de allocation vom investor und de muster-allokation drin isch (investor het 5% USA und s muster het 35% USA -->  USA:-30%)\n",
    "sector_allocation_difference: same mit sektora\n",
    "Funktiona:\n",
    "calculate_allocation: berechnig vo de market_allocation und de sector_allocation anhand vo sinem portfolio\n",
    "calculate_allocation_differences: berechnig vo market_allocation_difference und sector_allocation_difference\n",
    "find_bad_stocks: im portfolio d aktia ablicha mit de CIO lista vo \"SELL\" aktia, und wenn ma eini findet schribt ma sie in bad_stocks lista\n",
    "buy(ISIN, Anzahl): a aktia ins portfolio kaufa\n",
    "random_portfolio: portfolio fülla mit ca. 15-25 Aktia, jewiils 15'000 bis 150'000 Franka. ich glaub es söll sich a chli am investor_type usrichta, aber dörf ruhig recht random sii macht eifach das 15-25x:    random aktia ussuacha, random betrag bestimma (15-150k), betrag//(Wert vo 1 Aktia) <-- ganzzahldivision, wia viel stück ma kauft, funktion buy(ISIN, Anzahl) ufrüafa\n",
    "write_JSON: pack d dictionaries in es JSON (fürs frontend) (bearbeitet)"
   ]
  },
  {
   "cell_type": "code",
   "execution_count": null,
   "metadata": {},
   "outputs": [],
   "source": [
    "from pandas_datareader import data,wb\n",
    "from datetime import date\n",
    "import pandas as pd"
   ]
  },
  {
   "cell_type": "code",
   "execution_count": null,
   "metadata": {},
   "outputs": [
    {
     "data": {
      "text/html": [
       "<div>\n",
       "<style scoped>\n",
       "    .dataframe tbody tr th:only-of-type {\n",
       "        vertical-align: middle;\n",
       "    }\n",
       "\n",
       "    .dataframe tbody tr th {\n",
       "        vertical-align: top;\n",
       "    }\n",
       "\n",
       "    .dataframe thead th {\n",
       "        text-align: right;\n",
       "    }\n",
       "</style>\n",
       "<table border=\"1\" class=\"dataframe\">\n",
       "  <thead>\n",
       "    <tr style=\"text-align: right;\">\n",
       "      <th></th>\n",
       "      <th>Open</th>\n",
       "      <th>High</th>\n",
       "      <th>Low</th>\n",
       "      <th>Close</th>\n",
       "      <th>Volume</th>\n",
       "    </tr>\n",
       "    <tr>\n",
       "      <th>Date</th>\n",
       "      <th></th>\n",
       "      <th></th>\n",
       "      <th></th>\n",
       "      <th></th>\n",
       "      <th></th>\n",
       "    </tr>\n",
       "  </thead>\n",
       "  <tbody>\n",
       "    <tr>\n",
       "      <th>2023-11-03</th>\n",
       "      <td>174.24</td>\n",
       "      <td>176.82</td>\n",
       "      <td>173.35</td>\n",
       "      <td>176.65</td>\n",
       "      <td>79829246</td>\n",
       "    </tr>\n",
       "    <tr>\n",
       "      <th>2023-11-02</th>\n",
       "      <td>175.52</td>\n",
       "      <td>177.78</td>\n",
       "      <td>175.46</td>\n",
       "      <td>177.57</td>\n",
       "      <td>77334752</td>\n",
       "    </tr>\n",
       "  </tbody>\n",
       "</table>\n",
       "</div>"
      ],
      "text/plain": [
       "              Open    High     Low   Close    Volume\n",
       "Date                                                \n",
       "2023-11-03  174.24  176.82  173.35  176.65  79829246\n",
       "2023-11-02  175.52  177.78  175.46  177.57  77334752"
      ]
     },
     "execution_count": 267,
     "metadata": {},
     "output_type": "execute_result"
    }
   ],
   "source": [
    "startdate = pd.to_datetime('2023-11-02')\n",
    "enddate = pd.to_datetime(date.today())\n",
    "data.DataReader(\"AAPL\", 'stooq',startdate, enddate)"
   ]
  },
  {
   "cell_type": "code",
   "execution_count": null,
   "metadata": {},
   "outputs": [],
   "source": [
    "alpha_vantage_api_key = 'GXFEHFO0WL18N13F'"
   ]
  },
  {
   "cell_type": "code",
   "execution_count": null,
   "metadata": {},
   "outputs": [],
   "source": [
    "from alpha_vantage.timeseries import TimeSeries\n",
    "ts = TimeSeries(key=alpha_vantage_api_key)\n",
    "# Get json object with the intraday data and another with  the call's metadata\n",
    "data, meta_data = ts.get_intraday('GOOG')"
   ]
  },
  {
   "cell_type": "code",
   "execution_count": null,
   "metadata": {},
   "outputs": [
    {
     "data": {
      "text/plain": [
       "{'1. Information': 'Intraday (15min) open, high, low, close prices and volume',\n",
       " '2. Symbol': 'GOOG',\n",
       " '3. Last Refreshed': '2023-11-03 19:45:00',\n",
       " '4. Interval': '15min',\n",
       " '5. Output Size': 'Compact',\n",
       " '6. Time Zone': 'US/Eastern'}"
      ]
     },
     "execution_count": 270,
     "metadata": {},
     "output_type": "execute_result"
    }
   ],
   "source": [
    "meta_data"
   ]
  },
  {
   "cell_type": "code",
   "execution_count": null,
   "metadata": {},
   "outputs": [],
   "source": [
    "import investpy"
   ]
  },
  {
   "cell_type": "code",
   "execution_count": null,
   "metadata": {},
   "outputs": [
    {
     "ename": "AttributeError",
     "evalue": "module 'investpy' has no attribute 'get_equities_list'",
     "output_type": "error",
     "traceback": [
      "\u001b[1;31m---------------------------------------------------------------------------\u001b[0m",
      "\u001b[1;31mAttributeError\u001b[0m                            Traceback (most recent call last)",
      "\u001b[1;32mc:\\Users\\rapha\\OneDrive\\Desktop\\CDS_HS23\\04 Recommender Systems\\GitHub\\personal-investment-recommender\\analysis\\raffi_test.ipynb Cell 68\u001b[0m line \u001b[0;36m1\n\u001b[1;32m----> <a href='vscode-notebook-cell:/c%3A/Users/rapha/OneDrive/Desktop/CDS_HS23/04%20Recommender%20Systems/GitHub/personal-investment-recommender/analysis/raffi_test.ipynb#Y122sZmlsZQ%3D%3D?line=0'>1</a>\u001b[0m available_equities \u001b[39m=\u001b[39m investpy\u001b[39m.\u001b[39;49mget_equities_list()\n",
      "\u001b[1;31mAttributeError\u001b[0m: module 'investpy' has no attribute 'get_equities_list'"
     ]
    }
   ],
   "source": [
    "available_equities = investpy.get_equities_list()"
   ]
  },
  {
   "cell_type": "code",
   "execution_count": null,
   "metadata": {},
   "outputs": [],
   "source": [
    "nasdaq_api_key = 'sXV3J9sAzYqULxYcUkac'"
   ]
  },
  {
   "cell_type": "code",
   "execution_count": null,
   "metadata": {},
   "outputs": [],
   "source": [
    "import nasdaqdatalink\n",
    "\n",
    "nasdaqdatalink.ApiConfig.api_key = nasdaq_api_key\n",
    "mydata = nasdaqdatalink.get(\"WIKI/AAPL\", rows=5)"
   ]
  },
  {
   "cell_type": "code",
   "execution_count": null,
   "metadata": {},
   "outputs": [
    {
     "data": {
      "text/html": [
       "<div>\n",
       "<style scoped>\n",
       "    .dataframe tbody tr th:only-of-type {\n",
       "        vertical-align: middle;\n",
       "    }\n",
       "\n",
       "    .dataframe tbody tr th {\n",
       "        vertical-align: top;\n",
       "    }\n",
       "\n",
       "    .dataframe thead th {\n",
       "        text-align: right;\n",
       "    }\n",
       "</style>\n",
       "<table border=\"1\" class=\"dataframe\">\n",
       "  <thead>\n",
       "    <tr style=\"text-align: right;\">\n",
       "      <th></th>\n",
       "      <th>Open</th>\n",
       "      <th>High</th>\n",
       "      <th>Low</th>\n",
       "      <th>Close</th>\n",
       "      <th>Volume</th>\n",
       "      <th>Ex-Dividend</th>\n",
       "      <th>Split Ratio</th>\n",
       "      <th>Adj. Open</th>\n",
       "      <th>Adj. High</th>\n",
       "      <th>Adj. Low</th>\n",
       "      <th>Adj. Close</th>\n",
       "      <th>Adj. Volume</th>\n",
       "    </tr>\n",
       "    <tr>\n",
       "      <th>Date</th>\n",
       "      <th></th>\n",
       "      <th></th>\n",
       "      <th></th>\n",
       "      <th></th>\n",
       "      <th></th>\n",
       "      <th></th>\n",
       "      <th></th>\n",
       "      <th></th>\n",
       "      <th></th>\n",
       "      <th></th>\n",
       "      <th></th>\n",
       "      <th></th>\n",
       "    </tr>\n",
       "  </thead>\n",
       "  <tbody>\n",
       "    <tr>\n",
       "      <th>2018-03-21</th>\n",
       "      <td>175.04</td>\n",
       "      <td>175.09</td>\n",
       "      <td>171.26</td>\n",
       "      <td>171.270</td>\n",
       "      <td>35247358.0</td>\n",
       "      <td>0.0</td>\n",
       "      <td>1.0</td>\n",
       "      <td>175.04</td>\n",
       "      <td>175.09</td>\n",
       "      <td>171.26</td>\n",
       "      <td>171.270</td>\n",
       "      <td>35247358.0</td>\n",
       "    </tr>\n",
       "    <tr>\n",
       "      <th>2018-03-22</th>\n",
       "      <td>170.00</td>\n",
       "      <td>172.68</td>\n",
       "      <td>168.60</td>\n",
       "      <td>168.845</td>\n",
       "      <td>41051076.0</td>\n",
       "      <td>0.0</td>\n",
       "      <td>1.0</td>\n",
       "      <td>170.00</td>\n",
       "      <td>172.68</td>\n",
       "      <td>168.60</td>\n",
       "      <td>168.845</td>\n",
       "      <td>41051076.0</td>\n",
       "    </tr>\n",
       "    <tr>\n",
       "      <th>2018-03-23</th>\n",
       "      <td>168.39</td>\n",
       "      <td>169.92</td>\n",
       "      <td>164.94</td>\n",
       "      <td>164.940</td>\n",
       "      <td>40248954.0</td>\n",
       "      <td>0.0</td>\n",
       "      <td>1.0</td>\n",
       "      <td>168.39</td>\n",
       "      <td>169.92</td>\n",
       "      <td>164.94</td>\n",
       "      <td>164.940</td>\n",
       "      <td>40248954.0</td>\n",
       "    </tr>\n",
       "    <tr>\n",
       "      <th>2018-03-26</th>\n",
       "      <td>168.07</td>\n",
       "      <td>173.10</td>\n",
       "      <td>166.44</td>\n",
       "      <td>172.770</td>\n",
       "      <td>36272617.0</td>\n",
       "      <td>0.0</td>\n",
       "      <td>1.0</td>\n",
       "      <td>168.07</td>\n",
       "      <td>173.10</td>\n",
       "      <td>166.44</td>\n",
       "      <td>172.770</td>\n",
       "      <td>36272617.0</td>\n",
       "    </tr>\n",
       "    <tr>\n",
       "      <th>2018-03-27</th>\n",
       "      <td>173.68</td>\n",
       "      <td>175.15</td>\n",
       "      <td>166.92</td>\n",
       "      <td>168.340</td>\n",
       "      <td>38962839.0</td>\n",
       "      <td>0.0</td>\n",
       "      <td>1.0</td>\n",
       "      <td>173.68</td>\n",
       "      <td>175.15</td>\n",
       "      <td>166.92</td>\n",
       "      <td>168.340</td>\n",
       "      <td>38962839.0</td>\n",
       "    </tr>\n",
       "  </tbody>\n",
       "</table>\n",
       "</div>"
      ],
      "text/plain": [
       "              Open    High     Low    Close      Volume  Ex-Dividend  \\\n",
       "Date                                                                   \n",
       "2018-03-21  175.04  175.09  171.26  171.270  35247358.0          0.0   \n",
       "2018-03-22  170.00  172.68  168.60  168.845  41051076.0          0.0   \n",
       "2018-03-23  168.39  169.92  164.94  164.940  40248954.0          0.0   \n",
       "2018-03-26  168.07  173.10  166.44  172.770  36272617.0          0.0   \n",
       "2018-03-27  173.68  175.15  166.92  168.340  38962839.0          0.0   \n",
       "\n",
       "            Split Ratio  Adj. Open  Adj. High  Adj. Low  Adj. Close  \\\n",
       "Date                                                                  \n",
       "2018-03-21          1.0     175.04     175.09    171.26     171.270   \n",
       "2018-03-22          1.0     170.00     172.68    168.60     168.845   \n",
       "2018-03-23          1.0     168.39     169.92    164.94     164.940   \n",
       "2018-03-26          1.0     168.07     173.10    166.44     172.770   \n",
       "2018-03-27          1.0     173.68     175.15    166.92     168.340   \n",
       "\n",
       "            Adj. Volume  \n",
       "Date                     \n",
       "2018-03-21   35247358.0  \n",
       "2018-03-22   41051076.0  \n",
       "2018-03-23   40248954.0  \n",
       "2018-03-26   36272617.0  \n",
       "2018-03-27   38962839.0  "
      ]
     },
     "execution_count": 32,
     "metadata": {},
     "output_type": "execute_result"
    }
   ],
   "source": [
    "mydata"
   ]
  },
  {
   "cell_type": "code",
   "execution_count": null,
   "metadata": {},
   "outputs": [
    {
     "name": "stdout",
     "output_type": "stream",
     "text": [
      "       country    name  full_name          isin currency symbol\n",
      "0       mexico  Nestle  Nestle SA  CH0038863350      MXN  NESNN\n",
      "1        italy  Nestle  Nestle SA  CH0038863350      EUR   NESN\n",
      "2  switzerland  Nestle  Nestle SA  CH0038863350      CHF   NESN\n"
     ]
    }
   ],
   "source": [
    "import investpy\n",
    "\n",
    "df = investpy.stocks.search_stocks(by='isin', value='CH0038863350')\n",
    "print(df)"
   ]
  },
  {
   "cell_type": "code",
   "execution_count": null,
   "metadata": {},
   "outputs": [
    {
     "data": {
      "text/html": [
       "<div>\n",
       "<style scoped>\n",
       "    .dataframe tbody tr th:only-of-type {\n",
       "        vertical-align: middle;\n",
       "    }\n",
       "\n",
       "    .dataframe tbody tr th {\n",
       "        vertical-align: top;\n",
       "    }\n",
       "\n",
       "    .dataframe thead th {\n",
       "        text-align: right;\n",
       "    }\n",
       "</style>\n",
       "<table border=\"1\" class=\"dataframe\">\n",
       "  <thead>\n",
       "    <tr style=\"text-align: right;\">\n",
       "      <th></th>\n",
       "      <th>country</th>\n",
       "      <th>name</th>\n",
       "      <th>full_name</th>\n",
       "      <th>isin</th>\n",
       "      <th>currency</th>\n",
       "      <th>symbol</th>\n",
       "    </tr>\n",
       "  </thead>\n",
       "  <tbody>\n",
       "    <tr>\n",
       "      <th>0</th>\n",
       "      <td>japan</td>\n",
       "      <td>Softbank Group Corp.</td>\n",
       "      <td>Softbank Group Corp.</td>\n",
       "      <td>JP3436100006</td>\n",
       "      <td>JPY</td>\n",
       "      <td>9984</td>\n",
       "    </tr>\n",
       "  </tbody>\n",
       "</table>\n",
       "</div>"
      ],
      "text/plain": [
       "  country                  name             full_name          isin currency  \\\n",
       "0   japan  Softbank Group Corp.  Softbank Group Corp.  JP3436100006      JPY   \n",
       "\n",
       "  symbol  \n",
       "0   9984  "
      ]
     },
     "execution_count": 41,
     "metadata": {},
     "output_type": "execute_result"
    }
   ],
   "source": [
    "investpy.stocks.search_stocks(by='isin', value='JP3436100006')"
   ]
  },
  {
   "cell_type": "code",
   "execution_count": null,
   "metadata": {},
   "outputs": [
    {
     "data": {
      "text/html": [
       "<div>\n",
       "<style scoped>\n",
       "    .dataframe tbody tr th:only-of-type {\n",
       "        vertical-align: middle;\n",
       "    }\n",
       "\n",
       "    .dataframe tbody tr th {\n",
       "        vertical-align: top;\n",
       "    }\n",
       "\n",
       "    .dataframe thead th {\n",
       "        text-align: right;\n",
       "    }\n",
       "</style>\n",
       "<table border=\"1\" class=\"dataframe\">\n",
       "  <thead>\n",
       "    <tr style=\"text-align: right;\">\n",
       "      <th></th>\n",
       "      <th>country</th>\n",
       "      <th>name</th>\n",
       "      <th>full_name</th>\n",
       "      <th>isin</th>\n",
       "      <th>currency</th>\n",
       "      <th>symbol</th>\n",
       "    </tr>\n",
       "  </thead>\n",
       "  <tbody>\n",
       "    <tr>\n",
       "      <th>0</th>\n",
       "      <td>mexico</td>\n",
       "      <td>Apple</td>\n",
       "      <td>Apple Inc</td>\n",
       "      <td>US0378331005</td>\n",
       "      <td>MXN</td>\n",
       "      <td>AAPL</td>\n",
       "    </tr>\n",
       "    <tr>\n",
       "      <th>1</th>\n",
       "      <td>united states</td>\n",
       "      <td>Apple</td>\n",
       "      <td>Apple Inc</td>\n",
       "      <td>US0378331005</td>\n",
       "      <td>USD</td>\n",
       "      <td>AAPL</td>\n",
       "    </tr>\n",
       "    <tr>\n",
       "      <th>2</th>\n",
       "      <td>austria</td>\n",
       "      <td>Apple</td>\n",
       "      <td>Apple Inc</td>\n",
       "      <td>US0378331005</td>\n",
       "      <td>EUR</td>\n",
       "      <td>AAPL</td>\n",
       "    </tr>\n",
       "    <tr>\n",
       "      <th>3</th>\n",
       "      <td>italy</td>\n",
       "      <td>Apple</td>\n",
       "      <td>Apple Inc</td>\n",
       "      <td>US0378331005</td>\n",
       "      <td>EUR</td>\n",
       "      <td>AAPLE</td>\n",
       "    </tr>\n",
       "    <tr>\n",
       "      <th>4</th>\n",
       "      <td>switzerland</td>\n",
       "      <td>Apple</td>\n",
       "      <td>Apple Inc</td>\n",
       "      <td>US0378331005</td>\n",
       "      <td>EUR</td>\n",
       "      <td>AAPLEUR</td>\n",
       "    </tr>\n",
       "    <tr>\n",
       "      <th>5</th>\n",
       "      <td>switzerland</td>\n",
       "      <td>Apple</td>\n",
       "      <td>Apple Inc</td>\n",
       "      <td>US0378331005</td>\n",
       "      <td>USD</td>\n",
       "      <td>AAPLUSD</td>\n",
       "    </tr>\n",
       "    <tr>\n",
       "      <th>6</th>\n",
       "      <td>switzerland</td>\n",
       "      <td>Apple</td>\n",
       "      <td>Apple Inc</td>\n",
       "      <td>US0378331005</td>\n",
       "      <td>CHF</td>\n",
       "      <td>AAPL</td>\n",
       "    </tr>\n",
       "  </tbody>\n",
       "</table>\n",
       "</div>"
      ],
      "text/plain": [
       "         country   name  full_name          isin currency   symbol\n",
       "0         mexico  Apple  Apple Inc  US0378331005      MXN     AAPL\n",
       "1  united states  Apple  Apple Inc  US0378331005      USD     AAPL\n",
       "2        austria  Apple  Apple Inc  US0378331005      EUR     AAPL\n",
       "3          italy  Apple  Apple Inc  US0378331005      EUR    AAPLE\n",
       "4    switzerland  Apple  Apple Inc  US0378331005      EUR  AAPLEUR\n",
       "5    switzerland  Apple  Apple Inc  US0378331005      USD  AAPLUSD\n",
       "6    switzerland  Apple  Apple Inc  US0378331005      CHF     AAPL"
      ]
     },
     "execution_count": 46,
     "metadata": {},
     "output_type": "execute_result"
    }
   ],
   "source": [
    "investpy.stocks.search_stocks(by='isin', value='US0378331005')"
   ]
  },
  {
   "cell_type": "code",
   "execution_count": null,
   "metadata": {},
   "outputs": [
    {
     "ename": "ConnectionError",
     "evalue": "ERR#0015: error 403, try again later.",
     "output_type": "error",
     "traceback": [
      "\u001b[1;31m---------------------------------------------------------------------------\u001b[0m",
      "\u001b[1;31mConnectionError\u001b[0m                           Traceback (most recent call last)",
      "\u001b[1;32mc:\\Users\\rapha\\OneDrive\\Desktop\\CDS_HS23\\04 Recommender Systems\\GitHub\\personal-investment-recommender\\analysis\\raffi_test.ipynb Cell 72\u001b[0m line \u001b[0;36m1\n\u001b[1;32m----> <a href='vscode-notebook-cell:/c%3A/Users/rapha/OneDrive/Desktop/CDS_HS23/04%20Recommender%20Systems/GitHub/personal-investment-recommender/analysis/raffi_test.ipynb#Y133sZmlsZQ%3D%3D?line=0'>1</a>\u001b[0m investpy\u001b[39m.\u001b[39;49mstocks\u001b[39m.\u001b[39;49mget_stock_information(stock\u001b[39m=\u001b[39;49m\u001b[39m'\u001b[39;49m\u001b[39mAAPL\u001b[39;49m\u001b[39m'\u001b[39;49m, country\u001b[39m=\u001b[39;49m\u001b[39m'\u001b[39;49m\u001b[39munited states\u001b[39;49m\u001b[39m'\u001b[39;49m)\n",
      "File \u001b[1;32mc:\\Users\\rapha\\anaconda3\\envs\\recommender_project\\lib\\site-packages\\investpy\\stocks.py:1326\u001b[0m, in \u001b[0;36mget_stock_information\u001b[1;34m(stock, country, as_json)\u001b[0m\n\u001b[0;32m   1323\u001b[0m req \u001b[39m=\u001b[39m requests\u001b[39m.\u001b[39mget(url, headers\u001b[39m=\u001b[39mheaders)\n\u001b[0;32m   1325\u001b[0m \u001b[39mif\u001b[39;00m req\u001b[39m.\u001b[39mstatus_code \u001b[39m!=\u001b[39m \u001b[39m200\u001b[39m:\n\u001b[1;32m-> 1326\u001b[0m     \u001b[39mraise\u001b[39;00m \u001b[39mConnectionError\u001b[39;00m(\n\u001b[0;32m   1327\u001b[0m         \u001b[39m\"\u001b[39m\u001b[39mERR#0015: error \u001b[39m\u001b[39m\"\u001b[39m \u001b[39m+\u001b[39m \u001b[39mstr\u001b[39m(req\u001b[39m.\u001b[39mstatus_code) \u001b[39m+\u001b[39m \u001b[39m\"\u001b[39m\u001b[39m, try again later.\u001b[39m\u001b[39m\"\u001b[39m\n\u001b[0;32m   1328\u001b[0m     )\n\u001b[0;32m   1330\u001b[0m root_ \u001b[39m=\u001b[39m fromstring(req\u001b[39m.\u001b[39mtext)\n\u001b[0;32m   1331\u001b[0m path_ \u001b[39m=\u001b[39m root_\u001b[39m.\u001b[39mxpath(\u001b[39m\"\u001b[39m\u001b[39m//dl[contains(@class, \u001b[39m\u001b[39m'\u001b[39m\u001b[39mgrid\u001b[39m\u001b[39m'\u001b[39m\u001b[39m)]/div\u001b[39m\u001b[39m\"\u001b[39m)\n",
      "\u001b[1;31mConnectionError\u001b[0m: ERR#0015: error 403, try again later."
     ]
    }
   ],
   "source": [
    "investpy.stocks.get_stock_information(stock='AAPL', country='united states')"
   ]
  },
  {
   "cell_type": "code",
   "execution_count": null,
   "metadata": {},
   "outputs": [
    {
     "data": {
      "text/html": [
       "<div>\n",
       "<style scoped>\n",
       "    .dataframe tbody tr th:only-of-type {\n",
       "        vertical-align: middle;\n",
       "    }\n",
       "\n",
       "    .dataframe tbody tr th {\n",
       "        vertical-align: top;\n",
       "    }\n",
       "\n",
       "    .dataframe thead th {\n",
       "        text-align: right;\n",
       "    }\n",
       "</style>\n",
       "<table border=\"1\" class=\"dataframe\">\n",
       "  <thead>\n",
       "    <tr style=\"text-align: right;\">\n",
       "      <th></th>\n",
       "      <th>country</th>\n",
       "      <th>name</th>\n",
       "      <th>full_name</th>\n",
       "      <th>isin</th>\n",
       "      <th>currency</th>\n",
       "      <th>symbol</th>\n",
       "    </tr>\n",
       "  </thead>\n",
       "  <tbody>\n",
       "    <tr>\n",
       "      <th>0</th>\n",
       "      <td>mexico</td>\n",
       "      <td>Nestle</td>\n",
       "      <td>Nestle SA</td>\n",
       "      <td>CH0038863350</td>\n",
       "      <td>MXN</td>\n",
       "      <td>NESNN</td>\n",
       "    </tr>\n",
       "    <tr>\n",
       "      <th>1</th>\n",
       "      <td>united states</td>\n",
       "      <td>Nestle ADR</td>\n",
       "      <td>Nestle SA ADR</td>\n",
       "      <td>US6410694060</td>\n",
       "      <td>USD</td>\n",
       "      <td>NSRGY</td>\n",
       "    </tr>\n",
       "    <tr>\n",
       "      <th>2</th>\n",
       "      <td>italy</td>\n",
       "      <td>Nestle</td>\n",
       "      <td>Nestle SA</td>\n",
       "      <td>CH0038863350</td>\n",
       "      <td>EUR</td>\n",
       "      <td>NESN</td>\n",
       "    </tr>\n",
       "    <tr>\n",
       "      <th>3</th>\n",
       "      <td>switzerland</td>\n",
       "      <td>Nestle</td>\n",
       "      <td>Nestle SA</td>\n",
       "      <td>CH0038863350</td>\n",
       "      <td>CHF</td>\n",
       "      <td>NESN</td>\n",
       "    </tr>\n",
       "    <tr>\n",
       "      <th>4</th>\n",
       "      <td>switzerland</td>\n",
       "      <td>Nestle</td>\n",
       "      <td>Nestle SA</td>\n",
       "      <td>CH0372071347</td>\n",
       "      <td>CHF</td>\n",
       "      <td>NESNEE</td>\n",
       "    </tr>\n",
       "  </tbody>\n",
       "</table>\n",
       "</div>"
      ],
      "text/plain": [
       "         country        name      full_name          isin currency  symbol\n",
       "0         mexico      Nestle      Nestle SA  CH0038863350      MXN   NESNN\n",
       "1  united states  Nestle ADR  Nestle SA ADR  US6410694060      USD   NSRGY\n",
       "2          italy      Nestle      Nestle SA  CH0038863350      EUR    NESN\n",
       "3    switzerland      Nestle      Nestle SA  CH0038863350      CHF    NESN\n",
       "4    switzerland      Nestle      Nestle SA  CH0372071347      CHF  NESNEE"
      ]
     },
     "execution_count": 51,
     "metadata": {},
     "output_type": "execute_result"
    }
   ],
   "source": [
    "investpy.stocks.search_stocks(by='full_name', value='nestle sa')"
   ]
  },
  {
   "cell_type": "code",
   "execution_count": null,
   "metadata": {},
   "outputs": [
    {
     "name": "stdout",
     "output_type": "stream",
     "text": [
      "Quotes:\n",
      "\n",
      "[*********************100%%**********************]  1 of 1 completed\n",
      "                  Open        High        Low  Close  Adj Close   Volume\n",
      "Date                                                                    \n",
      "2023-11-03  100.519997  100.599998  99.739998  99.75      99.75  1946070\n"
     ]
    }
   ],
   "source": [
    "print('Quotes:\\n')\n",
    "quotes = yf.download('CH0038863350', period = '1d')\n",
    "# quotes = yf.download()\n",
    "print(quotes)"
   ]
  }
 ],
 "metadata": {
  "kernelspec": {
   "display_name": "Pycharm",
   "language": "python",
   "name": "python3"
  },
  "language_info": {
   "codemirror_mode": {
    "name": "ipython",
    "version": 3
   },
   "file_extension": ".py",
   "mimetype": "text/x-python",
   "name": "python",
   "nbconvert_exporter": "python",
   "pygments_lexer": "ipython3",
   "version": "3.10.13"
  },
  "orig_nbformat": 4
 },
 "nbformat": 4,
 "nbformat_minor": 2
}
