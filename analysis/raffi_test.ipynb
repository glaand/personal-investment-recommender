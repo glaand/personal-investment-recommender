{
 "cells": [
  {
   "cell_type": "code",
   "execution_count": 835,
   "metadata": {},
   "outputs": [],
   "source": [
    "import yfinance as yf\n",
    "import random\n",
    "import json\n",
    "import pandas as pd\n",
    "import matplotlib.pyplot as plt"
   ]
  },
  {
   "cell_type": "code",
   "execution_count": 836,
   "metadata": {},
   "outputs": [],
   "source": [
    "# yfinance testen\n",
    "isin = \"US0378331005\"\n",
    "ticker = yf.Ticker(isin)\n",
    "\n",
    "# Das Tickersymbol anzeigen\n",
    "# print(ticker.info['industry'])\n",
    "# print(ticker.info)"
   ]
  },
  {
   "cell_type": "code",
   "execution_count": 837,
   "metadata": {},
   "outputs": [],
   "source": [
    "stock_info = pd.read_csv('..\\data\\stock_info.tsv', sep='\\t')\n",
    "cio_sell_list = ['CH0010645932', 'CH0025238863', 'CH0025751329', 'CH0126881561']\n",
    "europe_countries = ['Germany', 'France', 'Netherlands', 'Spain', 'Italy', 'United Kingdom', 'Norway', 'Ireland', 'Europe']\n",
    "asia_em_countries = ['Japan', 'Hong Kong', 'China', 'South Korea', 'Taiwan', 'Asia & EM']\n",
    "forex = {\n",
    "    'CHF': 1.,\n",
    "    'EUR': 0.9549,\n",
    "    'USD': 0.9023,\n",
    "    'GBp': 1.0953, # achtung, yfinance nutzt lowercase p\n",
    "    'GBP': 1.0953,\n",
    "    'NOK': 0.0808,\n",
    "    'JPY': 0.00603,\n",
    "    'HKD': 0.1153,\n",
    "    'KRW': 0.00067,\n",
    "    'TWD': 0.0278\n",
    "}\n",
    "\n",
    "empty_market_allocation = {\n",
    "    'United States': 0.,\n",
    "    'Europe': 0.,\n",
    "    'Switzerland': 0.,\n",
    "    'Asia & EM': 0.\n",
    "}\n",
    "\n",
    "empty_sector_allocation = {\n",
    "    'Financial Services': 0, \n",
    "    'Technology': 0., \n",
    "    'Industrials': 0., \n",
    "    'Energy': 0., \n",
    "    'Healthcare': 0., \n",
    "    'Consumer Defensive': 0., \n",
    "    'Consumer Cyclical': 0., \n",
    "    'Basic Materials': 0., \n",
    "    'Real Estate': 0., \n",
    "    'Communication Services': 0., \n",
    "    'Utilities': 0.,\n",
    "    'Mixed': 0.\n",
    "}\n",
    "\n",
    "market_colors = {\n",
    "    'United States': 'green',\n",
    "    'Europe': 'royalblue',\n",
    "    'Switzerland': 'red',\n",
    "    'Asia & EM': 'pink'\n",
    "}\n",
    "\n",
    "sector_colors = {\n",
    "    'Financial Services': 'lightblue', \n",
    "    'Technology': 'silver', \n",
    "    'Industrials': 'steelblue', \n",
    "    'Energy': 'orange', \n",
    "    'Healthcare': 'lightgreen', \n",
    "    'Consumer Defensive': 'tan', \n",
    "    'Consumer Cyclical': 'mediumpurple', \n",
    "    'Basic Materials': 'saddlebrown', \n",
    "    'Real Estate': 'maroon', \n",
    "    'Communication Services': 'gold', \n",
    "    'Utilities': 'teal',\n",
    "    'Mixed': 'dimgrey'\n",
    "}"
   ]
  },
  {
   "cell_type": "code",
   "execution_count": 838,
   "metadata": {},
   "outputs": [],
   "source": [
    "class Investor:\n",
    "    # Klassenattribute\n",
    "\n",
    "    def __init__(self, id:int, name, portfolio, investor_type):\n",
    "        # Instanzattribute\n",
    "        self._id = id\n",
    "        self._name = name\n",
    "        self._portfolio = portfolio\n",
    "        self._investor_type = investor_type\n",
    "        self._portfolio_curreny = 'CHF'     # Momentan fix CHF\n",
    "        self._portfolio_value = 0\n",
    "        self._bulk_risks = []\n",
    "        self._sell_stocks = []\n",
    "        self._market_allocation = {}\n",
    "        self._sector_allocation = {}\n",
    "        self._market_allocation_difference = {}\n",
    "        self._sector_allocation_difference = {}\n",
    "\n",
    "    # Methoden\n",
    "    def get_name(self):\n",
    "        return f\"Investor's name is {self._name}.\"\n",
    "\n",
    "    def find_sell_stocks(self):\n",
    "        # Portfolio durchsuchen nach Aktien, die auf der Sell-Liste sind\n",
    "        for i in range(len(self._portfolio)):\n",
    "            if self._portfolio[i]['isin'] in cio_sell_list and self._portfolio[i]['isin'] not in self._sell_stocks:\n",
    "                self._sell_stocks.append(self._portfolio[i]['isin'])\n",
    "                print(f\"Attention! ISIN {self._portfolio[i]['isin']} is on the CIO 'Least Preferred' list.\")\n",
    "        if self._sell_stocks == []:\n",
    "            print(f\"No current positions in the portfolio are on the CIO 'Least Preferred' list.\")\n",
    "\n",
    "    def buy(self, isin, quantity):\n",
    "        # Überprüfen, ob ISIN existiert\n",
    "        existing_isin = isin in stock_info['isin'].values\n",
    "        if not existing_isin:\n",
    "            return print(f'ISIN could not be found. Please check your input.')\n",
    "        \n",
    "        else:\n",
    "            print(f\"Buying {quantity} units of ISIN {isin}...\")\n",
    "\n",
    "            # Checken, ob bereits im Portfolio\n",
    "            already_bought = False\n",
    "            for i in range(len(self._portfolio)): # Mehrfache Einträge der selben Aktie vermeiden; Position erhöhen\n",
    "                if self._portfolio[i]['isin'] == isin: # Falls Position im Portfolio, vorhandene Position erhöhen\n",
    "                    already_bought = True\n",
    "                    print(f'Position already in portfolio, increasing quantity by {quantity}.')\n",
    "                    self._portfolio[i]['quantity'] += quantity\n",
    "                    print(f'Updated position: {self._portfolio[i][\"quantity\"]} units of ISIN {self._portfolio[i][\"isin\"]}')\n",
    "                    break\n",
    "            if already_bought == False: # Falls noch nicht im Portfolio, neue Position\n",
    "                self._portfolio.append({'isin':isin, 'quantity':quantity})\n",
    "                print(f'New position.\\nSuccessfully bought {quantity} units of ISIN {isin}.')\n",
    "\n",
    "            print(f'Purchase successfully completed!')\n",
    "\n",
    "    def fetch_portfolio_infos(self):\n",
    "        # aus stock_info Daten zu den Positionen fetchen & zuweisen\n",
    "        print('Fetching data for each portfolio position.')\n",
    "        stock_info = pd.read_csv('..\\data\\stock_info.tsv', sep='\\t') # TSV als Pandas-df\n",
    "\n",
    "        self._portfolio_value = 0\n",
    "\n",
    "        for position in self._portfolio:\n",
    "            # Infos zum relevanten Stock extrahieren\n",
    "            info = stock_info.loc[stock_info['isin'] == position['isin'], ['isin', 'longName', 'previousClose', 'currency', 'country' , 'sector', 'industry']] # zeile aus stock-info von dieser Aktie\n",
    "            \n",
    "            # Infos zuweisen\n",
    "            position['name'] = info['longName'].values[0]       # Name\n",
    "            if 'buy_price' not in position: # Kaufpreis, wird nur geschrieben, wenn davor keiner vorhanden war. Damit nicht bei späteren Updates überschrieben wird\n",
    "                position['buy_price'] = info['previousClose'].values[0] # Kaufpreis\n",
    "            position['price'] = info['previousClose'].values[0] # Preis\n",
    "            position['currency'] = info['currency'].values[0]   # Währung\n",
    "            position['value'] = round(position['quantity']*position['price']*forex[position['currency']], 2) # Wert = Anzahl*Preis*Wechselkurs\n",
    "            self._portfolio_value += position['value']          # Gesamt-Portfoliowert aktualisieren\n",
    "            position['sector'] = info['sector'].values[0]       # Sektor\n",
    "            position['industry'] = info['industry'].values[0]   # Subsektor\n",
    "            position['country'] = info['country'].values[0]     # Land\n",
    "\n",
    "            # Region für Allokation\n",
    "            if position['country'] in europe_countries:\n",
    "                position['region'] = 'Europe'\n",
    "            elif position['country'] in asia_em_countries:\n",
    "                position['region'] = 'Asia & EM'\n",
    "            else:\n",
    "                position['region'] = position['country'] # Switzerland & United States\n",
    "\n",
    "        # Anteil am Portfoliowert für jede Position\n",
    "        print('Updating portfolio percentage.')\n",
    "        self._bulk_risks = []\n",
    "        for position in self._portfolio:\n",
    "            position['portfolio_percent'] = round(position['value']/self._portfolio_value, 4)\n",
    "            if  position['portfolio_percent'] >= 0.1:\n",
    "                self._bulk_risks.append(position['isin'])\n",
    "                print(f\"Bulk risk detected for ISIN {position['isin']}.\")\n",
    "        print('All infos fetched and positions updated.')\n",
    "        print(f\"Updated portfolio value: {self._portfolio_value}\")\n",
    "\n",
    "    def calculate_allocation(self):\n",
    "        # Berechnung der Markt- und Sektorallokation des Portfolios\n",
    "        print('Calculating Market and Sector Allocation.')\n",
    "\n",
    "        # Zuerst: Leere Allokation\n",
    "        self._market_allocation = dict(empty_market_allocation)\n",
    "        self._sector_allocation = dict(empty_sector_allocation)\n",
    "        \n",
    "        # Aggregation\n",
    "        for position in self._portfolio:\n",
    "            region = position['region']\n",
    "            self._market_allocation[region] += position['portfolio_percent']\n",
    "            sector = position['sector']\n",
    "            self._sector_allocation[sector] += position['portfolio_percent']\n",
    "        if self._sector_allocation['Mixed'] == 0:\n",
    "            del self._sector_allocation['Mixed']\n",
    "        print('Allocation successfully calculated.')\n",
    "\n",
    "    def visualize_allocations(self, market=True, sector=True):\n",
    "        # Allokation Visualisieren\n",
    "        if market: # Markt Allokation\n",
    "            market_label_list = []\n",
    "            market_size_list = []\n",
    "            market_color_list = []\n",
    "            for market in self._market_allocation:\n",
    "                if self._market_allocation[market] != 0: # Leere Werte rausnehmen für klarere Visualisierung\n",
    "                    market_label_list.append(market)\n",
    "                    market_size_list.append(self._market_allocation[market])\n",
    "                    market_color_list.append(market_colors[market])\n",
    "\n",
    "            plt.pie(x=market_size_list, labels=market_label_list, autopct='%1.1f%%', colors=market_color_list, wedgeprops=dict(edgecolor='black'))\n",
    "            plt.title('Market Allocation')\n",
    "            plt.show()\n",
    "\n",
    "        if sector: # Sektor Allokation\n",
    "            sector_label_list = []\n",
    "            sector_size_list = []\n",
    "            sector_color_list = []\n",
    "            for sector in self._sector_allocation:\n",
    "                if self._sector_allocation[sector] != 0:\n",
    "                    sector_label_list.append(sector)\n",
    "                    sector_size_list.append(self._sector_allocation[sector])\n",
    "                    sector_color_list.append(sector_colors[sector])\n",
    "\n",
    "            plt.pie(x=sector_size_list, labels=sector_label_list, autopct='%1.1f%%', colors=sector_color_list, wedgeprops=dict(edgecolor='black'))\n",
    "            plt.title('Sector Allocation')\n",
    "            plt.show()\n",
    "    \n",
    "    def calculate_allocation_difference(self):\n",
    "        # Unterschied zwischen Kunden-Allokation und Benchmark-Allokation\n",
    "        print(f'Comparing portfolio to benchmark allocation.')\n",
    "        self._market_allocation_difference = dict(empty_market_allocation)\n",
    "        self._sector_allocation_difference = dict(empty_sector_allocation)\n",
    "\n",
    "        print(f'Investor profile: {self._investor_type}')\n",
    "\n",
    "        with open(f'..\\data\\profile_{self._investor_type}.json') as json_file:\n",
    "            reference_allocation = json.load(json_file)\n",
    "\n",
    "        for market in self._market_allocation:\n",
    "            self._market_allocation_difference[market] = self._market_allocation[market] - reference_allocation['markets'][market]\n",
    "        \n",
    "        for sector in self._sector_allocation:\n",
    "            self._sector_allocation_difference[sector] = self._sector_allocation[sector] - reference_allocation['sectors'][sector]\n",
    "        print('Allocation differences were calculated successfully.')\n",
    "\n",
    "    def visualize_allocation_differences(self, market=True, sector=True):\n",
    "        # Allokations-Verletzungen visualisieren\n",
    "        if market:\n",
    "            market_diff_labels = []\n",
    "            market_diff_sizes = []\n",
    "            market_diff_colors = []\n",
    "            for market in self._market_allocation_difference:\n",
    "                market_diff_labels.append(market)\n",
    "                market_diff_sizes.append(round(self._market_allocation_difference[market]*100, 2))\n",
    "                market_diff_colors.append(market_colors[market])\n",
    "            plt.figure(figsize=(6,6))\n",
    "            plt.bar(x=market_diff_labels, height=market_diff_sizes, color=market_diff_colors)\n",
    "            for i in range(len(market_diff_sizes)):\n",
    "                plt.text(i, market_diff_sizes[i]//2, str(market_diff_sizes[i])+'%', ha = 'center')\n",
    "            plt.xlabel('Market')\n",
    "            plt.ylabel('Difference to Benchmark in %')\n",
    "            plt.show\n",
    "\n",
    "        if sector:\n",
    "            sector_diff_labels = []\n",
    "            sector_diff_sizes = []\n",
    "            sector_diff_colors = []\n",
    "            for sector in self._sector_allocation_difference:\n",
    "                sector_diff_labels.append(sector)\n",
    "                sector_diff_sizes.append(round(self._sector_allocation_difference[sector]*100, 2))\n",
    "                sector_diff_colors.append(sector_colors[sector])\n",
    "            plt.figure(figsize=(12,6))\n",
    "            plt.bar(x=sector_diff_labels, height=sector_diff_sizes, color=sector_diff_colors)\n",
    "            for i in range(len(sector_diff_sizes)):\n",
    "                plt.text(i, sector_diff_sizes[i]//2, str(sector_diff_sizes[i])+'%', ha = 'center')\n",
    "            plt.xlabel('Sector')\n",
    "            plt.xticks(rotation=90)\n",
    "            plt.ylabel('Difference to Benchmark in %')\n",
    "            plt.show\n",
    "\n",
    "    def print_portfolio(self):\n",
    "        if len(self._portfolio) == 0: # leeres Portfolio, abbrechen mit Nachricht\n",
    "            return print('There are currently no positions in the portfolio.')\n",
    "        if 'currency' not in self._portfolio[-1]: # Infos noch nicht gefetcht, abbrechen mit Nachricht\n",
    "            return print('Please fetch stock info first.')\n",
    "        \n",
    "        print(f'Currency\\tQuantity\\tName\\t\\t\\t\\tISIN\\t\\tBuy Price\\tMarket Price\\tMarket Value')\n",
    "        print(f'----------------------------------------------------------------------------------------------------------------------------')\n",
    "        for position in self._portfolio:\n",
    "            spaces = 30 - len(position['name'][:30])\n",
    "            print(f\"{position['currency']}\\t\\t{position['quantity']}\\t\\t{position['name'][:30]}{spaces*' '}\\t{position['isin']}\\t{position['buy_price']}\\t\\t{position['price']}\\t\\t{position['value']}\")\n",
    "            print(f'----------------------------------------------------------------------------------------------------------------------------')\n",
    "\n",
    "    def random_portfolio(self):\n",
    "        \"\"\"\n",
    "        To Do - Priority: 3\n",
    "        \"\"\"\n",
    "        pass\n",
    "\n",
    "    def write_json(self):\n",
    "        json_object = json.dumps(self.__dict__, indent=4)\n",
    "        id = self._id\n",
    "        with open(f'{id}.json', 'w') as outfile:\n",
    "            outfile.write(json_object)\n",
    "        print(f\"Successfully created JSON file named {id}.json\")\n",
    "\n",
    "\n",
    "    def __str__(self) -> str:\n",
    "        return f\"Investor's name is {self._name}.\"\n",
    "    \n",
    "    def __repr__(self):\n",
    "        return f\"{self._name}\""
   ]
  },
  {
   "cell_type": "markdown",
   "metadata": {},
   "source": [
    "__________\n",
    "Start of Testing\n",
    "__________"
   ]
  },
  {
   "cell_type": "code",
   "execution_count": 839,
   "metadata": {},
   "outputs": [
    {
     "data": {
      "text/plain": [
       "[Raphael]"
      ]
     },
     "execution_count": 839,
     "metadata": {},
     "output_type": "execute_result"
    }
   ],
   "source": [
    "# Test: Random Investor\n",
    "investors = []\n",
    "\n",
    "def random_investor():\n",
    "    rand_id = ''\n",
    "    for i in range(6):\n",
    "        rand_id+=(str(random.randint(0,9)))\n",
    "    id ='000001'\n",
    "    name = \"Raphael\"\n",
    "    empty_portfolio = []\n",
    "\n",
    "    investors.append(Investor(id, name, empty_portfolio, \"swiss-bias\"))\n",
    "\n",
    "random_investor()\n",
    "investors\n",
    "\n"
   ]
  },
  {
   "cell_type": "code",
   "execution_count": 840,
   "metadata": {},
   "outputs": [
    {
     "data": {
      "text/plain": [
       "[]"
      ]
     },
     "execution_count": 840,
     "metadata": {},
     "output_type": "execute_result"
    }
   ],
   "source": [
    "investors[0]._sell_stocks\n",
    "investors[0]._portfolio\n",
    "investors[0]._id\n",
    "investors[0]._portfolio\n",
    "# investors[0]._market_allocation\n",
    "# investors[0]._bulk_risks"
   ]
  },
  {
   "cell_type": "code",
   "execution_count": 841,
   "metadata": {},
   "outputs": [
    {
     "name": "stdout",
     "output_type": "stream",
     "text": [
      "Buying 10 units of ISIN CH0418792922...\n",
      "New position.\n",
      "Successfully bought 10 units of ISIN CH0418792922.\n",
      "Purchase successfully completed!\n",
      "[{'isin': 'CH0418792922', 'quantity': 10}]\n"
     ]
    }
   ],
   "source": [
    "# Test: Aktie kaufen\n",
    "investors[0].buy(isin='CH0418792922', quantity=10)\n",
    "print(investors[0]._portfolio)"
   ]
  },
  {
   "cell_type": "code",
   "execution_count": 842,
   "metadata": {},
   "outputs": [
    {
     "name": "stdout",
     "output_type": "stream",
     "text": [
      "Buying 10 units of ISIN CH0025751329...\n",
      "New position.\n",
      "Successfully bought 10 units of ISIN CH0025751329.\n",
      "Purchase successfully completed!\n",
      "[{'isin': 'CH0418792922', 'quantity': 10}, {'isin': 'CH0025751329', 'quantity': 10}]\n"
     ]
    }
   ],
   "source": [
    "# Test: andere Aktie kaufen\n",
    "investors[0].buy(isin='CH0025751329', quantity=10)\n",
    "print(investors[0]._portfolio)"
   ]
  },
  {
   "cell_type": "code",
   "execution_count": 843,
   "metadata": {},
   "outputs": [
    {
     "name": "stdout",
     "output_type": "stream",
     "text": [
      "Buying 200 units of ISIN JP3732000009...\n",
      "New position.\n",
      "Successfully bought 200 units of ISIN JP3732000009.\n",
      "Purchase successfully completed!\n",
      "Buying 50 units of ISIN CH0025751329...\n",
      "Position already in portfolio, increasing quantity by 50.\n",
      "Updated position: 60 units of ISIN CH0025751329\n",
      "Purchase successfully completed!\n",
      "Buying 15 units of ISIN US0378331005...\n",
      "New position.\n",
      "Successfully bought 15 units of ISIN US0378331005.\n",
      "Purchase successfully completed!\n",
      "Buying 15 units of ISIN US6541061031...\n",
      "New position.\n",
      "Successfully bought 15 units of ISIN US6541061031.\n",
      "Purchase successfully completed!\n",
      "Buying 15 units of ISIN US0378331005...\n",
      "Position already in portfolio, increasing quantity by 15.\n",
      "Updated position: 30 units of ISIN US0378331005\n",
      "Purchase successfully completed!\n",
      "Buying 10 units of ISIN FR0000121485...\n",
      "New position.\n",
      "Successfully bought 10 units of ISIN FR0000121485.\n",
      "Purchase successfully completed!\n",
      "Buying 10 units of ISIN CH0011075394...\n",
      "New position.\n",
      "Successfully bought 10 units of ISIN CH0011075394.\n",
      "Purchase successfully completed!\n",
      "Buying 10 units of ISIN CH0012214059...\n",
      "New position.\n",
      "Successfully bought 10 units of ISIN CH0012214059.\n",
      "Purchase successfully completed!\n",
      "Buying 15 units of ISIN CH0030170408...\n",
      "New position.\n",
      "Successfully bought 15 units of ISIN CH0030170408.\n",
      "Purchase successfully completed!\n",
      "Buying 15 units of ISIN IT0003128367...\n",
      "New position.\n",
      "Successfully bought 15 units of ISIN IT0003128367.\n",
      "Purchase successfully completed!\n",
      "Buying 10 units of ISIN FR0000120073...\n",
      "New position.\n",
      "Successfully bought 10 units of ISIN FR0000120073.\n",
      "Purchase successfully completed!\n",
      "Buying 10 units of ISIN DE0005557508...\n",
      "New position.\n",
      "Successfully bought 10 units of ISIN DE0005557508.\n",
      "Purchase successfully completed!\n",
      "Buying 15 units of ISIN CH0038863350...\n",
      "New position.\n",
      "Successfully bought 15 units of ISIN CH0038863350.\n",
      "Purchase successfully completed!\n",
      "Buying 15 units of ISIN CH0018294154...\n",
      "New position.\n",
      "Successfully bought 15 units of ISIN CH0018294154.\n",
      "Purchase successfully completed!\n",
      "Buying 10 units of ISIN CH0012221716...\n",
      "New position.\n",
      "Successfully bought 10 units of ISIN CH0012221716.\n",
      "Purchase successfully completed!\n",
      "Buying 20 units of ISIN CH0012032048...\n",
      "New position.\n",
      "Successfully bought 20 units of ISIN CH0012032048.\n",
      "Purchase successfully completed!\n"
     ]
    }
   ],
   "source": [
    "# Test: einige Aktien kaufen\n",
    "investors[0].buy(isin='JP3732000009', quantity=200)\n",
    "investors[0].buy(isin='CH0025751329', quantity=50)\n",
    "investors[0].buy(isin='US0378331005', quantity=15)\n",
    "investors[0].buy(isin='US6541061031', quantity=15)\n",
    "investors[0].buy(isin='US0378331005', quantity=15)\n",
    "investors[0].buy(isin='FR0000121485', quantity=10)\n",
    "investors[0].buy(isin='CH0011075394', quantity=10)\n",
    "investors[0].buy(isin='CH0012214059', quantity=10)\n",
    "investors[0].buy(isin='CH0030170408', quantity=15)\n",
    "investors[0].buy(isin='IT0003128367', quantity=15)\n",
    "investors[0].buy(isin='FR0000120073', quantity=10)\n",
    "investors[0].buy(isin='DE0005557508', quantity=10)\n",
    "investors[0].buy(isin='CH0038863350', quantity=15)\n",
    "investors[0].buy(isin='CH0018294154', quantity=15)\n",
    "investors[0].buy(isin='CH0012221716', quantity=10)\n",
    "investors[0].buy(isin='CH0012032048', quantity=20)"
   ]
  },
  {
   "cell_type": "code",
   "execution_count": 844,
   "metadata": {},
   "outputs": [
    {
     "data": {
      "text/plain": [
       "[{'isin': 'CH0418792922', 'quantity': 10},\n",
       " {'isin': 'CH0025751329', 'quantity': 60},\n",
       " {'isin': 'JP3732000009', 'quantity': 200},\n",
       " {'isin': 'US0378331005', 'quantity': 30},\n",
       " {'isin': 'US6541061031', 'quantity': 15},\n",
       " {'isin': 'FR0000121485', 'quantity': 10},\n",
       " {'isin': 'CH0011075394', 'quantity': 10},\n",
       " {'isin': 'CH0012214059', 'quantity': 10},\n",
       " {'isin': 'CH0030170408', 'quantity': 15},\n",
       " {'isin': 'IT0003128367', 'quantity': 15},\n",
       " {'isin': 'FR0000120073', 'quantity': 10},\n",
       " {'isin': 'DE0005557508', 'quantity': 10},\n",
       " {'isin': 'CH0038863350', 'quantity': 15},\n",
       " {'isin': 'CH0018294154', 'quantity': 15},\n",
       " {'isin': 'CH0012221716', 'quantity': 10},\n",
       " {'isin': 'CH0012032048', 'quantity': 20}]"
      ]
     },
     "execution_count": 844,
     "metadata": {},
     "output_type": "execute_result"
    }
   ],
   "source": [
    "investors[0]._portfolio"
   ]
  },
  {
   "cell_type": "code",
   "execution_count": 845,
   "metadata": {},
   "outputs": [
    {
     "name": "stdout",
     "output_type": "stream",
     "text": [
      "Attention! ISIN CH0025751329 is on the CIO 'Least Preferred' list.\n"
     ]
    }
   ],
   "source": [
    "# Test: Sell-stocks identifizieren\n",
    "investors[0].find_sell_stocks()"
   ]
  },
  {
   "cell_type": "code",
   "execution_count": 846,
   "metadata": {},
   "outputs": [
    {
     "data": {
      "text/plain": [
       "['CH0025751329']"
      ]
     },
     "execution_count": 846,
     "metadata": {},
     "output_type": "execute_result"
    }
   ],
   "source": [
    "# Test: Sell-Stocks ausgeben\n",
    "investors[0]._sell_stocks"
   ]
  },
  {
   "cell_type": "code",
   "execution_count": 847,
   "metadata": {},
   "outputs": [
    {
     "name": "stdout",
     "output_type": "stream",
     "text": [
      "Fetching data for each portfolio position.\n",
      "Updating portfolio percentage.\n",
      "Bulk risk detected for ISIN US0378331005.\n",
      "Bulk risk detected for ISIN CH0011075394.\n",
      "Bulk risk detected for ISIN CH0030170408.\n",
      "Bulk risk detected for ISIN CH0012032048.\n",
      "All infos fetched and positions updated.\n",
      "Updated portfolio value: 40173.54\n"
     ]
    }
   ],
   "source": [
    "# Test: Fetch_Portfolio_infos\n",
    "investors[0].fetch_portfolio_infos()"
   ]
  },
  {
   "cell_type": "code",
   "execution_count": 848,
   "metadata": {},
   "outputs": [
    {
     "data": {
      "text/plain": [
       "['US0378331005', 'CH0011075394', 'CH0030170408', 'CH0012032048']"
      ]
     },
     "execution_count": 848,
     "metadata": {},
     "output_type": "execute_result"
    }
   ],
   "source": [
    "# Test: Bulk Risks ausgeben\n",
    "investors[0]._bulk_risks"
   ]
  },
  {
   "cell_type": "code",
   "execution_count": 849,
   "metadata": {},
   "outputs": [
    {
     "data": {
      "text/plain": [
       "[{'isin': 'CH0418792922',\n",
       "  'quantity': 10,\n",
       "  'name': 'Sika AG',\n",
       "  'buy_price': 222.2,\n",
       "  'price': 222.2,\n",
       "  'currency': 'CHF',\n",
       "  'value': 2222.0,\n",
       "  'sector': 'Basic Materials',\n",
       "  'industry': 'Specialty Chemicals',\n",
       "  'country': 'Switzerland',\n",
       "  'region': 'Switzerland',\n",
       "  'portfolio_percent': 0.0553},\n",
       " {'isin': 'CH0025751329',\n",
       "  'quantity': 60,\n",
       "  'name': 'Logitech International S.A.',\n",
       "  'buy_price': 64.78,\n",
       "  'price': 64.78,\n",
       "  'currency': 'CHF',\n",
       "  'value': 3886.8,\n",
       "  'sector': 'Technology',\n",
       "  'industry': 'Computer Hardware',\n",
       "  'country': 'Switzerland',\n",
       "  'region': 'Switzerland',\n",
       "  'portfolio_percent': 0.0968},\n",
       " {'isin': 'JP3732000009',\n",
       "  'quantity': 200,\n",
       "  'name': 'SoftBank Corp.',\n",
       "  'buy_price': 1671.5,\n",
       "  'price': 1671.5,\n",
       "  'currency': 'JPY',\n",
       "  'value': 2015.83,\n",
       "  'sector': 'Communication Services',\n",
       "  'industry': 'Telecom Services',\n",
       "  'country': 'Japan',\n",
       "  'region': 'Asia & EM',\n",
       "  'portfolio_percent': 0.0502},\n",
       " {'isin': 'US0378331005',\n",
       "  'quantity': 30,\n",
       "  'name': 'Apple Inc.',\n",
       "  'buy_price': 178.72,\n",
       "  'price': 178.72,\n",
       "  'currency': 'USD',\n",
       "  'value': 4837.77,\n",
       "  'sector': 'Technology',\n",
       "  'industry': 'Consumer Electronics',\n",
       "  'country': 'United States',\n",
       "  'region': 'United States',\n",
       "  'portfolio_percent': 0.1204},\n",
       " {'isin': 'US6541061031',\n",
       "  'quantity': 15,\n",
       "  'name': 'NIKE, Inc.',\n",
       "  'buy_price': 102.04,\n",
       "  'price': 102.04,\n",
       "  'currency': 'USD',\n",
       "  'value': 1381.06,\n",
       "  'sector': 'Consumer Cyclical',\n",
       "  'industry': 'Footwear & Accessories',\n",
       "  'country': 'United States',\n",
       "  'region': 'United States',\n",
       "  'portfolio_percent': 0.0344},\n",
       " {'isin': 'FR0000121485',\n",
       "  'quantity': 10,\n",
       "  'name': 'Kering SA',\n",
       "  'buy_price': 409.5,\n",
       "  'price': 409.5,\n",
       "  'currency': 'EUR',\n",
       "  'value': 3910.32,\n",
       "  'sector': 'Consumer Cyclical',\n",
       "  'industry': 'Luxury Goods',\n",
       "  'country': 'France',\n",
       "  'region': 'Europe',\n",
       "  'portfolio_percent': 0.0973},\n",
       " {'isin': 'CH0011075394',\n",
       "  'quantity': 10,\n",
       "  'name': 'Zurich Insurance Group AG',\n",
       "  'buy_price': 431.1,\n",
       "  'price': 431.1,\n",
       "  'currency': 'CHF',\n",
       "  'value': 4311.0,\n",
       "  'sector': 'Financial Services',\n",
       "  'industry': 'Insurance - Diversified',\n",
       "  'country': 'Switzerland',\n",
       "  'region': 'Switzerland',\n",
       "  'portfolio_percent': 0.1073},\n",
       " {'isin': 'CH0012214059',\n",
       "  'quantity': 10,\n",
       "  'name': 'Holcim Ltd',\n",
       "  'buy_price': 57.88,\n",
       "  'price': 57.88,\n",
       "  'currency': 'CHF',\n",
       "  'value': 578.8,\n",
       "  'sector': 'Basic Materials',\n",
       "  'industry': 'Building Materials',\n",
       "  'country': 'Switzerland',\n",
       "  'region': 'Switzerland',\n",
       "  'portfolio_percent': 0.0144},\n",
       " {'isin': 'CH0030170408',\n",
       "  'quantity': 15,\n",
       "  'name': 'Geberit AG',\n",
       "  'buy_price': 443.4,\n",
       "  'price': 443.4,\n",
       "  'currency': 'CHF',\n",
       "  'value': 6651.0,\n",
       "  'sector': 'Industrials',\n",
       "  'industry': 'Building Products & Equipment',\n",
       "  'country': 'Switzerland',\n",
       "  'region': 'Switzerland',\n",
       "  'portfolio_percent': 0.1656},\n",
       " {'isin': 'IT0003128367',\n",
       "  'quantity': 15,\n",
       "  'name': 'Enel SpA',\n",
       "  'buy_price': 5.742,\n",
       "  'price': 5.742,\n",
       "  'currency': 'EUR',\n",
       "  'value': 82.25,\n",
       "  'sector': 'Utilities',\n",
       "  'industry': 'Utilities - Diversified',\n",
       "  'country': 'Italy',\n",
       "  'region': 'Europe',\n",
       "  'portfolio_percent': 0.002},\n",
       " {'isin': 'FR0000120073',\n",
       "  'quantity': 10,\n",
       "  'name': \"L'Air Liquide S.A.\",\n",
       "  'buy_price': 159.34,\n",
       "  'price': 159.34,\n",
       "  'currency': 'EUR',\n",
       "  'value': 1521.54,\n",
       "  'sector': 'Basic Materials',\n",
       "  'industry': 'Specialty Chemicals',\n",
       "  'country': 'France',\n",
       "  'region': 'Europe',\n",
       "  'portfolio_percent': 0.0379},\n",
       " {'isin': 'DE0005557508',\n",
       "  'quantity': 10,\n",
       "  'name': 'Deutsche Telekom AG',\n",
       "  'buy_price': 20.345,\n",
       "  'price': 20.345,\n",
       "  'currency': 'EUR',\n",
       "  'value': 194.27,\n",
       "  'sector': 'Communication Services',\n",
       "  'industry': 'Telecom Services',\n",
       "  'country': 'Germany',\n",
       "  'region': 'Europe',\n",
       "  'portfolio_percent': 0.0048},\n",
       " {'isin': 'CH0038863350',\n",
       "  'quantity': 15,\n",
       "  'name': 'Nestlé S.A.',\n",
       "  'buy_price': 103.42,\n",
       "  'price': 103.42,\n",
       "  'currency': 'CHF',\n",
       "  'value': 1551.3,\n",
       "  'sector': 'Consumer Defensive',\n",
       "  'industry': 'Packaged Foods',\n",
       "  'country': 'Switzerland',\n",
       "  'region': 'Switzerland',\n",
       "  'portfolio_percent': 0.0386},\n",
       " {'isin': 'CH0018294154',\n",
       "  'quantity': 15,\n",
       "  'name': 'PSP Swiss Property AG',\n",
       "  'buy_price': 110.2,\n",
       "  'price': 110.2,\n",
       "  'currency': 'CHF',\n",
       "  'value': 1653.0,\n",
       "  'sector': 'Real Estate',\n",
       "  'industry': 'Real Estate Services',\n",
       "  'country': 'Switzerland',\n",
       "  'region': 'Switzerland',\n",
       "  'portfolio_percent': 0.0411},\n",
       " {'isin': 'CH0012221716',\n",
       "  'quantity': 10,\n",
       "  'name': 'ABB Ltd',\n",
       "  'buy_price': 32.66,\n",
       "  'price': 32.66,\n",
       "  'currency': 'CHF',\n",
       "  'value': 326.6,\n",
       "  'sector': 'Industrials',\n",
       "  'industry': 'Electrical Equipment & Parts',\n",
       "  'country': 'Switzerland',\n",
       "  'region': 'Switzerland',\n",
       "  'portfolio_percent': 0.0081},\n",
       " {'isin': 'CH0012032048',\n",
       "  'quantity': 20,\n",
       "  'name': 'Roche Holding AG',\n",
       "  'buy_price': 252.5,\n",
       "  'price': 252.5,\n",
       "  'currency': 'CHF',\n",
       "  'value': 5050.0,\n",
       "  'sector': 'Healthcare',\n",
       "  'industry': 'Drug Manufacturers - General',\n",
       "  'country': 'Switzerland',\n",
       "  'region': 'Switzerland',\n",
       "  'portfolio_percent': 0.1257}]"
      ]
     },
     "execution_count": 849,
     "metadata": {},
     "output_type": "execute_result"
    }
   ],
   "source": [
    "# Test: Portfolio ausgeben nach dem Fetch\n",
    "investors[0]._portfolio"
   ]
  },
  {
   "cell_type": "code",
   "execution_count": 850,
   "metadata": {},
   "outputs": [
    {
     "data": {
      "text/plain": [
       "40173.54"
      ]
     },
     "execution_count": 850,
     "metadata": {},
     "output_type": "execute_result"
    }
   ],
   "source": [
    "investors[0]._portfolio_value"
   ]
  },
  {
   "cell_type": "code",
   "execution_count": 851,
   "metadata": {},
   "outputs": [
    {
     "name": "stdout",
     "output_type": "stream",
     "text": [
      "Calculating Market and Sector Allocation.\n",
      "Allocation successfully calculated.\n"
     ]
    }
   ],
   "source": [
    "# Test: Allokationen berechnen\n",
    "investors[0].calculate_allocation()"
   ]
  },
  {
   "cell_type": "code",
   "execution_count": 852,
   "metadata": {},
   "outputs": [
    {
     "data": {
      "text/plain": [
       "{'Financial Services': 0.1073,\n",
       " 'Technology': 0.2172,\n",
       " 'Industrials': 0.1737,\n",
       " 'Energy': 0.0,\n",
       " 'Healthcare': 0.1257,\n",
       " 'Consumer Defensive': 0.0386,\n",
       " 'Consumer Cyclical': 0.13169999999999998,\n",
       " 'Basic Materials': 0.1076,\n",
       " 'Real Estate': 0.0411,\n",
       " 'Communication Services': 0.055,\n",
       " 'Utilities': 0.002}"
      ]
     },
     "execution_count": 852,
     "metadata": {},
     "output_type": "execute_result"
    }
   ],
   "source": [
    "investors[0]._market_allocation\n",
    "investors[0]._sector_allocation"
   ]
  },
  {
   "cell_type": "code",
   "execution_count": 853,
   "metadata": {},
   "outputs": [
    {
     "data": {
      "image/png": "[encoded data removed]",
      "text/plain": [
       "<Figure size 640x480 with 1 Axes>"
      ]
     },
     "metadata": {},
     "output_type": "display_data"
    },
    {
     "data": {
      "image/png": "[encoded data removed]",
      "text/plain": [
       "<Figure size 640x480 with 1 Axes>"
      ]
     },
     "metadata": {},
     "output_type": "display_data"
    }
   ],
   "source": [
    "# Testing: Allokation visualisieren\n",
    "investors[0].visualize_allocations()"
   ]
  },
  {
   "cell_type": "code",
   "execution_count": 854,
   "metadata": {},
   "outputs": [
    {
     "name": "stdout",
     "output_type": "stream",
     "text": [
      "Comparing portfolio to benchmark allocation.\n",
      "Investor profile: swiss-bias\n",
      "Allocation differences were calculated successfully.\n"
     ]
    }
   ],
   "source": [
    "investors[0].calculate_allocation_difference()"
   ]
  },
  {
   "cell_type": "code",
   "execution_count": 855,
   "metadata": {},
   "outputs": [
    {
     "data": {
      "text/plain": [
       "{'United States': 0.004799999999999999,\n",
       " 'Europe': 0.04199999999999998,\n",
       " 'Switzerland': -0.04709999999999992,\n",
       " 'Asia & EM': 0.0001999999999999988}"
      ]
     },
     "execution_count": 855,
     "metadata": {},
     "output_type": "execute_result"
    }
   ],
   "source": [
    "investors[0]._market_allocation_difference"
   ]
  },
  {
   "cell_type": "code",
   "execution_count": 856,
   "metadata": {},
   "outputs": [
    {
     "data": {
      "text/plain": [
       "{'Financial Services': -0.07269999999999999,\n",
       " 'Technology': 0.1372,\n",
       " 'Industrials': 0.0237,\n",
       " 'Energy': -0.02,\n",
       " 'Healthcare': -0.1243,\n",
       " 'Consumer Defensive': -0.1114,\n",
       " 'Consumer Cyclical': 0.05169999999999998,\n",
       " 'Basic Materials': 0.0576,\n",
       " 'Real Estate': 0.0411,\n",
       " 'Communication Services': 0.035,\n",
       " 'Utilities': -0.018000000000000002,\n",
       " 'Mixed': 0.0}"
      ]
     },
     "execution_count": 856,
     "metadata": {},
     "output_type": "execute_result"
    }
   ],
   "source": [
    "investors[0]._sector_allocation_difference"
   ]
  },
  {
   "cell_type": "code",
   "execution_count": 857,
   "metadata": {},
   "outputs": [
    {
     "name": "stdout",
     "output_type": "stream",
     "text": [
      "{'United States': 0.0, 'Europe': 0.0, 'Switzerland': 0.0, 'Asia & EM': 0.0}\n",
      "{'Financial Services': 0, 'Technology': 0.0, 'Industrials': 0.0, 'Energy': 0.0, 'Healthcare': 0.0, 'Consumer Defensive': 0.0, 'Consumer Cyclical': 0.0, 'Basic Materials': 0.0, 'Real Estate': 0.0, 'Communication Services': 0.0, 'Utilities': 0.0, 'Mixed': 0.0}\n"
     ]
    }
   ],
   "source": [
    "print(empty_market_allocation)\n",
    "print(empty_sector_allocation)"
   ]
  },
  {
   "cell_type": "code",
   "execution_count": 858,
   "metadata": {},
   "outputs": [
    {
     "data": {
      "image/png": "[encoded data removed]",
      "text/plain": [
       "<Figure size 600x600 with 1 Axes>"
      ]
     },
     "metadata": {},
     "output_type": "display_data"
    },
    {
     "data": {
      "image/png": "[encoded data removed]",
      "text/plain": [
       "<Figure size 1200x600 with 1 Axes>"
      ]
     },
     "metadata": {},
     "output_type": "display_data"
    }
   ],
   "source": [
    "investors[0].visualize_allocation_differences()"
   ]
  },
  {
   "cell_type": "code",
   "execution_count": 859,
   "metadata": {},
   "outputs": [
    {
     "name": "stdout",
     "output_type": "stream",
     "text": [
      "Currency\tQuantity\tName\t\t\t\tISIN\t\tBuy Price\tMarket Price\tMarket Value\n",
      "----------------------------------------------------------------------------------------------------------------------------\n",
      "CHF\t\t10\t\tSika AG                       \tCH0418792922\t222.2\t\t222.2\t\t2222.0\n",
      "----------------------------------------------------------------------------------------------------------------------------\n",
      "CHF\t\t60\t\tLogitech International S.A.   \tCH0025751329\t64.78\t\t64.78\t\t3886.8\n",
      "----------------------------------------------------------------------------------------------------------------------------\n",
      "JPY\t\t200\t\tSoftBank Corp.                \tJP3732000009\t1671.5\t\t1671.5\t\t2015.83\n",
      "----------------------------------------------------------------------------------------------------------------------------\n",
      "USD\t\t30\t\tApple Inc.                    \tUS0378331005\t178.72\t\t178.72\t\t4837.77\n",
      "----------------------------------------------------------------------------------------------------------------------------\n",
      "USD\t\t15\t\tNIKE, Inc.                    \tUS6541061031\t102.04\t\t102.04\t\t1381.06\n",
      "----------------------------------------------------------------------------------------------------------------------------\n",
      "EUR\t\t10\t\tKering SA                     \tFR0000121485\t409.5\t\t409.5\t\t3910.32\n",
      "----------------------------------------------------------------------------------------------------------------------------\n",
      "CHF\t\t10\t\tZurich Insurance Group AG     \tCH0011075394\t431.1\t\t431.1\t\t4311.0\n",
      "----------------------------------------------------------------------------------------------------------------------------\n",
      "CHF\t\t10\t\tHolcim Ltd                    \tCH0012214059\t57.88\t\t57.88\t\t578.8\n",
      "----------------------------------------------------------------------------------------------------------------------------\n",
      "CHF\t\t15\t\tGeberit AG                    \tCH0030170408\t443.4\t\t443.4\t\t6651.0\n",
      "----------------------------------------------------------------------------------------------------------------------------\n",
      "EUR\t\t15\t\tEnel SpA                      \tIT0003128367\t5.742\t\t5.742\t\t82.25\n",
      "----------------------------------------------------------------------------------------------------------------------------\n",
      "EUR\t\t10\t\tL'Air Liquide S.A.            \tFR0000120073\t159.34\t\t159.34\t\t1521.54\n",
      "----------------------------------------------------------------------------------------------------------------------------\n",
      "EUR\t\t10\t\tDeutsche Telekom AG           \tDE0005557508\t20.345\t\t20.345\t\t194.27\n",
      "----------------------------------------------------------------------------------------------------------------------------\n",
      "CHF\t\t15\t\tNestlé S.A.                   \tCH0038863350\t103.42\t\t103.42\t\t1551.3\n",
      "----------------------------------------------------------------------------------------------------------------------------\n",
      "CHF\t\t15\t\tPSP Swiss Property AG         \tCH0018294154\t110.2\t\t110.2\t\t1653.0\n",
      "----------------------------------------------------------------------------------------------------------------------------\n",
      "CHF\t\t10\t\tABB Ltd                       \tCH0012221716\t32.66\t\t32.66\t\t326.6\n",
      "----------------------------------------------------------------------------------------------------------------------------\n",
      "CHF\t\t20\t\tRoche Holding AG              \tCH0012032048\t252.5\t\t252.5\t\t5050.0\n",
      "----------------------------------------------------------------------------------------------------------------------------\n"
     ]
    }
   ],
   "source": [
    "investors[0].print_portfolio()"
   ]
  },
  {
   "cell_type": "code",
   "execution_count": 860,
   "metadata": {},
   "outputs": [
    {
     "name": "stdout",
     "output_type": "stream",
     "text": [
      "Successfully created JSON file named 000001.json\n"
     ]
    }
   ],
   "source": [
    "investors[0].write_json()"
   ]
  },
  {
   "cell_type": "markdown",
   "metadata": {},
   "source": [
    "__________\n",
    "End of Testing\n",
    "__________"
   ]
  },
  {
   "cell_type": "code",
   "execution_count": 861,
   "metadata": {},
   "outputs": [
    {
     "data": {
      "text/plain": [
       "{'United States': 0.0, 'Europe': 0.0, 'Switzerland': 0.0, 'Asia & EM': 0.0}"
      ]
     },
     "execution_count": 861,
     "metadata": {},
     "output_type": "execute_result"
    }
   ],
   "source": [
    "empty_market_allocation"
   ]
  },
  {
   "cell_type": "code",
   "execution_count": 862,
   "metadata": {},
   "outputs": [
    {
     "name": "stdout",
     "output_type": "stream",
     "text": [
      "It's here!\n"
     ]
    }
   ],
   "source": [
    "test_dict = {'nice':5, 'good':'verygood', 'best':0}\n",
    "if 'best' in test_dict:\n",
    "    print(\"It's here!\")\n",
    "else:\n",
    "    print(\"Nothing here\")"
   ]
  },
  {
   "cell_type": "code",
   "execution_count": 863,
   "metadata": {},
   "outputs": [
    {
     "name": "stdout",
     "output_type": "stream",
     "text": [
      "Comparing portfolio to benchmark allocation.\n",
      "Investment profile: swiss-bias\n",
      "Market Allocation: United States 0.1548\n",
      "Reference Market: 0.15\n",
      "0.004799999999999999\n",
      "Market Allocation: Europe 0.142\n",
      "Reference Market: 0.1\n",
      "0.04199999999999998\n",
      "Market Allocation: Switzerland 0.6529\n",
      "Reference Market: 0.7\n",
      "-0.04709999999999992\n",
      "Market Allocation: Asia & EM 0.0502\n",
      "Reference Market: 0.05\n",
      "0.0001999999999999988\n"
     ]
    },
    {
     "data": {
      "text/plain": [
       "{'United States': 0.004799999999999999,\n",
       " 'Europe': 0.04199999999999998,\n",
       " 'Switzerland': -0.04709999999999992,\n",
       " 'Asia & EM': 0.0001999999999999988}"
      ]
     },
     "execution_count": 863,
     "metadata": {},
     "output_type": "execute_result"
    }
   ],
   "source": [
    "# IMPLEMENTED\n",
    "\n",
    "# Market Allocation Difference\n",
    "\n",
    "print(f'Comparing portfolio to benchmark allocation.')\n",
    "market_allocation_difference = dict(empty_market_allocation)\n",
    "print(f'Investment profile: {investors[0]._investor_type}')\n",
    "with open(f'..\\data\\profile_{investors[0]._investor_type}.json') as json_file:\n",
    "    reference_allocation = json.load(json_file)\n",
    "for market in investors[0]._market_allocation:\n",
    "    market_allocation_difference[market] = investors[0]._market_allocation[market] - reference_allocation['markets'][market]\n",
    "    print(f\"Market Allocation: {market} {investors[0]._market_allocation[market]}\")\n",
    "    print(f\"Reference Market: {reference_allocation['markets'][market]}\")\n",
    "    print(f\"{investors[0]._market_allocation[market] - reference_allocation['markets'][market]}\")\n",
    "market_allocation_difference\n"
   ]
  },
  {
   "cell_type": "code",
   "execution_count": 864,
   "metadata": {},
   "outputs": [
    {
     "data": {
      "text/plain": [
       "{'name': 'Swiss-Bias Investor',\n",
       " 'markets': {'United States': 0.15,\n",
       "  'Europe': 0.1,\n",
       "  'Switzerland': 0.7,\n",
       "  'Asia & EM': 0.05},\n",
       " 'sectors': {'Financial Services': 0.18,\n",
       "  'Technology': 0.08,\n",
       "  'Industrials': 0.15,\n",
       "  'Energy': 0.02,\n",
       "  'Healthcare': 0.25,\n",
       "  'Consumer Defensive': 0.15,\n",
       "  'Consumer Cyclical': 0.08,\n",
       "  'Basic Materials': 0.05,\n",
       "  'Real Estate': 0.0,\n",
       "  'Communication Services': 0.02,\n",
       "  'Utilities': 0.02,\n",
       "  'Mixed': 0.0}}"
      ]
     },
     "execution_count": 864,
     "metadata": {},
     "output_type": "execute_result"
    }
   ],
   "source": [
    "reference_allocation"
   ]
  },
  {
   "cell_type": "code",
   "execution_count": 865,
   "metadata": {},
   "outputs": [
    {
     "data": {
      "text/plain": [
       "{'United States': 0.1548,\n",
       " 'Europe': 0.142,\n",
       " 'Switzerland': 0.6529,\n",
       " 'Asia & EM': 0.0502}"
      ]
     },
     "execution_count": 865,
     "metadata": {},
     "output_type": "execute_result"
    }
   ],
   "source": [
    "# IMPLEMENTED\n",
    "\n",
    "# Allokation berechnen\n",
    "\n",
    "market_allocation = {\n",
    "    'United States':0.,\n",
    "    'Europe':0.,\n",
    "    'Switzerland':0.,\n",
    "    'Asia & EM':0.\n",
    "}\n",
    "\n",
    "sector_allocation = {\n",
    "    'Financial Services': 0, \n",
    "    'Technology': 0., \n",
    "    'Industrials': 0., \n",
    "    'Energy': 0., \n",
    "    'Healthcare': 0., \n",
    "    'Consumer Defensive': 0., \n",
    "    'Consumer Cyclical': 0., \n",
    "    'Basic Materials': 0., \n",
    "    'Real Estate': 0., \n",
    "    'Communication Services': 0., \n",
    "    'Utilities': 0.\n",
    "}\n",
    "\n",
    "for position in investors[0]._portfolio:\n",
    "    region = position['region']\n",
    "    market_allocation[region] += position['portfolio_percent']\n",
    "    sector = position['sector']\n",
    "    sector_allocation[sector] += position['portfolio_percent']\n",
    "\n",
    "market_allocation\n",
    "# sector_allocation"
   ]
  },
  {
   "cell_type": "code",
   "execution_count": 866,
   "metadata": {},
   "outputs": [
    {
     "data": {
      "image/png": "[encoded data removed]",
      "text/plain": [
       "<Figure size 640x480 with 1 Axes>"
      ]
     },
     "metadata": {},
     "output_type": "display_data"
    }
   ],
   "source": [
    "# IMPLEMENTED\n",
    "\n",
    "# Allokation visualiseren\n",
    "market_colors = {\n",
    "    'United States':'green',\n",
    "    'Europe':'royalblue',\n",
    "    'Switzerland':'red',\n",
    "    'Asia & EM':'pink'\n",
    "}\n",
    "\n",
    "sector_colors= {}\n",
    "\n",
    "market_label_list = []\n",
    "market_size_list = []\n",
    "market_color_list = []\n",
    "for market in market_allocation:\n",
    "    if market_allocation[market] != 0:\n",
    "        market_label_list.append(market)\n",
    "        market_size_list.append(market_allocation[market])\n",
    "        market_color_list.append(market_colors[market])\n",
    "\n",
    "plt.pie(x=market_size_list, labels=market_label_list, autopct='%1.1f%%', colors=market_color_list, wedgeprops=dict(edgecolor='black'))\n",
    "plt.title('Market Allocation')\n",
    "plt.show()"
   ]
  },
  {
   "cell_type": "code",
   "execution_count": 867,
   "metadata": {},
   "outputs": [
    {
     "data": {
      "image/png": "[encoded data removed]",
      "text/plain": [
       "<Figure size 640x480 with 1 Axes>"
      ]
     },
     "metadata": {},
     "output_type": "display_data"
    }
   ],
   "source": [
    "# IMPLEMENTED\n",
    "\n",
    "# Allokation visualiseren\n",
    "\n",
    "sector_colors = {\n",
    "    'Financial Services':'lightblue', \n",
    "    'Technology':'silver', \n",
    "    'Industrials':'steelblue', \n",
    "    'Energy':'orange', \n",
    "    'Healthcare':'lightgreen', \n",
    "    'Consumer Defensive':'tan', \n",
    "    'Consumer Cyclical':'blueviolet', \n",
    "    'Basic Materials':'saddlebrown', \n",
    "    'Real Estate':'maroon', \n",
    "    'Communication Services':'gold', \n",
    "    'Utilities':'teal'\n",
    "}\n",
    "\n",
    "sector_label_list = []\n",
    "sector_size_list = []\n",
    "sector_color_list = []\n",
    "for sector in sector_allocation:\n",
    "    if sector_allocation[sector] != 0:\n",
    "        sector_label_list.append(sector)\n",
    "        sector_size_list.append(sector_allocation[sector])\n",
    "        sector_color_list.append(sector_colors[sector])\n",
    "\n",
    "plt.pie(x=sector_size_list, labels=sector_label_list, autopct='%1.1f%%', colors=sector_color_list, wedgeprops=dict(edgecolor='black'))\n",
    "plt.title('Sector Allocation')\n",
    "plt.show()"
   ]
  },
  {
   "cell_type": "code",
   "execution_count": 868,
   "metadata": {},
   "outputs": [
    {
     "name": "stdout",
     "output_type": "stream",
     "text": [
      "Type: <class 'dict'>\n"
     ]
    }
   ],
   "source": [
    "# referenz-allokation laden\n",
    "profile = 'swiss-bias'\n",
    "with open(f'..\\data\\profile_{profile}.json') as json_file:\n",
    "    reference_allocation = json.load(json_file)\n",
    "    print(\"Type:\", type(reference_allocation))"
   ]
  },
  {
   "cell_type": "code",
   "execution_count": 869,
   "metadata": {},
   "outputs": [
    {
     "name": "stdout",
     "output_type": "stream",
     "text": [
      "Type: <class 'dict'>\n"
     ]
    }
   ],
   "source": [
    "# json-file laden\n",
    "with open(f'..\\data\\dummy_portfolio.json') as json_file:\n",
    "    dummy_portfolio = json.load(json_file)\n",
    "    print(\"Type:\", type(dummy_portfolio))"
   ]
  },
  {
   "cell_type": "code",
   "execution_count": 870,
   "metadata": {},
   "outputs": [
    {
     "name": "stdout",
     "output_type": "stream",
     "text": [
      "{'id': '000001', 'name': 'John Doe', 'investor_type': 'Swiss-Bias', 'portfolio': [{'name': 'ABB', 'isin': 'CH0012221716', 'quantity': 10}, {'name': 'Ralp Lauren', 'isin': 'US7512121010', 'quantity': 15}], 'banker': [{'name': 'UBS', 'isin': 'CH0244767585', 'quantity': 10}, {'name': 'Zurich', 'isin': 'CH0011075394', 'quantity': 15}], 'tech_guy': [{'name': 'Apple', 'isin': 'US0378331005', 'quantity': 10}, {'name': 'Microsoft', 'isin': 'US5949181045', 'quantity': 15}], 'bad_stocks': [{'isin': 'CH0012221716'}, {'isin': 'US7512121010'}], 'market_allocation': {'USA': 0.5, 'Europe': 0.0, 'Switzerland': 0.5, 'Asia & EM': 0.0}, 'sector_allocation': {'Financial Services': 0.01, 'Technology': 0.01, 'Industrials': 0.01, 'Energy': 0.01, 'Healthcare': 0.01, 'Consumer Defensive': 0.01, 'Consumer Cyclical': 0.01, 'Basic Materials': 0.01, 'Real Estate': 0.01, 'Communication Services': 0.01, 'Utilities': 0.01}, 'market_allocation_difference': {'USA': 0.35, 'Europe': -0.1, 'Switzerland': -0.2, 'Asia & EM': -0.05}, 'sector_allocation_difference': {'Financial Services': -0.17, 'Technology': -0.07, 'Industrials': -0.14, 'Energy': -0.01, 'Healthcare': -0.24, 'Consumer Defensive': -0.14, 'Consumer Cyclical': -0.07, 'Basic Materials': -0.04, 'Real Estate': 0.01, 'Communication Services': -0.01, 'Utilities': -0.01}}\n"
     ]
    }
   ],
   "source": [
    "print(dummy_portfolio)"
   ]
  },
  {
   "cell_type": "code",
   "execution_count": 871,
   "metadata": {},
   "outputs": [
    {
     "data": {
      "text/plain": [
       "0      Electrical Equipment & Parts\n",
       "1    Medical Instruments & Supplies\n",
       "2     Building Products & Equipment\n",
       "3               Specialty Chemicals\n",
       "4                Building Materials\n",
       "5    Integrated Freight & Logistics\n",
       "6                 Computer Hardware\n",
       "7            Diagnostics & Research\n",
       "8                    Packaged Foods\n",
       "9      Drug Manufacturers - General\n",
       "Name: industry, dtype: object"
      ]
     },
     "execution_count": 871,
     "metadata": {},
     "output_type": "execute_result"
    }
   ],
   "source": [
    "# IMPLEMENTIERT\n",
    "# stock-info laden\n",
    "stock_info = pd.read_csv('..\\data\\stock_info.tsv', sep='\\t')\n",
    "# stock_info['isin'].head()\n",
    "stock_info['longName'].head()\n",
    "stock_info['industry'].head(10)"
   ]
  },
  {
   "cell_type": "code",
   "execution_count": 872,
   "metadata": {},
   "outputs": [
    {
     "name": "stdout",
     "output_type": "stream",
     "text": [
      "Index(['address1', 'city', 'zip', 'country', 'phone', 'fax', 'website',\n",
      "       'industry', 'industryKey', 'industryDisp',\n",
      "       ...\n",
      "       'shortPercentOfFloat', 'totalAssets', 'navPrice', 'beta3Year',\n",
      "       'fundFamily', 'fundInceptionDate', 'legalType', 'yield', 'ytdReturn',\n",
      "       'threeYearAverageReturn'],\n",
      "      dtype='object', length=146)\n"
     ]
    }
   ],
   "source": [
    "print(stock_info.columns)"
   ]
  },
  {
   "cell_type": "code",
   "execution_count": 873,
   "metadata": {},
   "outputs": [
    {
     "data": {
      "text/plain": [
       "[{'isin': 'CH0038863350', 'quantity': 10},\n",
       " {'isin': 'US4581401001', 'quantity': 30},\n",
       " {'isin': 'CH0009002962', 'quantity': 15},\n",
       " {'isin': 'DE000A1EWWW0', 'quantity': 1},\n",
       " {'isin': 'FR0000120073', 'quantity': 2},\n",
       " {'isin': 'NL0010273215', 'quantity': 3},\n",
       " {'isin': 'GB00B7KR2P84', 'quantity': 4},\n",
       " {'isin': 'JE00B4T3BW64', 'quantity': 5},\n",
       " {'isin': 'LU0480132876', 'quantity': 6},\n",
       " {'isin': 'HK0000069689', 'quantity': 7},\n",
       " {'isin': 'KYG017191142', 'quantity': 8},\n",
       " {'isin': 'GB0005405286', 'quantity': 9},\n",
       " {'isin': 'KYG6427A1022', 'quantity': 10},\n",
       " {'isin': 'KR7005930003', 'quantity': 11},\n",
       " {'isin': 'TW0002330008', 'quantity': 12},\n",
       " {'isin': 'NL0011585146', 'quantity': 13},\n",
       " {'isin': 'JP3732000009', 'quantity': 14}]"
      ]
     },
     "execution_count": 873,
     "metadata": {},
     "output_type": "execute_result"
    }
   ],
   "source": [
    "# test-portfolio\n",
    "portfolio = []\n",
    "isin_list = ['CH0038863350', 'US4581401001', 'CH0009002962', 'DE000A1EWWW0', 'FR0000120073', 'NL0010273215', 'GB00B7KR2P84', 'JE00B4T3BW64', 'LU0480132876', 'HK0000069689', 'KYG017191142', 'GB0005405286', 'KYG6427A1022', 'KR7005930003', 'TW0002330008', 'NL0011585146', 'JP3732000009']\n",
    "quantity_list = [10, 30, 15, 1, 2, 3, 4, 5, 6, 7, 8, 9, 10, 11, 12, 13, 14]\n",
    "# quantity_list = [1,1,1,1,1,1,1,1,1,1,1,1,1,1,1,1,1]\n",
    "\n",
    "for i in range(len(isin_list)):\n",
    "    portfolio.append({'isin':isin_list[i], 'quantity':quantity_list[i]})\n",
    "portfolio"
   ]
  },
  {
   "cell_type": "code",
   "execution_count": 874,
   "metadata": {},
   "outputs": [
    {
     "name": "stdout",
     "output_type": "stream",
     "text": [
      "Buying 5 units of ISIN US123...\n",
      "New Position.\n",
      "Successfully bought 5 units of ISIN US123.\n",
      "Purchase successfully completed!\n"
     ]
    }
   ],
   "source": [
    "# IMPLEMENTIERT\n",
    "\n",
    "# Kaufen\n",
    "isin = 'US123'\n",
    "quantity = 5\n",
    "\n",
    "print(f\"Buying {quantity} units of ISIN {isin}...\")\n",
    "\n",
    "# Checken, ob bereits im portfolio\n",
    "already_bought = False\n",
    "for i in range(len(portfolio)):\n",
    "    if portfolio[i]['isin'] == isin:\n",
    "        already_bought = True\n",
    "        print(f\"Position already in Portfolio, increasing quantity by {quantity}.\")\n",
    "        portfolio[i]['quantity'] += quantity\n",
    "        print(f'Updated Position: {portfolio[i][\"quantity\"]} units of ISIN {portfolio[i][\"isin\"]}')\n",
    "        break\n",
    "if already_bought == False:\n",
    "    portfolio.append({'isin':isin, 'quantity':quantity})\n",
    "    print(f'New Position.\\nSuccessfully bought {quantity} units of ISIN {isin}.')\n",
    "\n",
    "print(f'Purchase successfully completed!')\n",
    "\n",
    "\n",
    "\n",
    "# portfolio.append({'isin':'CH0038863350', 'quantity':5})"
   ]
  },
  {
   "cell_type": "code",
   "execution_count": 875,
   "metadata": {},
   "outputs": [
    {
     "ename": "IndexError",
     "evalue": "index 0 is out of bounds for axis 0 with size 0",
     "output_type": "error",
     "traceback": [
      "\u001b[1;31m---------------------------------------------------------------------------\u001b[0m",
      "\u001b[1;31mIndexError\u001b[0m                                Traceback (most recent call last)",
      "\u001b[1;32mc:\\Users\\rapha\\OneDrive\\Desktop\\CDS_HS23\\04 Recommender Systems\\GitHub\\personal-investment-recommender\\analysis\\raffi_test.ipynb Cell 43\u001b[0m line \u001b[0;36m2\n\u001b[0;32m     <a href='vscode-notebook-cell:/c%3A/Users/rapha/OneDrive/Desktop/CDS_HS23/04%20Recommender%20Systems/GitHub/personal-investment-recommender/analysis/raffi_test.ipynb#X54sZmlsZQ%3D%3D?line=21'>22</a>\u001b[0m \u001b[39mfor\u001b[39;00m position \u001b[39min\u001b[39;00m portfolio:\n\u001b[0;32m     <a href='vscode-notebook-cell:/c%3A/Users/rapha/OneDrive/Desktop/CDS_HS23/04%20Recommender%20Systems/GitHub/personal-investment-recommender/analysis/raffi_test.ipynb#X54sZmlsZQ%3D%3D?line=22'>23</a>\u001b[0m     \u001b[39m# relevante Infos fetchen\u001b[39;00m\n\u001b[0;32m     <a href='vscode-notebook-cell:/c%3A/Users/rapha/OneDrive/Desktop/CDS_HS23/04%20Recommender%20Systems/GitHub/personal-investment-recommender/analysis/raffi_test.ipynb#X54sZmlsZQ%3D%3D?line=23'>24</a>\u001b[0m     info \u001b[39m=\u001b[39m stock_info\u001b[39m.\u001b[39mloc[stock_info[\u001b[39m'\u001b[39m\u001b[39misin\u001b[39m\u001b[39m'\u001b[39m] \u001b[39m==\u001b[39m position[\u001b[39m'\u001b[39m\u001b[39misin\u001b[39m\u001b[39m'\u001b[39m], [\u001b[39m'\u001b[39m\u001b[39misin\u001b[39m\u001b[39m'\u001b[39m, \u001b[39m'\u001b[39m\u001b[39mlongName\u001b[39m\u001b[39m'\u001b[39m, \u001b[39m'\u001b[39m\u001b[39mpreviousClose\u001b[39m\u001b[39m'\u001b[39m, \u001b[39m'\u001b[39m\u001b[39mcurrency\u001b[39m\u001b[39m'\u001b[39m, \u001b[39m'\u001b[39m\u001b[39mcountry\u001b[39m\u001b[39m'\u001b[39m , \u001b[39m'\u001b[39m\u001b[39msector\u001b[39m\u001b[39m'\u001b[39m]] \u001b[39m# zeile aus stock-info von dieser Aktie\u001b[39;00m\n\u001b[1;32m---> <a href='vscode-notebook-cell:/c%3A/Users/rapha/OneDrive/Desktop/CDS_HS23/04%20Recommender%20Systems/GitHub/personal-investment-recommender/analysis/raffi_test.ipynb#X54sZmlsZQ%3D%3D?line=25'>26</a>\u001b[0m     position[\u001b[39m'\u001b[39m\u001b[39mname\u001b[39m\u001b[39m'\u001b[39m] \u001b[39m=\u001b[39m info[\u001b[39m'\u001b[39;49m\u001b[39mlongName\u001b[39;49m\u001b[39m'\u001b[39;49m]\u001b[39m.\u001b[39;49mvalues[\u001b[39m0\u001b[39;49m]       \u001b[39m# Name\u001b[39;00m\n\u001b[0;32m     <a href='vscode-notebook-cell:/c%3A/Users/rapha/OneDrive/Desktop/CDS_HS23/04%20Recommender%20Systems/GitHub/personal-investment-recommender/analysis/raffi_test.ipynb#X54sZmlsZQ%3D%3D?line=26'>27</a>\u001b[0m     position[\u001b[39m'\u001b[39m\u001b[39mprice\u001b[39m\u001b[39m'\u001b[39m] \u001b[39m=\u001b[39m info[\u001b[39m'\u001b[39m\u001b[39mpreviousClose\u001b[39m\u001b[39m'\u001b[39m]\u001b[39m.\u001b[39mvalues[\u001b[39m0\u001b[39m] \u001b[39m# Preis\u001b[39;00m\n\u001b[0;32m     <a href='vscode-notebook-cell:/c%3A/Users/rapha/OneDrive/Desktop/CDS_HS23/04%20Recommender%20Systems/GitHub/personal-investment-recommender/analysis/raffi_test.ipynb#X54sZmlsZQ%3D%3D?line=27'>28</a>\u001b[0m     position[\u001b[39m'\u001b[39m\u001b[39mcurrency\u001b[39m\u001b[39m'\u001b[39m] \u001b[39m=\u001b[39m info[\u001b[39m'\u001b[39m\u001b[39mcurrency\u001b[39m\u001b[39m'\u001b[39m]\u001b[39m.\u001b[39mvalues[\u001b[39m0\u001b[39m]   \u001b[39m# Währung\u001b[39;00m\n",
      "\u001b[1;31mIndexError\u001b[0m: index 0 is out of bounds for axis 0 with size 0"
     ]
    }
   ],
   "source": [
    "# IMPLEMENTIERT\n",
    "# mit portfolio-positionen die daten aus stock-data holen für allokation\n",
    "\n",
    "europe_countries = ['Germany', 'France', 'Netherlands', 'Spain', 'Italy', 'United Kingdom', 'Norway', 'Ireland']\n",
    "asia_stocks = ['Japan', 'Hong Kong', 'China', 'South Korea', 'Taiwan']\n",
    "\n",
    "portfolio_currency = 'CHF'\n",
    "forex = {\n",
    "    'CHF':1.,\n",
    "    'EUR':0.9549,\n",
    "    'USD':0.9023,\n",
    "    'GBp':1.0953, # achtung, yfinance nutzt lowercase p\n",
    "    'GBP':1.0953,\n",
    "    'NOK':0.0808,\n",
    "    'JPY':0.00603,\n",
    "    'HKD':0.1153,\n",
    "    'KRW':0.00067,\n",
    "    'TWD':0.0278\n",
    "}\n",
    "\n",
    "portfolio_value = 0 # variable für gesamtwert des portfolios\n",
    "for position in portfolio:\n",
    "    # relevante Infos fetchen\n",
    "    info = stock_info.loc[stock_info['isin'] == position['isin'], ['isin', 'longName', 'previousClose', 'currency', 'country' , 'sector']] # zeile aus stock-info von dieser Aktie\n",
    "    \n",
    "    position['name'] = info['longName'].values[0]       # Name\n",
    "    position['price'] = info['previousClose'].values[0] # Preis\n",
    "    position['currency'] = info['currency'].values[0]   # Währung\n",
    "    position['value'] = round(position['quantity']*position['price']*forex[position['currency']], 2) # Wert = Anzahl*Preis*Wechselkurs\n",
    "    portfolio_value += position['value']    # Portfoliowert aktualisieren\n",
    "    position['country'] = info['country'].values[0]     # Land\n",
    "\n",
    "    # Region für Allokation\n",
    "    if position['country'] in europe_countries:\n",
    "        position['region'] = 'Europe'\n",
    "    elif position['country'] in asia_stocks:\n",
    "        position['region'] = 'Asia'\n",
    "    else:\n",
    "        position['region'] = position['country']\n",
    "    position['sector'] = info['sector'].values[0]\n",
    "\n",
    "# Anteil am Portfoliowert für jede Position\n",
    "for position in portfolio:\n",
    "    position['portfolio_percent'] = round(position['value']/portfolio_value, 4)\n",
    "    \n",
    "print(portfolio_value)\n",
    "print(portfolio)\n",
    "# print(portfolio)"
   ]
  },
  {
   "cell_type": "code",
   "execution_count": null,
   "metadata": {},
   "outputs": [
    {
     "name": "stdout",
     "output_type": "stream",
     "text": [
      "1034.2\n",
      "989.64\n",
      "20745.0\n",
      "163.25\n",
      "304.31\n",
      "1641.19\n",
      "1711.3\n",
      "2534.8\n",
      "517.62\n",
      "56.01\n",
      "75.64\n",
      "6437.08\n",
      "188.52\n",
      "511.48\n",
      "183.81\n",
      "3695.39\n",
      "141.11\n",
      "Portfolio Value: 40930.34999999999\n"
     ]
    }
   ],
   "source": [
    "testy = 0\n",
    "for i in range(len(portfolio)):\n",
    "    print(portfolio[i]['value'])\n",
    "    testy += portfolio[i]['value']\n",
    "print(f'Portfolio Value: {testy}')"
   ]
  },
  {
   "cell_type": "code",
   "execution_count": null,
   "metadata": {},
   "outputs": [
    {
     "name": "stdout",
     "output_type": "stream",
     "text": [
      "0.0253\n",
      "0.0242\n",
      "0.5068\n",
      "0.004\n",
      "0.0074\n",
      "0.0401\n",
      "0.0418\n",
      "0.0619\n",
      "0.0126\n",
      "0.0014\n",
      "0.0018\n",
      "0.1573\n",
      "0.0046\n",
      "0.0125\n",
      "0.0045\n",
      "0.0903\n",
      "0.0034\n",
      "Portfolio Total Percent: 0.9998999999999999\n"
     ]
    }
   ],
   "source": [
    "testy2 = 0\n",
    "for i in range(len(portfolio)):\n",
    "    print(portfolio[i]['portfolio_percent'])\n",
    "    testy2 += portfolio[i]['portfolio_percent']\n",
    "print(f'Portfolio Total Percent: {testy2}')"
   ]
  },
  {
   "cell_type": "code",
   "execution_count": null,
   "metadata": {},
   "outputs": [
    {
     "data": {
      "text/plain": [
       "['Switzerland',\n",
       " nan,\n",
       " 'Germany',\n",
       " 'France',\n",
       " 'Netherlands',\n",
       " 'Spain',\n",
       " 'Italy',\n",
       " 'United Kingdom',\n",
       " 'Norway',\n",
       " 'United States',\n",
       " 'Ireland',\n",
       " 'Japan',\n",
       " 'Hong Kong',\n",
       " 'China',\n",
       " 'South Korea',\n",
       " 'Taiwan']"
      ]
     },
     "execution_count": 105,
     "metadata": {},
     "output_type": "execute_result"
    }
   ],
   "source": [
    "countries = []\n",
    "for i in range(len(stock_info)):\n",
    "    if stock_info['country'][i] not in countries:\n",
    "        countries.append(stock_info['country'][i])\n",
    "countries"
   ]
  },
  {
   "cell_type": "code",
   "execution_count": null,
   "metadata": {},
   "outputs": [
    {
     "data": {
      "text/plain": [
       "['CHF', 'EUR', 'USD', 'GBp', 'NOK', 'JPY', 'HKD', 'KRW', 'TWD']"
      ]
     },
     "execution_count": 106,
     "metadata": {},
     "output_type": "execute_result"
    }
   ],
   "source": [
    "currencies = []\n",
    "for i in range(len(stock_info)):\n",
    "    if stock_info['currency'][i] not in currencies:\n",
    "        currencies.append(stock_info['currency'][i])\n",
    "currencies"
   ]
  },
  {
   "cell_type": "code",
   "execution_count": null,
   "metadata": {},
   "outputs": [],
   "source": [
    "europe_countries = ['Germany', 'France', 'Netherlands', 'Spain', 'Italy', 'United Kingdom', 'Norway', 'Ireland']\n",
    "asia_stocks = ['Japan', 'Hong Kong', 'China', 'South Korea', 'Taiwan']"
   ]
  },
  {
   "cell_type": "code",
   "execution_count": null,
   "metadata": {},
   "outputs": [
    {
     "data": {
      "text/plain": [
       "24                                      Georg Fischer AG\n",
       "75     Compagnie Générale des Établissements Michelin...\n",
       "110    UBS (Lux) Fund Solutions – MSCI Emerging Marke...\n",
       "111      UBS (Lux) Fund Solutions – MSCI Japan UCITS ETF\n",
       "Name: longName, dtype: object"
      ]
     },
     "execution_count": 73,
     "metadata": {},
     "output_type": "execute_result"
    }
   ],
   "source": [
    "# Titel ohne country\n",
    "stock_info[stock_info['country'].isna()]['longName']"
   ]
  },
  {
   "cell_type": "code",
   "execution_count": null,
   "metadata": {},
   "outputs": [
    {
     "data": {
      "text/plain": [
       "24     CH1169151003\n",
       "75     FR001400AJ45\n",
       "110    LU0480132876\n",
       "111    LU1169822779\n",
       "Name: isin, dtype: object"
      ]
     },
     "execution_count": 84,
     "metadata": {},
     "output_type": "execute_result"
    }
   ],
   "source": [
    "stock_info[stock_info['sector'].isna()]['isin']"
   ]
  },
  {
   "cell_type": "code",
   "execution_count": null,
   "metadata": {},
   "outputs": [
    {
     "data": {
      "text/plain": [
       "Series([], Name: longName, dtype: object)"
      ]
     },
     "execution_count": 80,
     "metadata": {},
     "output_type": "execute_result"
    }
   ],
   "source": [
    "stock_info[stock_info['previousClose'].isna()]['longName']"
   ]
  },
  {
   "cell_type": "code",
   "execution_count": null,
   "metadata": {},
   "outputs": [
    {
     "data": {
      "text/plain": [
       "24                                      Georg Fischer AG\n",
       "75     Compagnie Générale des Établissements Michelin...\n",
       "110    UBS (Lux) Fund Solutions – MSCI Emerging Marke...\n",
       "111      UBS (Lux) Fund Solutions – MSCI Japan UCITS ETF\n",
       "Name: longName, dtype: object"
      ]
     },
     "execution_count": 83,
     "metadata": {},
     "output_type": "execute_result"
    }
   ],
   "source": [
    "stock_info[stock_info['industry'].isna()]['longName']"
   ]
  },
  {
   "cell_type": "code",
   "execution_count": null,
   "metadata": {},
   "outputs": [
    {
     "data": {
      "text/plain": [
       "24    NaN\n",
       "75    NaN\n",
       "110   NaN\n",
       "111   NaN\n",
       "Name: dividendYield, dtype: float64"
      ]
     },
     "execution_count": 94,
     "metadata": {},
     "output_type": "execute_result"
    }
   ],
   "source": [
    "stock_info[stock_info['industry'].isna()]['dividendYield']"
   ]
  },
  {
   "cell_type": "code",
   "execution_count": null,
   "metadata": {},
   "outputs": [
    {
     "data": {
      "text/html": [
       "<div>\n",
       "<style scoped>\n",
       "    .dataframe tbody tr th:only-of-type {\n",
       "        vertical-align: middle;\n",
       "    }\n",
       "\n",
       "    .dataframe tbody tr th {\n",
       "        vertical-align: top;\n",
       "    }\n",
       "\n",
       "    .dataframe thead th {\n",
       "        text-align: right;\n",
       "    }\n",
       "</style>\n",
       "<table border=\"1\" class=\"dataframe\">\n",
       "  <thead>\n",
       "    <tr style=\"text-align: right;\">\n",
       "      <th></th>\n",
       "      <th>dividendYield</th>\n",
       "    </tr>\n",
       "  </thead>\n",
       "  <tbody>\n",
       "    <tr>\n",
       "      <th>8</th>\n",
       "      <td>0.0286</td>\n",
       "    </tr>\n",
       "  </tbody>\n",
       "</table>\n",
       "</div>"
      ],
      "text/plain": [
       "   dividendYield\n",
       "8         0.0286"
      ]
     },
     "execution_count": 99,
     "metadata": {},
     "output_type": "execute_result"
    }
   ],
   "source": [
    "stock_info.loc[stock_info['isin'] == 'CH0038863350', ['dividendYield']]"
   ]
  },
  {
   "cell_type": "code",
   "execution_count": null,
   "metadata": {},
   "outputs": [
    {
     "data": {
      "text/html": [
       "<div>\n",
       "<style scoped>\n",
       "    .dataframe tbody tr th:only-of-type {\n",
       "        vertical-align: middle;\n",
       "    }\n",
       "\n",
       "    .dataframe tbody tr th {\n",
       "        vertical-align: top;\n",
       "    }\n",
       "\n",
       "    .dataframe thead th {\n",
       "        text-align: right;\n",
       "    }\n",
       "</style>\n",
       "<table border=\"1\" class=\"dataframe\">\n",
       "  <thead>\n",
       "    <tr style=\"text-align: right;\">\n",
       "      <th></th>\n",
       "      <th>isin</th>\n",
       "      <th>longName</th>\n",
       "      <th>previousClose</th>\n",
       "      <th>sector</th>\n",
       "    </tr>\n",
       "  </thead>\n",
       "  <tbody>\n",
       "    <tr>\n",
       "      <th>8</th>\n",
       "      <td>CH0038863350</td>\n",
       "      <td>Nestlé S.A.</td>\n",
       "      <td>103.42</td>\n",
       "      <td>Consumer Defensive</td>\n",
       "    </tr>\n",
       "  </tbody>\n",
       "</table>\n",
       "</div>"
      ],
      "text/plain": [
       "           isin     longName  previousClose              sector\n",
       "8  CH0038863350  Nestlé S.A.         103.42  Consumer Defensive"
      ]
     },
     "execution_count": 61,
     "metadata": {},
     "output_type": "execute_result"
    }
   ],
   "source": [
    "nesn_data = stock_info.loc[stock_info['isin'] == 'CH0038863350', ['isin', 'longName', 'previousClose', 'sector']]\n",
    "nesn_data\n"
   ]
  },
  {
   "cell_type": "code",
   "execution_count": null,
   "metadata": {},
   "outputs": [
    {
     "data": {
      "text/html": [
       "<div>\n",
       "<style scoped>\n",
       "    .dataframe tbody tr th:only-of-type {\n",
       "        vertical-align: middle;\n",
       "    }\n",
       "\n",
       "    .dataframe tbody tr th {\n",
       "        vertical-align: top;\n",
       "    }\n",
       "\n",
       "    .dataframe thead th {\n",
       "        text-align: right;\n",
       "    }\n",
       "</style>\n",
       "<table border=\"1\" class=\"dataframe\">\n",
       "  <thead>\n",
       "    <tr style=\"text-align: right;\">\n",
       "      <th></th>\n",
       "      <th>address1</th>\n",
       "      <th>city</th>\n",
       "      <th>zip</th>\n",
       "      <th>country</th>\n",
       "      <th>phone</th>\n",
       "      <th>fax</th>\n",
       "      <th>website</th>\n",
       "      <th>industry</th>\n",
       "      <th>industryKey</th>\n",
       "      <th>industryDisp</th>\n",
       "      <th>...</th>\n",
       "      <th>shortPercentOfFloat</th>\n",
       "      <th>totalAssets</th>\n",
       "      <th>navPrice</th>\n",
       "      <th>beta3Year</th>\n",
       "      <th>fundFamily</th>\n",
       "      <th>fundInceptionDate</th>\n",
       "      <th>legalType</th>\n",
       "      <th>yield</th>\n",
       "      <th>ytdReturn</th>\n",
       "      <th>threeYearAverageReturn</th>\n",
       "    </tr>\n",
       "  </thead>\n",
       "  <tbody>\n",
       "    <tr>\n",
       "      <th>8</th>\n",
       "      <td>avenue NestlE 55</td>\n",
       "      <td>Vevey</td>\n",
       "      <td>1800</td>\n",
       "      <td>Switzerland</td>\n",
       "      <td>41 21 924 11 11</td>\n",
       "      <td>NaN</td>\n",
       "      <td>https://www.nestle.com</td>\n",
       "      <td>Packaged Foods</td>\n",
       "      <td>packaged-foods</td>\n",
       "      <td>Packaged Foods</td>\n",
       "      <td>...</td>\n",
       "      <td>NaN</td>\n",
       "      <td>NaN</td>\n",
       "      <td>NaN</td>\n",
       "      <td>NaN</td>\n",
       "      <td>NaN</td>\n",
       "      <td>NaN</td>\n",
       "      <td>NaN</td>\n",
       "      <td>NaN</td>\n",
       "      <td>NaN</td>\n",
       "      <td>NaN</td>\n",
       "    </tr>\n",
       "  </tbody>\n",
       "</table>\n",
       "<p>1 rows × 146 columns</p>\n",
       "</div>"
      ],
      "text/plain": [
       "           address1   city   zip      country            phone  fax  \\\n",
       "8  avenue NestlE 55  Vevey  1800  Switzerland  41 21 924 11 11  NaN   \n",
       "\n",
       "                  website        industry     industryKey    industryDisp  \\\n",
       "8  https://www.nestle.com  Packaged Foods  packaged-foods  Packaged Foods   \n",
       "\n",
       "   ... shortPercentOfFloat totalAssets navPrice beta3Year  fundFamily  \\\n",
       "8  ...                 NaN         NaN      NaN       NaN         NaN   \n",
       "\n",
       "  fundInceptionDate  legalType  yield  ytdReturn  threeYearAverageReturn  \n",
       "8               NaN        NaN    NaN        NaN                     NaN  \n",
       "\n",
       "[1 rows x 146 columns]"
      ]
     },
     "execution_count": 159,
     "metadata": {},
     "output_type": "execute_result"
    }
   ],
   "source": [
    "info = stock_info.loc[stock_info['isin'] == portfolio[0]['isin']]\n",
    "info"
   ]
  },
  {
   "cell_type": "markdown",
   "metadata": {},
   "source": [
    "Klasse: investor\n",
    "Attribut:\n",
    "portfolio isch s dictionary mit beliebig viel key:value paar wo sind ISIN:Anzahl_Aktien (CH0038863350:1400) <-- er het 1400x nestlé aktia\n",
    "bad_stocks: a lista mit allna aktia wo de CIO uf \"SELL\" het (warnig für da user, dass er dia söll wegtua)\n",
    "market_allocation isch s dictionary mit da vier märkt als key und deren %-Anteil als Value (Europe:20%)\n",
    "sector_allocation: same, aber mit industriesektora (Tech:8%)\n",
    "investor_type: uswahl vo eina vo da drei muster-allokationa (Swiss-Bias, Swiss-Global, Global)\n",
    "market_allocation_difference: dictionary wo d unterschied zwüschet de allocation vom investor und de muster-allokation drin isch (investor het 5% USA und s muster het 35% USA -->  USA:-30%)\n",
    "sector_allocation_difference: same mit sektora\n",
    "Funktiona:\n",
    "calculate_allocation: berechnig vo de market_allocation und de sector_allocation anhand vo sinem portfolio\n",
    "calculate_allocation_differences: berechnig vo market_allocation_difference und sector_allocation_difference\n",
    "find_bad_stocks: im portfolio d aktia ablicha mit de CIO lista vo \"SELL\" aktia, und wenn ma eini findet schribt ma sie in bad_stocks lista\n",
    "buy(ISIN, Anzahl): a aktia ins portfolio kaufa\n",
    "random_portfolio: portfolio fülla mit ca. 15-25 Aktia, jewiils 15'000 bis 150'000 Franka. ich glaub es söll sich a chli am investor_type usrichta, aber dörf ruhig recht random sii macht eifach das 15-25x:    random aktia ussuacha, random betrag bestimma (15-150k), betrag//(Wert vo 1 Aktia) <-- ganzzahldivision, wia viel stück ma kauft, funktion buy(ISIN, Anzahl) ufrüafa\n",
    "write_JSON: pack d dictionaries in es JSON (fürs frontend) (bearbeitet)"
   ]
  }
 ],
 "metadata": {
  "kernelspec": {
   "display_name": "Pycharm",
   "language": "python",
   "name": "python3"
  },
  "language_info": {
   "codemirror_mode": {
    "name": "ipython",
    "version": 3
   },
   "file_extension": ".py",
   "mimetype": "text/x-python",
   "name": "python",
   "nbconvert_exporter": "python",
   "pygments_lexer": "ipython3",
   "version": "3.10.13"
  },
  "orig_nbformat": 4
 },
 "nbformat": 4,
 "nbformat_minor": 2
}
