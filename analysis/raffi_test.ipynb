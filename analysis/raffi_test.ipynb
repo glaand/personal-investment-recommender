{
 "cells": [
  {
   "cell_type": "code",
   "execution_count": 118,
   "metadata": {},
   "outputs": [],
   "source": [
    "import yfinance as yf\n",
    "import random\n",
    "import json\n",
    "import pandas as pd\n"
   ]
  },
  {
   "cell_type": "code",
   "execution_count": 119,
   "metadata": {},
   "outputs": [
    {
     "name": "stdout",
     "output_type": "stream",
     "text": [
      "{'address1': 'One Apple Park Way', 'city': 'Cupertino', 'state': 'CA', 'zip': '95014', 'country': 'United States', 'phone': '408 996 1010', 'website': 'https://www.apple.com', 'industry': 'Consumer Electronics', 'industryKey': 'consumer-electronics', 'industryDisp': 'Consumer Electronics', 'sector': 'Technology', 'sectorKey': 'technology', 'sectorDisp': 'Technology', 'longBusinessSummary': 'Apple Inc. designs, manufactures, and markets smartphones, personal computers, tablets, wearables, and accessories worldwide. The company offers iPhone, a line of smartphones; Mac, a line of personal computers; iPad, a line of multi-purpose tablets; and wearables, home, and accessories comprising AirPods, Apple TV, Apple Watch, Beats products, and HomePod. It also provides AppleCare support and cloud services; and operates various platforms, including the App Store that allow customers to discover and download applications and digital content, such as books, music, video, games, and podcasts. In addition, the company offers various services, such as Apple Arcade, a game subscription service; Apple Fitness+, a personalized fitness service; Apple Music, which offers users a curated listening experience with on-demand radio stations; Apple News+, a subscription news and magazine service; Apple TV+, which offers exclusive original content; Apple Card, a co-branded credit card; and Apple Pay, a cashless payment service, as well as licenses its intellectual property. The company serves consumers, and small and mid-sized businesses; and the education, enterprise, and government markets. It distributes third-party applications for its products through the App Store. The company also sells its products through its retail and online stores, and direct sales force; and third-party cellular network carriers, wholesalers, retailers, and resellers. Apple Inc. was incorporated in 1977 and is headquartered in Cupertino, California.', 'fullTimeEmployees': 164000, 'companyOfficers': [{'maxAge': 1, 'name': 'Mr. Timothy D. Cook', 'age': 61, 'title': 'CEO & Director', 'yearBorn': 1961, 'fiscalYear': 2022, 'totalPay': 16425933, 'exercisedValue': 0, 'unexercisedValue': 0}, {'maxAge': 1, 'name': 'Mr. Luca  Maestri', 'age': 59, 'title': 'CFO & Senior VP', 'yearBorn': 1963, 'fiscalYear': 2022, 'totalPay': 5019783, 'exercisedValue': 0, 'unexercisedValue': 0}, {'maxAge': 1, 'name': 'Mr. Jeffrey E. Williams', 'age': 58, 'title': 'Chief Operating Officer', 'yearBorn': 1964, 'fiscalYear': 2022, 'totalPay': 5018337, 'exercisedValue': 0, 'unexercisedValue': 0}, {'maxAge': 1, 'name': 'Ms. Katherine L. Adams', 'age': 58, 'title': 'Senior VP, General Counsel & Secretary', 'yearBorn': 1964, 'fiscalYear': 2022, 'totalPay': 5015208, 'exercisedValue': 0, 'unexercisedValue': 0}, {'maxAge': 1, 'name': \"Ms. Deirdre  O'Brien\", 'age': 55, 'title': 'Senior Vice President of Retail', 'yearBorn': 1967, 'fiscalYear': 2022, 'totalPay': 5019783, 'exercisedValue': 0, 'unexercisedValue': 0}, {'maxAge': 1, 'name': 'Mr. Chris  Kondo', 'title': 'Senior Director of Corporate Accounting', 'fiscalYear': 2022, 'exercisedValue': 0, 'unexercisedValue': 0}, {'maxAge': 1, 'name': 'Mr. James  Wilson', 'title': 'Chief Technology Officer', 'fiscalYear': 2022, 'exercisedValue': 0, 'unexercisedValue': 0}, {'maxAge': 1, 'name': 'Ms. Mary  Demby', 'title': 'Chief Information Officer', 'fiscalYear': 2022, 'exercisedValue': 0, 'unexercisedValue': 0}, {'maxAge': 1, 'name': 'Ms. Nancy  Paxton', 'title': 'Senior Director of Investor Relations & Treasury', 'fiscalYear': 2022, 'exercisedValue': 0, 'unexercisedValue': 0}, {'maxAge': 1, 'name': 'Mr. Greg  Joswiak', 'title': 'Senior Vice President of Worldwide Marketing', 'fiscalYear': 2022, 'exercisedValue': 0, 'unexercisedValue': 0}], 'auditRisk': 4, 'boardRisk': 1, 'compensationRisk': 5, 'shareHolderRightsRisk': 1, 'overallRisk': 1, 'governanceEpochDate': 1696118400, 'compensationAsOfEpochDate': 1672444800, 'maxAge': 86400, 'priceHint': 2, 'previousClose': 178.72, 'open': 176.645, 'dayLow': 174.8, 'dayHigh': 178.42, 'regularMarketPreviousClose': 178.72, 'regularMarketOpen': 176.645, 'regularMarketDayLow': 174.8, 'regularMarketDayHigh': 178.42, 'dividendRate': 0.96, 'dividendYield': 0.0054, 'exDividendDate': 1691712000, 'payoutRatio': 0.156, 'fiveYearAvgDividendYield': 0.85, 'beta': 1.308, 'trailingPE': 29.77311, 'forwardPE': 28.434992, 'volume': 55881270, 'regularMarketVolume': 55881270, 'averageVolume': 58579918, 'averageVolume10days': 51061480, 'averageDailyVolume10Day': 51061480, 'bid': 175.72, 'ask': 0.0, 'bidSize': 900, 'askSize': 1000, 'marketCap': 2769598283776, 'fiftyTwoWeekLow': 124.17, 'fiftyTwoWeekHigh': 198.23, 'priceToSalesTrailing12Months': 7.213754, 'fiftyDayAverage': 177.792, 'twoHundredDayAverage': 168.79825, 'trailingAnnualDividendRate': 0.93, 'trailingAnnualDividendYield': 0.0052036704, 'currency': 'USD', 'enterpriseValue': 2816402259968, 'profitMargins': 0.24681, 'floatShares': 15617034345, 'sharesOutstanding': 15634199552, 'sharesShort': 94725628, 'sharesShortPriorMonth': 102091714, 'sharesShortPreviousMonthDate': 1693440000, 'dateShortInterest': 1695945600, 'sharesPercentSharesOut': 0.0061000003, 'heldPercentInsiders': 0.00071999995, 'heldPercentInstitutions': 0.61317, 'shortRatio': 1.44, 'shortPercentOfFloat': 0.0061000003, 'impliedSharesOutstanding': 15634199552, 'bookValue': 3.852, 'priceToBook': 45.989094, 'lastFiscalYearEnd': 1663977600, 'nextFiscalYearEnd': 1695513600, 'mostRecentQuarter': 1688169600, 'earningsQuarterlyGrowth': 0.023, 'netIncomeToCommon': 94760001536, 'trailingEps': 5.95, 'forwardEps': 6.23, 'pegRatio': 4.41, 'lastSplitFactor': '4:1', 'lastSplitDate': 1598832000, 'enterpriseToRevenue': 7.336, 'enterpriseToEbitda': 22.721, '52WeekChange': 0.2314055, 'SandP52WeekChange': 0.18349409, 'lastDividendValue': 0.24, 'lastDividendDate': 1691712000, 'exchange': 'NMS', 'quoteType': 'EQUITY', 'symbol': 'AAPL', 'underlyingSymbol': 'AAPL', 'shortName': 'Apple Inc.', 'longName': 'Apple Inc.', 'firstTradeDateEpochUtc': 345479400, 'timeZoneFullName': 'America/New_York', 'timeZoneShortName': 'EDT', 'uuid': '8b10e4ae-9eeb-3684-921a-9ab27e4d87aa', 'messageBoardId': 'finmb_24937', 'gmtOffSetMilliseconds': -14400000, 'currentPrice': 177.15, 'targetHighPrice': 228.1, 'targetLowPrice': 141.61, 'targetMeanPrice': 189.53, 'targetMedianPrice': 190.09, 'recommendationMean': 2.0, 'recommendationKey': 'buy', 'numberOfAnalystOpinions': 36, 'totalCash': 62482001920, 'totalCashPerShare': 3.996, 'ebitda': 123957002240, 'totalDebt': 109280002048, 'quickRatio': 0.814, 'currentRatio': 0.982, 'totalRevenue': 383932989440, 'debtToEquity': 181.305, 'revenuePerShare': 24.22, 'returnOnAssets': 0.20896, 'returnOnEquity': 1.60093, 'grossProfits': 170782000000, 'freeCashflow': 90680500224, 'operatingCashflow': 113071996928, 'earningsGrowth': 0.05, 'revenueGrowth': -0.014, 'grossMargins': 0.43449003, 'ebitdaMargins': 0.32286, 'operatingMargins': 0.28116, 'financialCurrency': 'USD', 'trailingPegRatio': 2.2666}\n"
     ]
    }
   ],
   "source": [
    "# ISIN für Apple Inc.\n",
    "isin = \"US0378331005\"\n",
    "\n",
    "# Das Tickersymbol für die ISIN abrufen\n",
    "ticker = yf.Ticker(isin)\n",
    "\n",
    "# Das Tickersymbol anzeigen\n",
    "# print(ticker.info['industry'])\n",
    "print(ticker.info)"
   ]
  },
  {
   "cell_type": "code",
   "execution_count": 86,
   "metadata": {},
   "outputs": [],
   "source": [
    "class Investor:\n",
    "    # Klassenattribute\n",
    "\n",
    "    def __init__(self, id:int, name, portfolio, investor_type):\n",
    "        # Instanzattribute\n",
    "        self._id = id\n",
    "        self._name = name\n",
    "        self._portfolio = portfolio\n",
    "        self._investor_type = investor_type\n",
    "        self._bad_stocks = []\n",
    "        self._bulk_risks = []\n",
    "        self._market_allocation = 0\n",
    "        self._sector_allocation = 0\n",
    "        self._market_allocation_difference = 0\n",
    "        self._sector_allocation_difference = 0\n",
    "\n",
    "    # Methoden\n",
    "    def get_name(self):\n",
    "        return f\"Investor's name is {self._name}.\"\n",
    "        \n",
    "    def calculate_allocation(self):\n",
    "        pass\n",
    "\n",
    "    def calculate_allocation_difference(self):\n",
    "        pass\n",
    "\n",
    "    def find_bad_stocks(self):\n",
    "        pass\n",
    "\n",
    "    def find_bulk_risks(self):\n",
    "        pass\n",
    "\n",
    "    def buy(self, isin, amount):\n",
    "        pass\n",
    "\n",
    "    def random_portfolio(self):\n",
    "        pass\n",
    "\n",
    "    def write_JSON(self):\n",
    "        pass\n",
    "\n",
    "    def __str__(self) -> str:\n",
    "        return f\"Investor's name is {self._name}.\"\n",
    "    \n",
    "    def __repr__(self):\n",
    "        return f\"{self._name}\""
   ]
  },
  {
   "cell_type": "code",
   "execution_count": 198,
   "metadata": {},
   "outputs": [
    {
     "data": {
      "text/plain": [
       "[John Doe]"
      ]
     },
     "execution_count": 198,
     "metadata": {},
     "output_type": "execute_result"
    }
   ],
   "source": [
    "# Random Investor\n",
    "investors = []\n",
    "\n",
    "def random_investor():\n",
    "    rand_id = ''\n",
    "    for i in range(6):\n",
    "        rand_id+=(str(random.randint(0,9)))\n",
    "    \n",
    "    name = \"John Doe\"\n",
    "    empty_portfolio = []\n",
    "\n",
    "    investors.append(Investor(rand_id, name, empty_portfolio, \"swiss_bias\"))\n",
    "\n",
    "random_investor()\n",
    "investors\n"
   ]
  },
  {
   "cell_type": "code",
   "execution_count": 103,
   "metadata": {},
   "outputs": [
    {
     "data": {
      "text/plain": [
       "'443632'"
      ]
     },
     "execution_count": 103,
     "metadata": {},
     "output_type": "execute_result"
    }
   ],
   "source": [
    "investors[0]._bad_stocks\n",
    "investors[0]._id"
   ]
  },
  {
   "cell_type": "code",
   "execution_count": 113,
   "metadata": {},
   "outputs": [
    {
     "name": "stdout",
     "output_type": "stream",
     "text": [
      "Type: <class 'dict'>\n"
     ]
    }
   ],
   "source": [
    "# referenz-allokation laden\n",
    "profile = 'swiss-bias'\n",
    "with open(f'..\\data\\profile_{profile}.json') as json_file:\n",
    "    reference_allocation = json.load(json_file)\n",
    "    print(\"Type:\", type(reference_allocation))"
   ]
  },
  {
   "cell_type": "code",
   "execution_count": 114,
   "metadata": {},
   "outputs": [
    {
     "name": "stdout",
     "output_type": "stream",
     "text": [
      "{'name': 'Swiss-Bias Investor', 'markets': {'USA': 0.15, 'Europe': 0.1, 'Switzerland': 0.7, 'Asia & EM': 0.05}, 'sectors': {'Financial Services': 0.18, 'Technology': 0.08, 'Industrials': 0.15, 'Energy': 0.02, 'Healthcare': 0.25, 'Consumer Defensive': 0.15, 'Consumer Cyclical': 0.08, 'Basic Materials': 0.05, 'Real Estate': 0.0, 'Communication Services': 0.02, 'Utilities': 0.02}}\n"
     ]
    }
   ],
   "source": [
    "print(reference_allocation)"
   ]
  },
  {
   "cell_type": "code",
   "execution_count": 115,
   "metadata": {},
   "outputs": [
    {
     "name": "stdout",
     "output_type": "stream",
     "text": [
      "Type: <class 'dict'>\n"
     ]
    }
   ],
   "source": [
    "# json-file laden\n",
    "with open(f'..\\data\\dummy_portfolio.json') as json_file:\n",
    "    dummy_portfolio = json.load(json_file)\n",
    "    print(\"Type:\", type(dummy_portfolio))"
   ]
  },
  {
   "cell_type": "code",
   "execution_count": 116,
   "metadata": {},
   "outputs": [
    {
     "name": "stdout",
     "output_type": "stream",
     "text": [
      "{'id': 1, 'name': 'John Doe', 'investor_type': 'Swiss-Bias', 'portfolio': [{'name': 'ABB', 'isin': 'CH0012221716', 'quantity': 10, 'price': 100}, {'name': 'Ralph Lauren', 'isin': 'US7512121010', 'quantity': 15, 'price': 200}], 'bad_stocks': [{'name': 'ABB', 'isin': 'CH0012221716', 'quantity': 10, 'price': 100}, {'name': 'Ralph Lauren', 'isin': 'US7512121010', 'quantity': 15, 'price': 200}], 'market_allocation': {'USA': 0.5, 'Europe': 0.0, 'Switzerland': 0.5, 'Asia & EM': 0.0}, 'sector_allocation': {'Financial Services': 0.01, 'Technology': 0.01, 'Industrials': 0.01, 'Energy': 0.01, 'Healthcare': 0.01, 'Consumer Defensive': 0.01, 'Consumer Cyclical': 0.01, 'Basic Materials': 0.01, 'Real Estate': 0.01, 'Communication Services': 0.01, 'Utilities': 0.01}, 'market_allocation_difference': {'USA': 0.35, 'Europe': -0.1, 'Switzerland': -0.2, 'Asia & EM': -0.05}, 'sector_allocation_difference': {'Financial Services': -0.17, 'Technology': -0.07, 'Industrials': -0.14, 'Energy': -0.01, 'Healthcare': -0.24, 'Consumer Defensive': -0.14, 'Consumer Cyclical': -0.07, 'Basic Materials': -0.04, 'Real Estate': 0.01, 'Communication Services': -0.01, 'Utilities': -0.01}}\n"
     ]
    }
   ],
   "source": [
    "print(dummy_portfolio)"
   ]
  },
  {
   "cell_type": "code",
   "execution_count": 143,
   "metadata": {},
   "outputs": [
    {
     "data": {
      "text/plain": [
       "0      Electrical Equipment & Parts\n",
       "1    Medical Instruments & Supplies\n",
       "2     Building Products & Equipment\n",
       "3               Specialty Chemicals\n",
       "4                Building Materials\n",
       "5    Integrated Freight & Logistics\n",
       "6                 Computer Hardware\n",
       "7            Diagnostics & Research\n",
       "8                    Packaged Foods\n",
       "9      Drug Manufacturers - General\n",
       "Name: industry, dtype: object"
      ]
     },
     "execution_count": 143,
     "metadata": {},
     "output_type": "execute_result"
    }
   ],
   "source": [
    "# stock-info laden\n",
    "stock_info = pd.read_csv('..\\data\\stock_info.tsv', sep='\\t')\n",
    "# stock_info['isin'].head()\n",
    "stock_info['longName'].head()\n",
    "stock_info['industry'].head(10)"
   ]
  },
  {
   "cell_type": "code",
   "execution_count": 144,
   "metadata": {},
   "outputs": [
    {
     "name": "stdout",
     "output_type": "stream",
     "text": [
      "Index(['address1', 'city', 'zip', 'country', 'phone', 'fax', 'website',\n",
      "       'industry', 'industryKey', 'industryDisp',\n",
      "       ...\n",
      "       'shortPercentOfFloat', 'totalAssets', 'navPrice', 'beta3Year',\n",
      "       'fundFamily', 'fundInceptionDate', 'legalType', 'yield', 'ytdReturn',\n",
      "       'threeYearAverageReturn'],\n",
      "      dtype='object', length=146)\n"
     ]
    }
   ],
   "source": [
    "print(stock_info.columns)"
   ]
  },
  {
   "cell_type": "code",
   "execution_count": 185,
   "metadata": {},
   "outputs": [
    {
     "data": {
      "text/plain": [
       "[{'isin': 'CH0038863350', 'quantity': 10},\n",
       " {'isin': 'CH0012032048', 'quantity': 30},\n",
       " {'isin': 'US4581401001', 'quantity': 15}]"
      ]
     },
     "execution_count": 185,
     "metadata": {},
     "output_type": "execute_result"
    }
   ],
   "source": [
    "# test-portfolio\n",
    "portfolio = []\n",
    "isin_list = ['CH0038863350', 'CH0012032048', 'US4581401001']\n",
    "quantity_list = [10, 30, 15]\n",
    "\n",
    "for i in range(len(isin_list)):\n",
    "    portfolio.append({'isin':isin_list[i], 'quantity':quantity_list[i]})\n",
    "portfolio"
   ]
  },
  {
   "cell_type": "code",
   "execution_count": 197,
   "metadata": {},
   "outputs": [
    {
     "name": "stdout",
     "output_type": "stream",
     "text": [
      "9157.6\n",
      "[{'isin': 'CH0038863350', 'quantity': 10, 'name': 'Nestlé S.A.', 'price': 103.42, 'value': 1034.2, 'portfolio_percent': 0.1129, 'sector': 'Consumer Defensive'}, {'isin': 'CH0012032048', 'quantity': 30, 'name': 'Roche Holding AG', 'price': 252.5, 'value': 7575.0, 'portfolio_percent': 0.8272, 'sector': 'Healthcare'}, {'isin': 'US4581401001', 'quantity': 15, 'name': 'Intel Corporation', 'price': 36.56, 'value': 548.4000000000001, 'portfolio_percent': 0.0599, 'sector': 'Technology'}]\n"
     ]
    },
    {
     "data": {
      "text/plain": [
       "[{'isin': 'CH0038863350',\n",
       "  'quantity': 10,\n",
       "  'name': 'Nestlé S.A.',\n",
       "  'price': 103.42,\n",
       "  'value': 1034.2,\n",
       "  'portfolio_percent': 0.1129,\n",
       "  'sector': 'Consumer Defensive'},\n",
       " {'isin': 'CH0012032048',\n",
       "  'quantity': 30,\n",
       "  'name': 'Roche Holding AG',\n",
       "  'price': 252.5,\n",
       "  'value': 7575.0,\n",
       "  'portfolio_percent': 0.8272,\n",
       "  'sector': 'Healthcare'},\n",
       " {'isin': 'US4581401001',\n",
       "  'quantity': 15,\n",
       "  'name': 'Intel Corporation',\n",
       "  'price': 36.56,\n",
       "  'value': 548.4000000000001,\n",
       "  'portfolio_percent': 0.0599,\n",
       "  'sector': 'Technology'}]"
      ]
     },
     "execution_count": 197,
     "metadata": {},
     "output_type": "execute_result"
    }
   ],
   "source": [
    "# mit portfolio-positionen die daten aus stock-data holen für allokation\n",
    "portfolio_value = 0 # variable für gesamtwert des portfolios\n",
    "for position in portfolio:\n",
    "    # info = stock_info.loc[stock_info['isin'] == 'isin']\n",
    "    info = stock_info.loc[stock_info['isin'] == position['isin'], ['isin', 'longName', 'previousClose', 'country' , 'sector']] # zeile aus stock-info von dieser Aktie\n",
    "    position['name'] = info['longName'].values[0]\n",
    "    position['price'] = info['previousClose'].values[0]\n",
    "    position['value'] = position['quantity']*position['price']\n",
    "    portfolio_value += position['value']    # Portfoliowert aktualisieren\n",
    "    # position['country'] = info['country'].values[0]\n",
    "    position['sector'] = info['sector'].values[0]\n",
    "\n",
    "# Anteil am Portfoliowert für jede Position\n",
    "for position in portfolio:\n",
    "    position['portfolio_percent'] = round(position['value']/portfolio_value, 4)\n",
    "    \n",
    "print(portfolio_value)\n",
    "print(portfolio)\n",
    "portfolio"
   ]
  },
  {
   "cell_type": "code",
   "execution_count": null,
   "metadata": {},
   "outputs": [],
   "source": []
  },
  {
   "cell_type": "code",
   "execution_count": 169,
   "metadata": {},
   "outputs": [
    {
     "data": {
      "text/html": [
       "<div>\n",
       "<style scoped>\n",
       "    .dataframe tbody tr th:only-of-type {\n",
       "        vertical-align: middle;\n",
       "    }\n",
       "\n",
       "    .dataframe tbody tr th {\n",
       "        vertical-align: top;\n",
       "    }\n",
       "\n",
       "    .dataframe thead th {\n",
       "        text-align: right;\n",
       "    }\n",
       "</style>\n",
       "<table border=\"1\" class=\"dataframe\">\n",
       "  <thead>\n",
       "    <tr style=\"text-align: right;\">\n",
       "      <th></th>\n",
       "      <th>isin</th>\n",
       "      <th>longName</th>\n",
       "      <th>previousClose</th>\n",
       "      <th>sector</th>\n",
       "    </tr>\n",
       "  </thead>\n",
       "  <tbody>\n",
       "    <tr>\n",
       "      <th>8</th>\n",
       "      <td>CH0038863350</td>\n",
       "      <td>Nestlé S.A.</td>\n",
       "      <td>103.42</td>\n",
       "      <td>Consumer Defensive</td>\n",
       "    </tr>\n",
       "  </tbody>\n",
       "</table>\n",
       "</div>"
      ],
      "text/plain": [
       "           isin     longName  previousClose              sector\n",
       "8  CH0038863350  Nestlé S.A.         103.42  Consumer Defensive"
      ]
     },
     "execution_count": 169,
     "metadata": {},
     "output_type": "execute_result"
    }
   ],
   "source": [
    "nesn_data = stock_info.loc[stock_info['isin'] == 'CH0038863350', ['isin', 'longName', 'previousClose', 'sector']]\n",
    "nesn_data\n"
   ]
  },
  {
   "cell_type": "code",
   "execution_count": 159,
   "metadata": {},
   "outputs": [
    {
     "data": {
      "text/html": [
       "<div>\n",
       "<style scoped>\n",
       "    .dataframe tbody tr th:only-of-type {\n",
       "        vertical-align: middle;\n",
       "    }\n",
       "\n",
       "    .dataframe tbody tr th {\n",
       "        vertical-align: top;\n",
       "    }\n",
       "\n",
       "    .dataframe thead th {\n",
       "        text-align: right;\n",
       "    }\n",
       "</style>\n",
       "<table border=\"1\" class=\"dataframe\">\n",
       "  <thead>\n",
       "    <tr style=\"text-align: right;\">\n",
       "      <th></th>\n",
       "      <th>address1</th>\n",
       "      <th>city</th>\n",
       "      <th>zip</th>\n",
       "      <th>country</th>\n",
       "      <th>phone</th>\n",
       "      <th>fax</th>\n",
       "      <th>website</th>\n",
       "      <th>industry</th>\n",
       "      <th>industryKey</th>\n",
       "      <th>industryDisp</th>\n",
       "      <th>...</th>\n",
       "      <th>shortPercentOfFloat</th>\n",
       "      <th>totalAssets</th>\n",
       "      <th>navPrice</th>\n",
       "      <th>beta3Year</th>\n",
       "      <th>fundFamily</th>\n",
       "      <th>fundInceptionDate</th>\n",
       "      <th>legalType</th>\n",
       "      <th>yield</th>\n",
       "      <th>ytdReturn</th>\n",
       "      <th>threeYearAverageReturn</th>\n",
       "    </tr>\n",
       "  </thead>\n",
       "  <tbody>\n",
       "    <tr>\n",
       "      <th>8</th>\n",
       "      <td>avenue NestlE 55</td>\n",
       "      <td>Vevey</td>\n",
       "      <td>1800</td>\n",
       "      <td>Switzerland</td>\n",
       "      <td>41 21 924 11 11</td>\n",
       "      <td>NaN</td>\n",
       "      <td>https://www.nestle.com</td>\n",
       "      <td>Packaged Foods</td>\n",
       "      <td>packaged-foods</td>\n",
       "      <td>Packaged Foods</td>\n",
       "      <td>...</td>\n",
       "      <td>NaN</td>\n",
       "      <td>NaN</td>\n",
       "      <td>NaN</td>\n",
       "      <td>NaN</td>\n",
       "      <td>NaN</td>\n",
       "      <td>NaN</td>\n",
       "      <td>NaN</td>\n",
       "      <td>NaN</td>\n",
       "      <td>NaN</td>\n",
       "      <td>NaN</td>\n",
       "    </tr>\n",
       "  </tbody>\n",
       "</table>\n",
       "<p>1 rows × 146 columns</p>\n",
       "</div>"
      ],
      "text/plain": [
       "           address1   city   zip      country            phone  fax  \\\n",
       "8  avenue NestlE 55  Vevey  1800  Switzerland  41 21 924 11 11  NaN   \n",
       "\n",
       "                  website        industry     industryKey    industryDisp  \\\n",
       "8  https://www.nestle.com  Packaged Foods  packaged-foods  Packaged Foods   \n",
       "\n",
       "   ... shortPercentOfFloat totalAssets navPrice beta3Year  fundFamily  \\\n",
       "8  ...                 NaN         NaN      NaN       NaN         NaN   \n",
       "\n",
       "  fundInceptionDate  legalType  yield  ytdReturn  threeYearAverageReturn  \n",
       "8               NaN        NaN    NaN        NaN                     NaN  \n",
       "\n",
       "[1 rows x 146 columns]"
      ]
     },
     "execution_count": 159,
     "metadata": {},
     "output_type": "execute_result"
    }
   ],
   "source": [
    "info = stock_info.loc[stock_info['isin'] == portfolio[0]['isin']]\n",
    "info"
   ]
  },
  {
   "cell_type": "markdown",
   "metadata": {},
   "source": [
    "Klasse: investor\n",
    "Attribut:\n",
    "portfolio isch s dictionary mit beliebig viel key:value paar wo sind ISIN:Anzahl_Aktien (CH0038863350:1400) <-- er het 1400x nestlé aktia\n",
    "bad_stocks: a lista mit allna aktia wo de CIO uf \"SELL\" het (warnig für da user, dass er dia söll wegtua)\n",
    "market_allocation isch s dictionary mit da vier märkt als key und deren %-Anteil als Value (Europe:20%)\n",
    "sector_allocation: same, aber mit industriesektora (Tech:8%)\n",
    "investor_type: uswahl vo eina vo da drei muster-allokationa (Swiss-Bias, Swiss-Global, Global)\n",
    "market_allocation_difference: dictionary wo d unterschied zwüschet de allocation vom investor und de muster-allokation drin isch (investor het 5% USA und s muster het 35% USA -->  USA:-30%)\n",
    "sector_allocation_difference: same mit sektora\n",
    "Funktiona:\n",
    "calculate_allocation: berechnig vo de market_allocation und de sector_allocation anhand vo sinem portfolio\n",
    "calculate_allocation_differences: berechnig vo market_allocation_difference und sector_allocation_difference\n",
    "find_bad_stocks: im portfolio d aktia ablicha mit de CIO lista vo \"SELL\" aktia, und wenn ma eini findet schribt ma sie in bad_stocks lista\n",
    "buy(ISIN, Anzahl): a aktia ins portfolio kaufa\n",
    "random_portfolio: portfolio fülla mit ca. 15-25 Aktia, jewiils 15'000 bis 150'000 Franka. ich glaub es söll sich a chli am investor_type usrichta, aber dörf ruhig recht random sii macht eifach das 15-25x:    random aktia ussuacha, random betrag bestimma (15-150k), betrag//(Wert vo 1 Aktia) <-- ganzzahldivision, wia viel stück ma kauft, funktion buy(ISIN, Anzahl) ufrüafa\n",
    "write_JSON: pack d dictionaries in es JSON (fürs frontend) (bearbeitet)"
   ]
  }
 ],
 "metadata": {
  "kernelspec": {
   "display_name": "Pycharm",
   "language": "python",
   "name": "python3"
  },
  "language_info": {
   "codemirror_mode": {
    "name": "ipython",
    "version": 3
   },
   "file_extension": ".py",
   "mimetype": "text/x-python",
   "name": "python",
   "nbconvert_exporter": "python",
   "pygments_lexer": "ipython3",
   "version": "3.10.13"
  },
  "orig_nbformat": 4
 },
 "nbformat": 4,
 "nbformat_minor": 2
}
