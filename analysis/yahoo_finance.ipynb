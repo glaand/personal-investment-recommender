{
 "cells": [
  {
   "cell_type": "code",
   "execution_count": 1,
   "metadata": {},
   "outputs": [],
   "source": [
    "import numpy as np\n",
    "import pandas as pd "
   ]
  },
  {
   "cell_type": "code",
   "execution_count": 2,
   "metadata": {},
   "outputs": [],
   "source": [
    "df = pd.read_csv('../data/stock_info.tsv', sep='\\t')"
   ]
  },
  {
   "cell_type": "code",
   "execution_count": 3,
   "metadata": {},
   "outputs": [
    {
     "data": {
      "text/plain": [
       "industry\n",
       "Packaged Foods                    1\n",
       "Electrical Equipment & Parts      1\n",
       "Staffing & Employment Services    1\n",
       "Building Products & Equipment     1\n",
       "Insurance—Diversified             1\n",
       "Name: count, dtype: int64"
      ]
     },
     "execution_count": 3,
     "metadata": {},
     "output_type": "execute_result"
    }
   ],
   "source": [
    "df['industry'].value_counts()"
   ]
  },
  {
   "cell_type": "code",
   "execution_count": 7,
   "metadata": {},
   "outputs": [
    {
     "name": "stdout",
     "output_type": "stream",
     "text": [
      "address1\n",
      "city\n",
      "zip\n",
      "country\n",
      "phone\n",
      "website\n",
      "industry\n",
      "industryDisp\n",
      "sector\n",
      "sectorDisp\n",
      "longBusinessSummary\n",
      "fullTimeEmployees\n",
      "companyOfficers\n",
      "auditRisk\n",
      "boardRisk\n",
      "compensationRisk\n",
      "shareHolderRightsRisk\n",
      "overallRisk\n",
      "governanceEpochDate\n",
      "compensationAsOfEpochDate\n",
      "maxAge\n",
      "priceHint\n",
      "previousClose\n",
      "open\n",
      "dayLow\n",
      "dayHigh\n",
      "regularMarketPreviousClose\n",
      "regularMarketOpen\n",
      "regularMarketDayLow\n",
      "regularMarketDayHigh\n",
      "dividendRate\n",
      "dividendYield\n",
      "exDividendDate\n",
      "payoutRatio\n",
      "fiveYearAvgDividendYield\n",
      "beta\n",
      "trailingPE\n",
      "forwardPE\n",
      "volume\n",
      "regularMarketVolume\n",
      "averageVolume\n",
      "averageVolume10days\n",
      "averageDailyVolume10Day\n",
      "bid\n",
      "ask\n",
      "bidSize\n",
      "askSize\n",
      "marketCap\n",
      "fiftyTwoWeekLow\n",
      "fiftyTwoWeekHigh\n",
      "priceToSalesTrailing12Months\n",
      "fiftyDayAverage\n",
      "twoHundredDayAverage\n",
      "trailingAnnualDividendRate\n",
      "trailingAnnualDividendYield\n",
      "currency\n",
      "enterpriseValue\n",
      "profitMargins\n",
      "floatShares\n",
      "sharesOutstanding\n",
      "heldPercentInsiders\n",
      "heldPercentInstitutions\n",
      "impliedSharesOutstanding\n",
      "bookValue\n",
      "priceToBook\n",
      "lastFiscalYearEnd\n",
      "nextFiscalYearEnd\n",
      "mostRecentQuarter\n",
      "earningsQuarterlyGrowth\n",
      "netIncomeToCommon\n",
      "trailingEps\n",
      "forwardEps\n",
      "pegRatio\n",
      "lastSplitFactor\n",
      "lastSplitDate\n",
      "enterpriseToRevenue\n",
      "enterpriseToEbitda\n",
      "52WeekChange\n",
      "SandP52WeekChange\n",
      "lastDividendValue\n",
      "lastDividendDate\n",
      "exchange\n",
      "quoteType\n",
      "symbol\n",
      "underlyingSymbol\n",
      "shortName\n",
      "longName\n",
      "firstTradeDateEpochUtc\n",
      "timeZoneFullName\n",
      "timeZoneShortName\n",
      "uuid\n",
      "messageBoardId\n",
      "gmtOffSetMilliseconds\n",
      "currentPrice\n",
      "targetHighPrice\n",
      "targetLowPrice\n",
      "targetMeanPrice\n",
      "targetMedianPrice\n",
      "recommendationMean\n",
      "recommendationKey\n",
      "numberOfAnalystOpinions\n",
      "totalCash\n",
      "totalCashPerShare\n",
      "ebitda\n",
      "totalDebt\n",
      "quickRatio\n",
      "currentRatio\n",
      "totalRevenue\n",
      "debtToEquity\n",
      "revenuePerShare\n",
      "returnOnAssets\n",
      "returnOnEquity\n",
      "grossProfits\n",
      "freeCashflow\n",
      "operatingCashflow\n",
      "earningsGrowth\n",
      "revenueGrowth\n",
      "grossMargins\n",
      "ebitdaMargins\n",
      "operatingMargins\n",
      "financialCurrency\n",
      "trailingPegRatio\n",
      "Volatility\n",
      "Annual Volatility\n",
      "ISIN\n",
      "fax\n"
     ]
    }
   ],
   "source": [
    "for col in df.columns:\n",
    "    print(col)"
   ]
  }
 ],
 "metadata": {
  "kernelspec": {
   "display_name": "finance",
   "language": "python",
   "name": "python3"
  },
  "language_info": {
   "codemirror_mode": {
    "name": "ipython",
    "version": 3
   },
   "file_extension": ".py",
   "mimetype": "text/x-python",
   "name": "python",
   "nbconvert_exporter": "python",
   "pygments_lexer": "ipython3",
   "version": "3.10.12"
  }
 },
 "nbformat": 4,
 "nbformat_minor": 2
}
