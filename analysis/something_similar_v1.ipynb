{
 "cells": [
  {
   "cell_type": "code",
   "execution_count": 11,
   "metadata": {},
   "outputs": [],
   "source": [
    "import json\n",
    "import pandas as pd\n",
    "import numpy as np\n",
    "from sklearn.feature_extraction.text import TfidfVectorizer\n",
    "from sklearn.metrics.pairwise import cosine_similarity"
   ]
  },
  {
   "cell_type": "code",
   "execution_count": 12,
   "metadata": {},
   "outputs": [],
   "source": [
    "stock_info = pd.read_csv('../data/stock_info.tsv', sep='\\t')"
   ]
  },
  {
   "cell_type": "code",
   "execution_count": 13,
   "metadata": {},
   "outputs": [
    {
     "data": {
      "text/plain": [
       "Index(['address1', 'city', 'zip', 'country', 'phone', 'fax', 'website',\n",
       "       'industry', 'industryKey', 'industryDisp',\n",
       "       ...\n",
       "       'shortPercentOfFloat', 'totalAssets', 'navPrice', 'beta3Year',\n",
       "       'fundFamily', 'fundInceptionDate', 'legalType', 'yield', 'ytdReturn',\n",
       "       'threeYearAverageReturn'],\n",
       "      dtype='object', length=146)"
      ]
     },
     "execution_count": 13,
     "metadata": {},
     "output_type": "execute_result"
    }
   ],
   "source": [
    "stock_info.columns"
   ]
  },
  {
   "cell_type": "code",
   "execution_count": 14,
   "metadata": {},
   "outputs": [],
   "source": [
    "stock_info['text_for_embedding'] = stock_info['sector'] + ' ' + stock_info['industry']  + ' ' + stock_info['country']\n",
    "# convert text_for_embedding to string\n",
    "stock_info['text_for_embedding'] = stock_info['text_for_embedding'].astype(str)"
   ]
  },
  {
   "cell_type": "code",
   "execution_count": 15,
   "metadata": {},
   "outputs": [],
   "source": [
    "tfidf_vectorizer = TfidfVectorizer()\n",
    "tfidf_matrix = tfidf_vectorizer.fit_transform(stock_info['text_for_embedding'])"
   ]
  },
  {
   "cell_type": "code",
   "execution_count": 16,
   "metadata": {},
   "outputs": [],
   "source": [
    "\n",
    "df_tfidf = pd.DataFrame(tfidf_matrix.toarray(), columns=tfidf_vectorizer.get_feature_names_out())"
   ]
  },
  {
   "cell_type": "code",
   "execution_count": 17,
   "metadata": {},
   "outputs": [],
   "source": [
    "df_tfidf['isin'] = stock_info['isin']\n",
    "# set isin as index\n",
    "df_tfidf.set_index('isin', inplace=True)"
   ]
  },
  {
   "cell_type": "code",
   "execution_count": 18,
   "metadata": {},
   "outputs": [],
   "source": [
    "cosine_sim = cosine_similarity(tfidf_matrix, tfidf_matrix)\n",
    "cosine_sim_df = pd.DataFrame(cosine_sim, index=stock_info['isin'], columns=stock_info['isin'])\n",
    "np.fill_diagonal(cosine_sim_df.values, np.nan)"
   ]
  },
  {
   "cell_type": "code",
   "execution_count": 19,
   "metadata": {},
   "outputs": [
    {
     "data": {
      "text/plain": [
       "isin\n",
       "US0378331005    0.748241\n",
       "KR7005930003    0.532537\n",
       "JP3633400001    0.358295\n",
       "JP3538800008    0.355751\n",
       "JP3621000003    0.299956\n",
       "JP3705200008    0.267820\n",
       "IE00B4BNMY34    0.262319\n",
       "JP3566800003    0.256446\n",
       "JP3890350006    0.250363\n",
       "JP3802400006    0.226913\n",
       "Name: JP3435000009, dtype: float64"
      ]
     },
     "execution_count": 19,
     "metadata": {},
     "output_type": "execute_result"
    }
   ],
   "source": [
    "cosine_sim_df['JP3435000009'].sort_values(ascending=False).head(10)"
   ]
  }
 ],
 "metadata": {
  "kernelspec": {
   "display_name": "finance",
   "language": "python",
   "name": "python3"
  },
  "language_info": {
   "codemirror_mode": {
    "name": "ipython",
    "version": 3
   },
   "file_extension": ".py",
   "mimetype": "text/x-python",
   "name": "python",
   "nbconvert_exporter": "python",
   "pygments_lexer": "ipython3",
   "version": "3.10.12"
  }
 },
 "nbformat": 4,
 "nbformat_minor": 2
}
